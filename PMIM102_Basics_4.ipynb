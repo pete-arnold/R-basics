{
 "cells": [
  {
   "cell_type": "markdown",
   "metadata": {},
   "source": [
    "<table width='100%'><tr>\n",
    "    <td style='background-color:red; text-align:center; color: white;'><!--Foundation<!--hr size='5' style='border-color:red; background-color:red;'--></td>\n",
    "    <td style='background-color:yellow; text-align:center;'><!--Level 1<!--hr size='5' style='border-color:yellow; background-color:yellow;'--></td>\n",
    "    <td style='background-color:orange; text-align:center;'><!--Level 2<!--hr size='5' style='border-color:orange; background-color:orange;'--></td>\n",
    "    <td style='background-color:green; text-align:center; color: white;'><!--Level 3<!--hr size='5' style='border-color:orange; background-color:orange;'--></td>\n",
    "    <td style='background-color:blue; text-align:center; color: white;'><!--Level 4<!--hr size='5' style='border-color:orange; background-color:orange;'--></td>\n",
    "    <td style='background-color:purple; text-align:center; color: white;'><!--Level 5<!--hr size='5' style='border-color:orange; background-color:orange;'--></td>\n",
    "    <td style='background-color:brown; text-align:center; color: white;'><!--Level 6<!--hr size='5' style='border-color:orange; background-color:orange;'--></td>\n",
    "    <td style='background-color:black; text-align:center; color: white;'><!--Level 7<!--hr size='5' style='border-color:orange; background-color:orange;'--></td>\n",
    "</tr></table>"
   ]
  },
  {
   "cell_type": "markdown",
   "metadata": {},
   "source": [
    "<table style='border-left:10px solid yellow;'><tr>\n",
    "    <td style='padding-left:20px;'>\n",
    "        <h2><i>Swansea University Medical School</i><br/><b>MSc Health Data Science</b></h2>\n",
    "        <h3>PMIM-102 Introduction to Scientific Computing in Healthcare</h3>\n",
    "        <h1><b>R programming</b></h1>\n",
    "        <h2><i>Part 4: Customising your code.</i></h2>\n",
    "        <h3><i>October 2021</i></h3>\n",
    "        <h3><b>To-do</b></h3>\n",
    "        <ul>\n",
    "            <li>Nothing.</li>\n",
    "        </ul>\n",
    "    </td>\n",
    "    <td><img height='300' width='500' src='images/cover.jpg'/></td>\n",
    "</tr></table>"
   ]
  },
  {
   "cell_type": "markdown",
   "metadata": {},
   "source": [
    "## __Aim__: Learn how to make the computer do what we want and get information from the data\n",
    "\n",
    "The aim of this session is to introduce the basic principles of programming using <code>R</code>.\n",
    "\n",
    "### __A map of where we're going__\n",
    "\n",
    "1. __From calculator to computer__ - numbers (__variables__) and how to do things to them (__operators, expressions and functions__) and organise things (__programs, files and libraries__).\n",
    "\n",
    "1. __Tables of data__ - how to organise data-science type datasets (vectors, lists and data frames).\n",
    "\n",
    "1. __What R is good at__ - doing things on all the data at the same time.\n",
    "\n",
    "1. <div style=\"background-color:yellow;\"><b>Customising your code</b> - making repetition easier to do, to read and to write.<br/></div><br/>\n",
    "\n",
    "1. __Controlling the computer when you have to__ - control techniques - loops (do ... while), conditions (if ... else).\n",
    "\n",
    "1. __Safe researcher training__ - things you need to know to ensure that you don't disclose personal data."
   ]
  },
  {
   "cell_type": "markdown",
   "metadata": {},
   "source": [
    "Notes\n",
    "\n",
    "How to make your own functions.\n",
    "How to organise them.\n"
   ]
  },
  {
   "cell_type": "markdown",
   "metadata": {},
   "source": [
    "## __Customising your code__\n",
    "\n",
    "One of the most useful things about a general-purpose programming language like R is that you can create and share pieces of code - most of the functions you have been using have been created in this way.\n",
    "\n",
    "There are a number of advantages to creating and using your own customised functions:\n",
    "\n",
    "* Your code can be made to read like the series of steps that you actually take in your analysis.\n",
    "* You can call your functions many times, but only have to write them once.\n",
    "* If you need to change your code at some point in the future to improve your analysis, you will only need to change it in one place and all the calls to the function will use the updated code.\n",
    "* You can separate functionality into logical units which you may well be able to re-use later (saving time and energy).\n",
    "* You can collect all your related functions into a single file (or a Package - which is a library) making it easy to share between projects and with others.\n",
    "\n",
    "We will go into the creation of packages during the Health Data Modelling module as that is quite an advanced topic. However, it is worth working towards that as a goal even if just for your own project code as the techniques utilised are the best practice techniques for reproducible, open science."
   ]
  },
  {
   "cell_type": "markdown",
   "metadata": {},
   "source": [
    "### _Recap on functions_\n",
    "\n",
    "Functions are named chunks of code.\n",
    "\n",
    "They ought to be defined cleanly - there are lots of software engineering guidelines about how to design functions, groups of functions, classes etc. properly to maximise re-usability, generalisability and to avoid things getting complicated when changes are needed. Whilst all of these guidelines are good to know, they are really quite advanced and we can summarise a few simple suggestions here:\n",
    "\n",
    "* Create a function for any code you find yourself cutting and pasting.\n",
    "* Create a function for a distinct activity in your analysis e.g. handling missing data, creating a survival plot.\n",
    "* Create a function so that your main analysis code reads like an instruction list of the tasks involved in the analysis.\n",
    "* Keep functions simple. If you want a complex function, write functions for the function to use and expand your hierarchy.\n",
    "\n",
    "We'll go into how make design choices during this module. Mostly you'll get used to how best to organise your code by doing it making improvements as you go. Here we'll just cover the basics of creating functions."
   ]
  },
  {
   "cell_type": "markdown",
   "metadata": {},
   "source": [
    "### _Anatomy of a function_\n",
    "\n",
    "As we mentioned in Notebook 1, a function has a number of parts:\n",
    "\n",
    "* The body of the function is like a black-box. The user doesn't need to know what goes on inside - for example, you will have only a hint of what print() actually does (and whether there are actually many different print() functions and you have used different functions when you print different things).\n",
    "\n",
    "* The inputs to the function. You need to specify these to give the function something to work on/with.\n",
    "\n",
    "* The output of the function. There may not be anything in terms of the code (print() doesn't produce a value the code needs to know about, it just displays some information on the screen - sqrt(n), however, does return a value, the square-root of the input parameter, n.\n",
    "\n",
    "We'll look at these all in enough detail to enable you to create your own functions."
   ]
  },
  {
   "cell_type": "markdown",
   "metadata": {},
   "source": [
    "#### _The body of a function_\n",
    "\n",
    "This is the code that the function runs when it is called. We tell R where the code begins and ends by using the curly braces `{` and `}`, for example,\n",
    "\n",
    "`{\n",
    "    # Some code.\n",
    "}`\n",
    "\n",
    "But we also need to tell R that this is a function, so we add the keyword `function()` at the start:\n",
    "\n",
    "`function() {\n",
    "    # Some code.\n",
    "}`\n",
    "\n",
    "And we have to give it a name so that we can refer to it. We do that by assigning the function to a name just like you assign a value to a variable:\n",
    "\n",
    "`my_function <- function() {\n",
    "    # Some code.\n",
    "}`\n",
    "\n",
    "And, apart from putting some real code, where the `# Some code.` comment is, that's a function. So let's create a function to display some text in a different colour.\n",
    "\n",
    "To do this we will use the `crayon` library and its colour function. To create a function called `blue_now()` which will display the time and date in blue, we use:\n",
    "\n",
    "`blue_now <- function() {\n",
    "    cat(blue(date()))\n",
    "}`\n",
    "\n",
    "And then, anytime we want to display that blue message, we just need to call the function:\n",
    "\n",
    "`blue_now()`"
   ]
  },
  {
   "cell_type": "code",
   "execution_count": 1,
   "metadata": {},
   "outputs": [
    {
     "name": "stdout",
     "output_type": "stream",
     "text": [
      "\u001b[34mSun Oct 10 12:08:50 2021\u001b[39m"
     ]
    }
   ],
   "source": [
    "library(crayon)\n",
    "blue_now <- function(){\n",
    "    cat(blue(date()))\n",
    "}\n",
    "blue_now()"
   ]
  },
  {
   "cell_type": "markdown",
   "metadata": {},
   "source": [
    "And so, from here on, any time we want to display the current date/time in blue, we just have to run blue_now()."
   ]
  },
  {
   "cell_type": "code",
   "execution_count": 2,
   "metadata": {},
   "outputs": [
    {
     "name": "stdout",
     "output_type": "stream",
     "text": [
      "\u001b[34mSun Oct 10 12:08:50 2021\u001b[39m"
     ]
    }
   ],
   "source": [
    "blue_now()"
   ]
  },
  {
   "cell_type": "markdown",
   "metadata": {},
   "source": [
    "#### _Output from a function_\n",
    "\n",
    "The blue_now() function just displayed the current date, but it may be that you will want to include the blue text in some other text before you display, so rather than display the date immediately, you might want your function to return the blue date (i.e. the blue date will be the output of the function).\n",
    "\n",
    "This can be done by including a return() instruction in the function body. Note that when we redefine a function with the same name as an existing function we overwrite that function and anything that uses the function will now use our redesigned function."
   ]
  },
  {
   "cell_type": "code",
   "execution_count": 3,
   "metadata": {},
   "outputs": [
    {
     "data": {
      "text/html": [
       "'\\033[34mSun Oct 10 12:08:50 2021\\033[39m'"
      ],
      "text/latex": [
       "'\\textbackslash{}033{[}34mSun Oct 10 12:08:50 2021\\textbackslash{}033{[}39m'"
      ],
      "text/markdown": [
       "'\\033[34mSun Oct 10 12:08:50 2021\\033[39m'"
      ],
      "text/plain": [
       "[1] \"\\033[34mSun Oct 10 12:08:50 2021\\033[39m\""
      ]
     },
     "metadata": {},
     "output_type": "display_data"
    }
   ],
   "source": [
    "library(crayon)\n",
    "blue_now <- function(){\n",
    "    return(blue(date()))\n",
    "}\n",
    "blue_now()"
   ]
  },
  {
   "cell_type": "markdown",
   "metadata": {},
   "source": [
    "And we can now use this string as any other string."
   ]
  },
  {
   "cell_type": "code",
   "execution_count": 4,
   "metadata": {},
   "outputs": [
    {
     "name": "stdout",
     "output_type": "stream",
     "text": [
      "The time now is \u001b[34mSun Oct 10 12:08:51 2021\u001b[39m .\n"
     ]
    }
   ],
   "source": [
    "cat(\"The time now is\", blue_now(), \".\\n\")"
   ]
  },
  {
   "cell_type": "markdown",
   "metadata": {},
   "source": [
    "#### _Input to a function_\n",
    "\n",
    "Most functions require some information on which to work or some indication of how to do their work. For example, the square-root function needs to know what number to take the square-root of, the print() function need to know what to print.\n",
    "\n",
    "Sometimes the input is just a modifier like the na.rm parameter in the mean() function which just tells mean() not to include NA value in the calculation of the mean.\n",
    "\n",
    "All we need to do to define input parameters is to name them between the brackets of the function definition. The order is important as R will set the parameter values in the order specified.\n",
    "\n",
    "Once you have named the parameter in the brackets that value is available in the function body (and only in the body, once the function stops running the value used is lost).\n",
    "\n",
    "Suppose that we'd like to change our blue_now function to include some additional text to also be coloured blue. We would do that by adding an input parameter named `text`."
   ]
  },
  {
   "cell_type": "code",
   "execution_count": 5,
   "metadata": {},
   "outputs": [
    {
     "data": {
      "text/html": [
       "<span style=white-space:pre-wrap>'\\033[34mToday:  Sun Oct 10 12:08:51 2021\\033[39m'</span>"
      ],
      "text/latex": [
       "'\\textbackslash{}033{[}34mToday:  Sun Oct 10 12:08:51 2021\\textbackslash{}033{[}39m'"
      ],
      "text/markdown": [
       "<span style=white-space:pre-wrap>'\\033[34mToday:  Sun Oct 10 12:08:51 2021\\033[39m'</span>"
      ],
      "text/plain": [
       "[1] \"\\033[34mToday:  Sun Oct 10 12:08:51 2021\\033[39m\""
      ]
     },
     "metadata": {},
     "output_type": "display_data"
    },
    {
     "name": "stdout",
     "output_type": "stream",
     "text": [
      "\u001b[34mToday:  Sun Oct 10 12:08:51 2021\u001b[39m"
     ]
    }
   ],
   "source": [
    "library(crayon)\n",
    "blue_now <- function(text){\n",
    "    return(blue(paste(text, date())))\n",
    "}\n",
    "output <- blue_now('Today: ')\n",
    "output\n",
    "cat(output)"
   ]
  },
  {
   "cell_type": "markdown",
   "metadata": {},
   "source": [
    "We could add another parameter to indicate if we want an alarm marker."
   ]
  },
  {
   "cell_type": "code",
   "execution_count": 6,
   "metadata": {},
   "outputs": [
    {
     "name": "stdout",
     "output_type": "stream",
     "text": [
      "\u001b[34mToday:  Sun Oct 10 12:08:51 2021 ALARM\u001b[39m"
     ]
    }
   ],
   "source": [
    "library(crayon)\n",
    "blue_now <- function(text, alarm){\n",
    "    alarm_text <- ifelse(alarm, 'ALARM', '')\n",
    "    return(blue(paste(text, date(), alarm_text)))\n",
    "}\n",
    "output <- blue_now('Today: ', TRUE)\n",
    "cat(output)"
   ]
  },
  {
   "cell_type": "markdown",
   "metadata": {},
   "source": [
    "Remember that R uses the parameters in the order given, so if you get them round the wrong way, you may get odd output."
   ]
  },
  {
   "cell_type": "code",
   "execution_count": 7,
   "metadata": {},
   "outputs": [
    {
     "name": "stdout",
     "output_type": "stream",
     "text": [
      "\u001b[34mTRUE Sun Oct 10 12:08:51 2021 NA\u001b[39m"
     ]
    }
   ],
   "source": [
    "output <- blue_now(TRUE, 'Today: ')\n",
    "cat(output)"
   ]
  },
  {
   "cell_type": "markdown",
   "metadata": {},
   "source": [
    "Now we can see two additional features of function input. The first is that we can name the parameters when we use them, so that we don't have to remember the order they were specified."
   ]
  },
  {
   "cell_type": "code",
   "execution_count": 8,
   "metadata": {},
   "outputs": [
    {
     "name": "stdout",
     "output_type": "stream",
     "text": [
      "\u001b[34mToday:  Sun Oct 10 12:08:51 2021 ALARM\u001b[39m"
     ]
    }
   ],
   "source": [
    "output <- blue_now(alarm=TRUE, text='Today: ')\n",
    "cat(output)"
   ]
  },
  {
   "cell_type": "markdown",
   "metadata": {},
   "source": [
    "And the other useful feature is that we can define default values for the parameters so that we don't actually have to specify them unless we want to change form that default."
   ]
  },
  {
   "cell_type": "code",
   "execution_count": 9,
   "metadata": {},
   "outputs": [
    {
     "name": "stdout",
     "output_type": "stream",
     "text": [
      "\u001b[34mToday:  Sun Oct 10 12:08:51 2021  \n",
      "\u001b[39m\u001b[34mNow:  Sun Oct 10 12:08:51 2021  \n",
      "\u001b[39m\u001b[34mNow:  Sun Oct 10 12:08:51 2021 ALARM \n",
      "\u001b[39m"
     ]
    }
   ],
   "source": [
    "library(crayon)\n",
    "blue_now <- function(text='Now: ', alarm=FALSE){\n",
    "    alarm_text <- ifelse(alarm, 'ALARM', '')\n",
    "    return(blue(paste(text, date(), alarm_text, '\\n')))\n",
    "}\n",
    "cat(blue_now('Today: '))\n",
    "cat(blue_now())\n",
    "cat(blue_now(alarm=TRUE))"
   ]
  },
  {
   "cell_type": "markdown",
   "metadata": {},
   "source": [
    "<div style='background:#ddddcc;border:1px;border-radius:10px;padding:10px;border-style: solid;border-color:dark-gray;'>\n",
    "<h4><i>Exercise: create a function to calculate the BMI.</i></h4>\n",
    "\n",
    "The function will need to take the weight and height and return the BMI.\n",
    "Hints:\n",
    "    <ol>\n",
    "        <li>BMI = weight(kg) / (height(m) ^ 2).</li>\n",
    "        <li>Test the function - find a website with some values and see if you match them.</li>\n",
    "    </ol>\n",
    "    \n",
    "There is a solution in the box below but you will need to decode it first.\n",
    "</div>"
   ]
  },
  {
   "cell_type": "code",
   "execution_count": 12,
   "metadata": {},
   "outputs": [],
   "source": [
    "# This code will produce a possible solution to the exercise. Simply remove the\n",
    "# commment character from the start of the last line, run this segment and copy\n",
    "# and paste the resulting code into another box or RStudio and run it.\n",
    "library(caTools)\n",
    "decode <- function(string){\n",
    "    cat(base64decode(string, what='character'))\n",
    "}\n",
    "solution <- 'Ym1pIDwtIGZ1bmN0aW9uKHdlaWdodF9rZywgaGVpZ2h0X2NtKXsKICAgIGJtaSA8LSB3ZWlnaHRfa2cgLyAoKGhlaWdodF9jbSAvIDEwMCkgXiAyKQogICAgcmV0dXJuKGJtaSkKfQpibWkod2VpZ2h0X2tnPTcwLCBoZWlnaHRfY209MTUwKSAgICMgU2hvdWxkIGJlIDMxLjEgKGh0dHBzOi8vd3d3Lm5ocy51ay9saXZlLXdlbGwvaGVhbHRoeS13ZWlnaHQvYm1pLWNhbGN1bGF0b3IvKQpibWkoODAsIDE4MCkgICAgICAgICAgICAgICAgICAgICAgICMgU2hvdWxkIGJlIDI0LjYu'\n",
    "# decode(solution)"
   ]
  },
  {
   "cell_type": "markdown",
   "metadata": {},
   "source": [
    "#### _Documenting your functions_\n",
    "\n",
    "It is a really good idea to document your functions. There are automatic documentation generating libraries such as roxygen that will take the comments you add to your code and create actual documentation (as you see when you type ?help in the R interpreter).\n",
    "\n",
    "You may look something like:"
   ]
  },
  {
   "cell_type": "code",
   "execution_count": 13,
   "metadata": {},
   "outputs": [],
   "source": [
    "#' Create a blue time string with time = now.\n",
    "#'\n",
    "#' This function produces a string of the time now. It can be prefixed with a\n",
    "#' supplied string and an alaem string requested.\n",
    "#'\n",
    "#' @param text  The prefix string.\n",
    "#' @param alarm Logical flag indicating if an alarm should be displayed.\n",
    "#' @return A string with blue control characters, the date/time now and an\n",
    "#'         alarm if requested.\n",
    "#' @examples\n",
    "#' blue_now()\n",
    "#' blue_now(text=\"Today is \"))\n",
    "#' blue_now(alarm=TRUE)\n",
    "#' blue_now(\"NOW:\", FALSE))\n",
    "blue_now <- function(text='Now: ', alarm=FALSE){\n",
    "    alarm_text <- ifelse(alarm, 'ALARM', '')\n",
    "    return(blue(paste(text, date(), alarm_text, '\\n')))\n",
    "}\n"
   ]
  },
  {
   "cell_type": "markdown",
   "metadata": {},
   "source": [
    "#### _Organising your functions_\n",
    "\n",
    "I would recommend that you keep your functions in a separate file from the code that actually runs your analysis. Ideally the files with the function definitions shouldn't actually do anything when the file is run (or sourced) except define the functions.\n",
    "\n",
    "For example, the code in the box above that includes all the documentation might be in a file called, perhap, `coloured_text.R` and, if your analysis file, say, analysis.R, needs to use these functions, it will import their definitions using:\n",
    "\n",
    "source('./couloured_text.R')\n",
    "\n",
    "This won't work here as I haven't created that file - but I have got one called demo.R which we can import and then use the defined redtext() function."
   ]
  },
  {
   "cell_type": "code",
   "execution_count": 14,
   "metadata": {},
   "outputs": [
    {
     "name": "stdout",
     "output_type": "stream",
     "text": [
      "\u001b[41mSun Oct 10 12:08:51 2021\u001b[49m"
     ]
    }
   ],
   "source": [
    "source('./demo.R')\n",
    "redtext(date())"
   ]
  },
  {
   "cell_type": "markdown",
   "metadata": {},
   "source": [
    "As you get more functions, you can separate them into different files according to their functionality. So bear in mind, when you create your functions that they should only really do one specific thing, not try to do several things - in that case use several functions."
   ]
  },
  {
   "cell_type": "markdown",
   "metadata": {},
   "source": [
    "<table width='100%'><tr>\n",
    "    <td style='background-color:red; text-align:center; color: white;'><!--Foundation<!--hr size='5' style='border-color:red; background-color:red;'--></td>\n",
    "    <td style='background-color:yellow; text-align:center;'><!--Level 1<!--hr size='5' style='border-color:yellow; background-color:yellow;'--></td>\n",
    "    <td style='background-color:orange; text-align:center;'><!--Level 2<!--hr size='5' style='border-color:orange; background-color:orange;'--></td>\n",
    "    <td style='background-color:green; text-align:center; color: white;'><!--Level 3<!--hr size='5' style='border-color:orange; background-color:orange;'--></td>\n",
    "    <td style='background-color:blue; text-align:center; color: white;'><!--Level 4<!--hr size='5' style='border-color:orange; background-color:orange;'--></td>\n",
    "    <td style='background-color:purple; text-align:center; color: white;'><!--Level 5<!--hr size='5' style='border-color:orange; background-color:orange;'--></td>\n",
    "    <td style='background-color:brown; text-align:center; color: white;'><!--Level 6<!--hr size='5' style='border-color:orange; background-color:orange;'--></td>\n",
    "    <td style='background-color:black; text-align:center; color: white;'><!--Level 7<!--hr size='5' style='border-color:orange; background-color:orange;'--></td>\n",
    "</tr></table>"
   ]
  }
 ],
 "metadata": {
  "kernelspec": {
   "display_name": "R",
   "language": "R",
   "name": "ir"
  },
  "language_info": {
   "codemirror_mode": "r",
   "file_extension": ".r",
   "mimetype": "text/x-r-source",
   "name": "R",
   "pygments_lexer": "r",
   "version": "4.0.5"
  }
 },
 "nbformat": 4,
 "nbformat_minor": 4
}
