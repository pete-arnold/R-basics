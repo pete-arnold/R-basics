{
 "cells": [
  {
   "cell_type": "markdown",
   "metadata": {},
   "source": [
    "<table width='100%'><tr>\n",
    "    <td style='background-color:red; text-align:center; color: white;'><!--Foundation<!--hr size='5' style='border-color:red; background-color:red;'--></td>\n",
    "    <td style='background-color:yellow; text-align:center;'><!--Level 1<!--hr size='5' style='border-color:yellow; background-color:yellow;'--></td>\n",
    "    <td style='background-color:orange; text-align:center;'><!--Level 2<!--hr size='5' style='border-color:orange; background-color:orange;'--></td>\n",
    "    <td style='background-color:green; text-align:center; color: white;'><!--Level 3<!--hr size='5' style='border-color:orange; background-color:orange;'--></td>\n",
    "    <td style='background-color:blue; text-align:center; color: white;'><!--Level 4<!--hr size='5' style='border-color:orange; background-color:orange;'--></td>\n",
    "    <td style='background-color:purple; text-align:center; color: white;'><!--Level 5<!--hr size='5' style='border-color:orange; background-color:orange;'--></td>\n",
    "    <td style='background-color:brown; text-align:center; color: white;'><!--Level 6<!--hr size='5' style='border-color:orange; background-color:orange;'--></td>\n",
    "    <td style='background-color:black; text-align:center; color: white;'><!--Level 7<!--hr size='5' style='border-color:orange; background-color:orange;'--></td>\n",
    "</tr></table>"
   ]
  },
  {
   "cell_type": "markdown",
   "metadata": {},
   "source": [
    "<table style='border-left:10px solid yellow;'><tr>\n",
    "    <td style='padding-left:20px;'>\n",
    "        <h2><i>Swansea University Medical School</i><br/><b>MSc Health Data Science</b></h2>\n",
    "        <h3>PMIM-102 Introduction to Scientific Computing in Healthcare</h3>\n",
    "        <h1><b>R programming</b></h1>\n",
    "        <h2><i>Part 5: Controlling the computer when you have to.</i></h2>\n",
    "        <h3><i>October 2021</i></h3>\n",
    "        <h3><b>To-do</b></h3>\n",
    "        <ul>\n",
    "            <li>Nothing.</li>\n",
    "        </ul>\n",
    "    </td>\n",
    "    <td><img height='300' width='500' src='images/cover.jpg'/></td>\n",
    "</tr></table>"
   ]
  },
  {
   "cell_type": "markdown",
   "metadata": {},
   "source": [
    "## __Aim__: Learn how to make the computer do what we want and get information from the data\n",
    "\n",
    "The aim of this session is to introduce the basic principles of programming using <code>R</code>.\n",
    "\n",
    "### __A map of where we're going__\n",
    "\n",
    "1. __From calculator to computer__ - numbers (__variables__) and how to do things to them (__operators, expressions and functions__) and organise things (__programs, files and libraries__).\n",
    "\n",
    "1. __Tables of data__ - how to organise data-science type datasets (vectors, lists and data frames).\n",
    "\n",
    "1. __What R is good at__ - doing things on all the data at the same time.\n",
    "\n",
    "1. __Customising your code__ - making repetition easier to do, to read and to write.\n",
    "\n",
    "1. <div style=\"background-color:yellow;\"><b>Controlling the computer when you have to</b> - control techniques - loops (do ... while), conditions (if ... else).<br/></div><br/>\n",
    "\n",
    "1. __Safe researcher training__ - things you need to know to ensure that you don't disclose personal data."
   ]
  },
  {
   "cell_type": "markdown",
   "metadata": {},
   "source": [
    "## __Controlling the computer__\n",
    "\n",
    "As we mentioned in Notebook 3, R is really good at working across entire tables using instructions that should apply to all rows. This is a bit different to more general programming languages such as Python and C++ where you often produce algorithms that work through tables using loops and conditions to control what is done and when.\n",
    "\n",
    "Sometimes, however, R's cleverness can't cope and you need to resort to these techniques to get some tasks done. Usually this will be for simple repetetive tasks on something other than a data frame or because you are updating a column in the data frame that you are using to define the action (e.g. if you wanted to adjust values in a time-series of a patient's results) - the tidyverse won't cope with that as it works on a copy of the data frame and doesn't update the frame until it has finished all the changes so the intermediate values are not available.\n",
    "\n",
    "There are two different aspects of control available - making decisions about what code is run (__if/else + conditions__) and running code multiple times (__loops__)."
   ]
  },
  {
   "cell_type": "markdown",
   "metadata": {},
   "source": [
    "### _Making decisions_\n",
    "\n",
    "You can decide if you want to run a chunk of code by using an __if__ statement. The __if__ statement has a condition associated with which it evaluates. If the evaluation results in a logical TRUE value, the following code is executed, if FALSE, the code is ignored.\n",
    "\n",
    "The conditions are just logical expressions: we have come across some of these briefly, and they take the form:\n",
    "\n",
    "`if (x == y) { \n",
    "    # Some code.\n",
    "}`\n",
    "\n",
    "Which reads as \"if x is equal to y then execute the code in the curly brackets otherwise skip it\". For example:"
   ]
  },
  {
   "cell_type": "code",
   "execution_count": 1,
   "metadata": {},
   "outputs": [
    {
     "name": "stdout",
     "output_type": "stream",
     "text": [
      "[1] \"X and Y are the same!\"\n"
     ]
    }
   ],
   "source": [
    "x <- 10\n",
    "y <- 10\n",
    "if (x == y){\n",
    "    print('X and Y are the same!')\n",
    "}"
   ]
  },
  {
   "cell_type": "markdown",
   "metadata": {},
   "source": [
    "Try that with different values. If, instead of doing nothing, you want to do something different if x and y are different, you can use an `else`:"
   ]
  },
  {
   "cell_type": "code",
   "execution_count": 2,
   "metadata": {},
   "outputs": [
    {
     "name": "stdout",
     "output_type": "stream",
     "text": [
      "[1] \"X and Y are different!\"\n"
     ]
    }
   ],
   "source": [
    "x <- 10\n",
    "y <- 11\n",
    "if (x == y){\n",
    "    print('X and Y are the same!')\n",
    "} else {\n",
    "    print('X and Y are different!')\n",
    "}"
   ]
  },
  {
   "cell_type": "markdown",
   "metadata": {},
   "source": [
    "<div style='background:#ddddcc;border:1px;border-radius:10px;padding:10px;border-style: solid;border-color:dark-gray;'>\n",
    "<h4><i>Exercise: write a condition that distinguishes between the BMI levels, underweight, healthy, overweight and obese.</i></h4>\n",
    "\n",
    "Hints:\n",
    "    <ol>\n",
    "        <li>Define a variable bmi and compare it to the threshold values in a specific order.</li>\n",
    "        <li>You can use `} else if () {`.</li>\n",
    "    </ol>\n",
    "    \n",
    "There is a solution in the box below but you will need to decode it first.\n",
    "</div>"
   ]
  },
  {
   "cell_type": "code",
   "execution_count": 5,
   "metadata": {},
   "outputs": [],
   "source": [
    "# This code will produce a possible solution to the exercise. Simply remove the\n",
    "# commment character from the start of the last line, run this segment and copy\n",
    "# and paste the resulting code into another box or RStudio and run it.\n",
    "library(caTools)\n",
    "decode <- function(string){\n",
    "    cat(base64decode(string, what='character'))\n",
    "}\n",
    "solution <- 'Ym1pIDwtIDIyCmlmIChibWkgPCAxOC41KSB7CiAgICBwcmludCgnVW5kZXJ3ZWlnaHQnKQp9IGVsc2UgaWYgKGJtaSA8IDI1LjApIHsKICAgIHByaW50KCdIZWFsdGh5JykKfSBlbHNlIGlmIChibWkgPCAzMC4wKSB7CiAgICBwcmludCgnT3ZlcndlaWdodCcpCn0gZWxzZSB7CiAgICBwcmludCgnT2Jlc2UnKQp9'\n",
    "# decode(solution)"
   ]
  },
  {
   "cell_type": "markdown",
   "metadata": {},
   "source": [
    "#### _Other conditional expressions_\n",
    "\n",
    "As well as 'is equal to', we have:\n",
    "\n",
    "* !=     is not equal to\n",
    "* &gt;   is greater than\n",
    "* &gt;=  is greater than or equal to\n",
    "* &lt;   is less than\n",
    "* &lt;=  is less than or equal to\n",
    "\n",
    "And some functions for special situations:\n",
    "\n",
    "* is.na(x)   x is equal to NA\n",
    "\n",
    "These can be combined in logical expressions:\n",
    "\n",
    "* &amp;  --- AND - i.e. x &amp; y - TRUE if both x AND y are TRUE\n",
    "* | --- OR - i.e. x | y - TRUE if either x OR y or both are TRUE\n",
    "* ! --- NOT - ie. !x - TRUE if x is FALSE"
   ]
  },
  {
   "cell_type": "markdown",
   "metadata": {},
   "source": [
    "A slightly different output for the BMI values makes use of these facilities:"
   ]
  },
  {
   "cell_type": "code",
   "execution_count": 6,
   "metadata": {},
   "outputs": [
    {
     "name": "stdout",
     "output_type": "stream",
     "text": [
      "[1] \"obese\"\n"
     ]
    }
   ],
   "source": [
    "bmi <- 37\n",
    "if (bmi > 18.5 & bmi <= 25.0) {\n",
    "    print('healthy')\n",
    "} else if ((bmi > 25.0 & bmi <= 30.0) | (bmi <= 18.5)) {\n",
    "    print('overweight or underweight')\n",
    "} else if (bmi > 30.0) {\n",
    "    print('obese')\n",
    "}"
   ]
  },
  {
   "cell_type": "markdown",
   "metadata": {},
   "source": [
    "One really important use of __if()__ statements is in parameter checking. For example, we might want to check the values that are provided in the BMI calculation function."
   ]
  },
  {
   "cell_type": "code",
   "execution_count": 7,
   "metadata": {},
   "outputs": [
    {
     "data": {
      "text/html": [
       "24.6913580246914"
      ],
      "text/latex": [
       "24.6913580246914"
      ],
      "text/markdown": [
       "24.6913580246914"
      ],
      "text/plain": [
       "[1] 24.69136"
      ]
     },
     "metadata": {},
     "output_type": "display_data"
    },
    {
     "name": "stdout",
     "output_type": "stream",
     "text": [
      "[1] \"Weight provided is too low.\"\n"
     ]
    }
   ],
   "source": [
    "bmi <- function(weight_kg, height_cm){\n",
    "    if (weight_kg < 10) {\n",
    "        return(-1)\n",
    "    }\n",
    "    bmi <- weight_kg / ((height_cm / 100) ^ 2)\n",
    "    return(bmi)\n",
    "}\n",
    "bmi(80, 180)                       # Should be 24.6.\n",
    "if (bmi(8,50) < 0) print(\"Weight provided is too low.\")\n"
   ]
  },
  {
   "cell_type": "markdown",
   "metadata": {},
   "source": [
    "The point about returning the negative value for BMI and not displaying the message in the bmi() function is that it is easily checked by the calling code and the calling code can then produce the message if it is being used where a user is present, or just the log the error if not - it leaves it up to the calling code to decide. "
   ]
  },
  {
   "cell_type": "markdown",
   "metadata": {},
   "source": [
    "<div style='background:#ddddcc;border:1px;border-radius:10px;padding:10px;border-style: solid;border-color:dark-gray;'>\n",
    "<h4><i>Exercise: write a function that, given a BMI value, returns a string indicating it fits which of the BMI levels, underweight, healthy, overweight and obese.</i></h4>\n",
    "\n",
    "Then apply it to the starwars BMI data frame from Notebook 3.\n",
    "\n",
    "Hints:\n",
    "    <ol>\n",
    "        <li>Define a variable bmi and compare it to the threshold values in a specific order.</li>\n",
    "        <li>This is a bit of a trick question to illustrate a common problem - it uses conditions but not if() statements.</li>\n",
    "    </ol>\n",
    "    \n",
    "There is a solution in the box below but you will need to decode it first.\n",
    "</div>"
   ]
  },
  {
   "cell_type": "code",
   "execution_count": 10,
   "metadata": {},
   "outputs": [],
   "source": [
    "# This code will produce a possible solution to the exercise. Simply remove the\n",
    "# commment character from the start of the last line, run this segment and copy\n",
    "# and paste the resulting code into another box or RStudio and run it.\n",
    "library(caTools)\n",
    "decode <- function(string){\n",
    "    cat(base64decode(string, what='character'))\n",
    "}\n",
    "solution <- 'bGlicmFyeShtYWdyaXR0cikKYm1pX2xldmVsXzEgPC0gZnVuY3Rpb24oYm1pKXsKICAgIGlmIChibWkgPCAxOC41KSBsZXZlbCA9ICd1bmRlcndlaWdodCcKICAgIGVsc2UgaWYgKGJtaSA8IDI1LjApIGxldmVsID0gJ2hlYWx0aHknCiAgICBlbHNlIGlmIChibWkgPCAzMC4wKSBsZXZlbCA9ICdvdmVyd2VpZ2h0JwogICAgZWxzZSBpZiAoYm1pIDwgNDAuMCkgbGV2ZWwgPSAnb2Jlc2UnCiAgICBlbHNlIGxldmVsID0gJ3Zlcnkgb2Jlc2UnCiAgICByZXR1cm4obGV2ZWwpCn0KYm1pX2xldmVsXzEoMjIpCmJtaV9sZXZlbCA8LSBmdW5jdGlvbihibWkpewogICAgYm1pW2JtaSA+PSA0MC4wXT0ndmVyeSBvYmVzZScgICAjIE11c3QgZG8gdGhpcyBmaXJzdCBhcyBhbGwgdGV4dCBlbnRyaWVzIGFyZSBjb25zaWRlcmVkID4gbnVtYmVycy4KICAgIGJtaVtibWkgPCAxOC41XT0ndW5kZXJ3ZWlnaHQnCiAgICBibWlbYm1pIDwgMjUuMF09J2hlYWx0aHknCiAgICBibWlbYm1pIDwgMzAuMF09J292ZXJ3ZWlnaHQnCiAgICBibWlbYm1pIDwgNDAuMF09J29iZXNlJwogICAgcmV0dXJuKGJtaSkKfQpibWlfbGV2ZWwoMjIpCnN0YXJ3YXJzX2JtaSA8LSBzdGFyd2FycyAlPiUKICAgIG11dGF0ZShCTUk9bWFzcy8oKGhlaWdodC8xMDApXjIpKQpzdGFyd2Fyc19ibWkgPC0gc3RhcndhcnNfYm1pICU+JQogICAgbXV0YXRlKEJNSV9MZXZlbD1ibWlfbGV2ZWwoQk1JKSkKaGVhZChzdGFyd2Fyc19ibWkp'\n",
    "# decode(solution)"
   ]
  },
  {
   "cell_type": "markdown",
   "metadata": {},
   "source": [
    "### _Running code over and over_\n",
    "\n",
    "There are many occasions when we need to repeat a section of code with slightly different inputs or data. This is were __loops__ come into their own. A loop simply defines a section of code that will be repeated. There are three different kinds of loop in R which differ according to whether you know at the start how many times you want to repeat the code, whether there is a simple condition you can use to decide if you have finished every time you start the loop or if the decision to exit the loop needs more flexibility - i.e. has to be made inside the loop or in several places/situations.\n",
    "\n",
    "These loops are:\n",
    "\n",
    "* __for__ loops when you know how many times you want to loop,\n",
    "* __while__ loops when you can check a condition is true every time you restart the loop, and\n",
    "* __repeat__ loops which leave you to break out of the loop at any point using the __break__ command.\n",
    "\n",
    "We'll look at each of these in turn."
   ]
  },
  {
   "cell_type": "markdown",
   "metadata": {},
   "source": [
    "### _for loops_\n",
    "\n",
    "When you know (or can calculate before the code runs) how many time you want to do something, you use a for loop. You simply need to assign a series of values to be used to a variable known as the __loop variable__, one after the other. R will start with the first value, set the loop variable to that value and run the code in the associated block (the part in the curly brackets follwing the for statement). When finished, R will repeat with the next value and so on until it is has used up all the values when it moves on to the code after the curly brackets.\n",
    "\n",
    "For example, to create a list of the multiples of a number, you can use a sequence (note that 1:12 is short for seq(1, 12, 1)):"
   ]
  },
  {
   "cell_type": "code",
   "execution_count": 11,
   "metadata": {},
   "outputs": [
    {
     "name": "stdout",
     "output_type": "stream",
     "text": [
      "[1] 6\n",
      "[1] 12\n",
      "[1] 18\n",
      "[1] 24\n",
      "[1] 30\n",
      "[1] 36\n",
      "[1] 42\n",
      "[1] 48\n",
      "[1] 54\n",
      "[1] 60\n",
      "[1] 66\n",
      "[1] 72\n"
     ]
    }
   ],
   "source": [
    "multiple <- 6\n",
    "for(i in 1:12){\n",
    "    print(i * multiple)\n",
    "}"
   ]
  },
  {
   "cell_type": "markdown",
   "metadata": {},
   "source": [
    "You can play with the sequence function, perhap, use multiples e.g. seq(1, 50, 5) and backwards e.g. seq(50, 0, -7).\n",
    "The values used for the loop variable do not have to be equally spaced or even sequential, you just have to provide a vector of values for R to work through."
   ]
  },
  {
   "cell_type": "code",
   "execution_count": 12,
   "metadata": {},
   "outputs": [
    {
     "name": "stdout",
     "output_type": "stream",
     "text": [
      "[1] 6\n",
      "[1] 24\n",
      "[1] -30\n",
      "[1] 0\n",
      "[1] 13.2\n"
     ]
    }
   ],
   "source": [
    "multiple <- 6\n",
    "values <- c(1, 4, -5, 0, 2.2)\n",
    "for(i in values){\n",
    "    print(i * multiple)\n",
    "}"
   ]
  },
  {
   "cell_type": "markdown",
   "metadata": {},
   "source": [
    "<div style='background:#ddddcc;border:1px;border-radius:10px;padding:10px;border-style: solid;border-color:dark-gray;'>\n",
    "<h4><i>Exercise: create a times-table output from 1x to 12x.</i></h4>\n",
    "\n",
    "The function will need to take the weight and height and return the BMI.\n",
    "    \n",
    "Hints:\n",
    "    <ol>\n",
    "        <li>You can use cat(n, ' ') to print values in a row with a space between (there are ways to make the spacing equal but that may be better saved to later.</li>\n",
    "        <li>You can have another for loop inside a for loop as long as the inner loop's code is completely contained in the out loop.</li>\n",
    "        <li>You will have to consider how to get the code to display the rows on separate lines.</li>\n",
    "    </ol>\n",
    "    \n",
    "There is a solution in the box below but you will need to decode it first.\n",
    "</div>"
   ]
  },
  {
   "cell_type": "code",
   "execution_count": 15,
   "metadata": {},
   "outputs": [],
   "source": [
    "# This code will produce a possible solution to the exercise. Simply remove the\n",
    "# commment character from the start of the last line, run this segment and copy\n",
    "# and paste the resulting code into another box or RStudio and run it.\n",
    "library(caTools)\n",
    "decode <- function(string){\n",
    "    cat(base64decode(string, what='character'))\n",
    "}\n",
    "solution <- 'Zm9yKGkgaW4gMToxMil7CiAgICBmb3IoaiBpbiAxOjEyKXsKICAgICAgICBjYXQoaSAqIGosICcgJykKICAgIH0KICAgIGNhdCgnXG4nKQp9'\n",
    "# decode(solution)"
   ]
  },
  {
   "cell_type": "markdown",
   "metadata": {},
   "source": [
    "### _while loops_\n",
    "\n",
    "Sometimes, you will want to run some code until all something happens - you run out of data, you find the data you are looking for - and you don't know exactly when this will happen. In that case, you use a while loop and R will check everytime before it starts the loop code that the condition you specify is TRUE: if it is the loop code is run, if not, the loop is finished and R moves on to the code after the loop code.\n",
    "\n",
    "For example, we could write a function to roll one or more dice until it throws a particular value."
   ]
  },
  {
   "cell_type": "code",
   "execution_count": 18,
   "metadata": {},
   "outputs": [
    {
     "name": "stdout",
     "output_type": "stream",
     "text": [
      "[1] 3\n",
      "[1] 5\n"
     ]
    }
   ],
   "source": [
    "roll_until_n <- function(n){\n",
    "    roll <- as.integer(runif(1) * 6 + 1)\n",
    "    while(roll != n){\n",
    "        print(roll)\n",
    "        roll <- as.integer(runif(1) * 6 + 1)\n",
    "    }\n",
    "}\n",
    "roll_until_n(6)"
   ]
  },
  {
   "cell_type": "markdown",
   "metadata": {},
   "source": [
    "<div style='background:#ddddcc;border:1px;border-radius:10px;padding:10px;border-style: solid;border-color:dark-gray;'>\n",
    "<h4><i>Exercise: modify the dice rolling program to count and save the values.</i></h4>\n",
    "\n",
    "Do this in two steps: first and a count and print() how many rolls were required after the loop completes then add the memory mechanism.\n",
    "    \n",
    "What does the histogram look like?\n",
    "    \n",
    "Sometimes the histogram is not very useful and sometimes there is an error. How would you fix these problems?\n",
    "    \n",
    "Hints:\n",
    "    <ol>\n",
    "        <li>Create a vector, and add the values to the vector as you roll them and, at the end, return the vector</li>\n",
    "    </ol>\n",
    "    \n",
    "There is a solution in the box below but you will need to decode it first.\n",
    "    \n",
    "For a bonus challenge, can you specify how many dice to roll for each number and report the total score. You will probably want to create a function to calculate the sum of the rolls of the set of dice and use a for loop in that function.\n",
    "</div>"
   ]
  },
  {
   "cell_type": "code",
   "execution_count": 1,
   "metadata": {},
   "outputs": [],
   "source": [
    "# This code will produce a possible solution to the exercise. Simply remove the\n",
    "# commment character from the start of the last line, run this segment and copy\n",
    "# and paste the resulting code into another box or RStudio and run it.\n",
    "library(caTools)\n",
    "decode <- function(string){\n",
    "    cat(base64decode(string, what='character'))\n",
    "}\n",
    "solution <- 'cm9sbF91bnRpbF9uIDwtIGZ1bmN0aW9uKG4pewogICAgdiA8LSBjKCkKICAgIHJvbGwgPC0gYXMuaW50ZWdlcihydW5pZigxKSAqIDYgKyAxKQogICAgd2hpbGUocm9sbCAhPSBuKXsKICAgICAgICB2IDwtIGModiwgcm9sbCkKICAgICAgICBwcmludChyb2xsKQogICAgICAgIHJvbGwgPC0gYXMuaW50ZWdlcihydW5pZigxKSAqIDYgKyAxKQogICAgfQogICAgcmV0dXJuKHYpCn0Kcm9sbHMgPC0gcm9sbF91bnRpbF9uKDYpCmhpc3Qocm9sbHMp'\n",
    "# decode(solution)"
   ]
  },
  {
   "cell_type": "markdown",
   "metadata": {},
   "source": [
    "And a solution for the bonus-challenge:"
   ]
  },
  {
   "cell_type": "code",
   "execution_count": 26,
   "metadata": {},
   "outputs": [],
   "source": [
    "# This code will produce a possible solution to the exercise. Simply remove the\n",
    "# commment character from the start of the last line, run this segment and copy\n",
    "# and paste the resulting code into another box or RStudio and run it.\n",
    "library(caTools)\n",
    "decode <- function(string){\n",
    "    cat(base64decode(string, what='character'))\n",
    "}\n",
    "solution <- 'cm9sbCA8LSBmdW5jdGlvbihuX2RpY2UpewogICAgc3VtIDwtIDAKICAgIGZvcihkIGluIDE6bl9kaWNlKXsKICAgICAgICBzdW0gPC0gc3VtICsgYXMuaW50ZWdlcihydW5pZigxKSAqIDYgKyAxKQogICAgfQogICAgcmV0dXJuKHN1bSkKfQpyb2xsX3VudGlsX24gPC0gZnVuY3Rpb24obnVtX2RpY2UsIG4pewogICAgdiA8LSBjKCkKICAgIHJvbGwgPC0gcm9sbChudW1fZGljZSkKICAgIHdoaWxlKHJvbGwgIT0gbil7CiAgICAgICAgdiA8LSBjKHYsIHJvbGwpCiAgICAgICAgcHJpbnQocm9sbCkKICAgICAgICByb2xsIDwtIHJvbGwobnVtX2RpY2UpCiAgICB9CiAgICByZXR1cm4odikKfQpyb2xscyA8LSByb2xsX3VudGlsX24oMywgNCkKaGlzdChyb2xscyk='\n",
    "# decode(solution)"
   ]
  },
  {
   "cell_type": "markdown",
   "metadata": {},
   "source": [
    "#### _repeat loops_\n",
    "\n",
    "An underused form of loop which doesn't have a loop variable or a starting condition but repeats the loop until you tell R to exit the loop. You do this with the __break__ command. This is useful for situations that don't fit neatly into the for() or while() forms for example, some language have a do {} until() loop structure - repeat can be used to implement that kind of thing.\n",
    "\n",
    "Going back to the original dice rolling function, you'll notice that we had to roll the dice twice in the code which is not very neat (if we wanted to change to a twenty-sided dice, we would have to change two lines of code). We could implement this as a repeat loop:"
   ]
  },
  {
   "cell_type": "code",
   "execution_count": 27,
   "metadata": {},
   "outputs": [
    {
     "name": "stdout",
     "output_type": "stream",
     "text": [
      "[1] 5\n",
      "[1] 2\n",
      "[1] 4\n",
      "[1] 2\n",
      "[1] 4\n",
      "[1] 4\n",
      "[1] 2\n",
      "[1] 5\n"
     ]
    }
   ],
   "source": [
    "roll_until_n <- function(n){\n",
    "    repeat{\n",
    "        roll <- as.integer(runif(1) * 6 + 1)\n",
    "        if (roll == n) break\n",
    "        print(roll)\n",
    "    }\n",
    "}\n",
    "roll_until_n(6)"
   ]
  },
  {
   "cell_type": "markdown",
   "metadata": {},
   "source": [
    "<div style='background:#ddcccc;border:1px;border-radius:10px;padding:10px;border-style: solid;border-color:dark-gray;'>\n",
    "    <h4><i>Note: pros and cons of <b>repeat</b></i></h4>\n",
    "\n",
    "This seems a lot tidier. Repeat loops also have the flexibility that you can exit the loop at different stages for different reasons if you need to. This can be useful but it can also lead to difficult to understand code.\n",
    "</div>"
   ]
  },
  {
   "cell_type": "markdown",
   "metadata": {},
   "source": [
    "<div style='background:#ddddcc;border:1px;border-radius:10px;padding:10px;border-style: solid;border-color:dark-gray;'>\n",
    "<h4><i>Exercise: create a vector with all the prime numbers from 1 to 10.</i></h4>\n",
    "\n",
    "Two hints:\n",
    "    <ol>\n",
    "        <li>create a vector with all the numbers then remove anything divisible by a smaller number\n",
    "            (not the most efficient - can you think of an improvement?).</li>\n",
    "        <li>how do you check that a number is divisible by another number ?%/%.</li>\n",
    "    </ol>\n",
    "    \n",
    "How long does this take to get lots of prime numbers (:\n",
    "    \n",
    "There is a solution in the box below but you will need to decode it first.\n",
    "</div>"
   ]
  },
  {
   "cell_type": "code",
   "execution_count": 30,
   "metadata": {},
   "outputs": [],
   "source": [
    "# This code will produce a possible solution to the exercise. Simply remove the\n",
    "# commment character from the start of the last line, run this segment and copy\n",
    "# and paste the resulting code into another box or RStudio and run it.\n",
    "library(caTools)\n",
    "decode <- function(string){\n",
    "    cat(base64decode(string, what='character'))\n",
    "}\n",
    "solution <- 'biA8LSAxMDAwCnggPC0gc2VxKDEsIG4sIDEpCnMgPC0gc3FydChuKQpmb3IoaSBpbiAyOmFzLmludGVnZXIocykpewogICAgeCA8LSB4W3ggPT0gaSB8IHggJSUgaSAhPSAwXQp9CnByaW50KHgp'\n",
    "# decode(solution)"
   ]
  },
  {
   "cell_type": "markdown",
   "metadata": {},
   "source": [
    "<table width='100%'><tr>\n",
    "    <td style='background-color:red; text-align:center; color: white;'><!--Foundation<!--hr size='5' style='border-color:red; background-color:red;'--></td>\n",
    "    <td style='background-color:yellow; text-align:center;'><!--Level 1<!--hr size='5' style='border-color:yellow; background-color:yellow;'--></td>\n",
    "    <td style='background-color:orange; text-align:center;'><!--Level 2<!--hr size='5' style='border-color:orange; background-color:orange;'--></td>\n",
    "    <td style='background-color:green; text-align:center; color: white;'><!--Level 3<!--hr size='5' style='border-color:orange; background-color:orange;'--></td>\n",
    "    <td style='background-color:blue; text-align:center; color: white;'><!--Level 4<!--hr size='5' style='border-color:orange; background-color:orange;'--></td>\n",
    "    <td style='background-color:purple; text-align:center; color: white;'><!--Level 5<!--hr size='5' style='border-color:orange; background-color:orange;'--></td>\n",
    "    <td style='background-color:brown; text-align:center; color: white;'><!--Level 6<!--hr size='5' style='border-color:orange; background-color:orange;'--></td>\n",
    "    <td style='background-color:black; text-align:center; color: white;'><!--Level 7<!--hr size='5' style='border-color:orange; background-color:orange;'--></td>\n",
    "</tr></table>"
   ]
  }
 ],
 "metadata": {
  "kernelspec": {
   "display_name": "R",
   "language": "R",
   "name": "ir"
  },
  "language_info": {
   "codemirror_mode": "r",
   "file_extension": ".r",
   "mimetype": "text/x-r-source",
   "name": "R",
   "pygments_lexer": "r",
   "version": "4.0.5"
  }
 },
 "nbformat": 4,
 "nbformat_minor": 4
}
