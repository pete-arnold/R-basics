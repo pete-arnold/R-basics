{
 "cells": [
  {
   "cell_type": "markdown",
   "metadata": {},
   "source": [
    "<table width='100%'><tr>\n",
    "    <td style='background-color:red; text-align:center; color: white;'><!--Foundation<!--hr size='5' style='border-color:red; background-color:red;'--></td>\n",
    "    <td style='background-color:yellow; text-align:center;'><!--Level 1<!--hr size='5' style='border-color:yellow; background-color:yellow;'--></td>\n",
    "    <td style='background-color:orange; text-align:center;'><!--Level 2<!--hr size='5' style='border-color:orange; background-color:orange;'--></td>\n",
    "    <td style='background-color:green; text-align:center; color: white;'><!--Level 3<!--hr size='5' style='border-color:orange; background-color:orange;'--></td>\n",
    "    <td style='background-color:blue; text-align:center; color: white;'><!--Level 4<!--hr size='5' style='border-color:orange; background-color:orange;'--></td>\n",
    "    <td style='background-color:purple; text-align:center; color: white;'><!--Level 5<!--hr size='5' style='border-color:orange; background-color:orange;'--></td>\n",
    "    <td style='background-color:brown; text-align:center; color: white;'><!--Level 6<!--hr size='5' style='border-color:orange; background-color:orange;'--></td>\n",
    "    <td style='background-color:black; text-align:center; color: white;'><!--Level 7<!--hr size='5' style='border-color:orange; background-color:orange;'--></td>\n",
    "</tr></table>"
   ]
  },
  {
   "cell_type": "markdown",
   "metadata": {},
   "source": [
    "<table style='border-left:10px solid yellow;'><tr>\n",
    "    <td style='padding-left:20px;'>\n",
    "        <h2><i>Swansea University Medical School</i><br/><b>MSc Health Data Science</b></h2>\n",
    "        <h3>PMIM-102 Introduction to Scientific Computing in Healthcare</h3>\n",
    "        <h1><b>R programming</b></h1>\n",
    "        <h2><i>Part 2: Tables of data.</i></h2>\n",
    "        <h3><i>October 2021</i></h3>\n",
    "        <h3><b>To-do</b></h3>\n",
    "        <ul>\n",
    "            <li>Nothing.</li>\n",
    "        </ul>\n",
    "    </td>\n",
    "    <td><img height='300' width='500' src='images/cover.jpg'/></td>\n",
    "</tr></table>"
   ]
  },
  {
   "cell_type": "markdown",
   "metadata": {},
   "source": [
    "## __Aim__: Learn how to make the computer do what we want and get information from the data\n",
    "\n",
    "The aim of this session is to introduce the basic principles of programming using <code>R</code>.\n",
    "\n",
    "### __A map of where we're going__\n",
    "\n",
    "1. __From calculator to computer__ - numbers (__variables__) and how to do things to them (__operators, expressions and functions__) and organise things (__programs, files and libraries__).\n",
    "\n",
    "1. <div style=\"background-color:yellow;\"><b>Tables of data</b> - how to organise data-science type datasets (<b>vectors</b>, <b>lists</b> and <b>data frames</b>).<br/></div><br/>\n",
    "\n",
    "1. __What R is good at__ - doing things on all the data at the same time.\n",
    "\n",
    "1. __Customising your code__ - making repetition easier to do, to read and to write.\n",
    "\n",
    "1. __Controlling the computer when you have to__ - control techniques - loops (do ... while), conditions (if ... else).\n",
    "\n",
    "1. __Safe researcher training__ - things you need to know to ensure that you don't disclose personal data."
   ]
  },
  {
   "cell_type": "markdown",
   "metadata": {},
   "source": [
    "## __More structured data__\n",
    "\n",
    "We have mentioned variables before as numbers, strings, logical values etc. but for data science we usually have to deal with whole lists and tables of data. We have already used these, in fact, with the sequence function, seq() which produces a sequence of numbers.\n",
    "\n",
    "There are three structures (among others) that we come across most often:\n",
    "\n",
    "* __Vectors__ - lists in which all the data are of the same type e.g. a vector of numerics, a vector of character strings.\n",
    "* __Lists__ - lists in which the individual data can be of different types e.g. a list may have a name (character), an age (numeric) etc.\n",
    "* __Data frames__ - a table (a bit like two dimensional lists of vectors) i.e. the columns can have different data types but all the data in any one columns are of the same type and all the columns are the same length."
   ]
  },
  {
   "cell_type": "markdown",
   "metadata": {},
   "source": [
    "### _Vectors_\n",
    "\n",
    "A vector is a list of items of the same type - all numbers, all string, all dates etc. Vectors are usually created using the c() function (for combine)."
   ]
  },
  {
   "cell_type": "code",
   "execution_count": 1,
   "metadata": {},
   "outputs": [
    {
     "data": {
      "text/html": [
       "<style>\n",
       ".list-inline {list-style: none; margin:0; padding: 0}\n",
       ".list-inline>li {display: inline-block}\n",
       ".list-inline>li:not(:last-child)::after {content: \"\\00b7\"; padding: 0 .5ex}\n",
       "</style>\n",
       "<ol class=list-inline><li>1</li><li>2</li><li>3</li><li>5</li><li>6</li><li>8</li></ol>\n"
      ],
      "text/latex": [
       "\\begin{enumerate*}\n",
       "\\item 1\n",
       "\\item 2\n",
       "\\item 3\n",
       "\\item 5\n",
       "\\item 6\n",
       "\\item 8\n",
       "\\end{enumerate*}\n"
      ],
      "text/markdown": [
       "1. 1\n",
       "2. 2\n",
       "3. 3\n",
       "4. 5\n",
       "5. 6\n",
       "6. 8\n",
       "\n",
       "\n"
      ],
      "text/plain": [
       "[1] 1 2 3 5 6 8"
      ]
     },
     "metadata": {},
     "output_type": "display_data"
    },
    {
     "data": {
      "text/html": [
       "<style>\n",
       ".list-inline {list-style: none; margin:0; padding: 0}\n",
       ".list-inline>li {display: inline-block}\n",
       ".list-inline>li:not(:last-child)::after {content: \"\\00b7\"; padding: 0 .5ex}\n",
       "</style>\n",
       "<ol class=list-inline><li>'llamhigyn'</li><li>'y'</li><li>'dwr'</li></ol>\n"
      ],
      "text/latex": [
       "\\begin{enumerate*}\n",
       "\\item 'llamhigyn'\n",
       "\\item 'y'\n",
       "\\item 'dwr'\n",
       "\\end{enumerate*}\n"
      ],
      "text/markdown": [
       "1. 'llamhigyn'\n",
       "2. 'y'\n",
       "3. 'dwr'\n",
       "\n",
       "\n"
      ],
      "text/plain": [
       "[1] \"llamhigyn\" \"y\"         \"dwr\"      "
      ]
     },
     "metadata": {},
     "output_type": "display_data"
    },
    {
     "data": {
      "text/html": [
       "<style>\n",
       ".list-inline {list-style: none; margin:0; padding: 0}\n",
       ".list-inline>li {display: inline-block}\n",
       ".list-inline>li:not(:last-child)::after {content: \"\\00b7\"; padding: 0 .5ex}\n",
       "</style>\n",
       "<ol class=list-inline><li>1</li><li>11</li><li>21</li><li>31</li><li>41</li><li>51</li><li>61</li><li>71</li><li>81</li><li>91</li></ol>\n"
      ],
      "text/latex": [
       "\\begin{enumerate*}\n",
       "\\item 1\n",
       "\\item 11\n",
       "\\item 21\n",
       "\\item 31\n",
       "\\item 41\n",
       "\\item 51\n",
       "\\item 61\n",
       "\\item 71\n",
       "\\item 81\n",
       "\\item 91\n",
       "\\end{enumerate*}\n"
      ],
      "text/markdown": [
       "1. 1\n",
       "2. 11\n",
       "3. 21\n",
       "4. 31\n",
       "5. 41\n",
       "6. 51\n",
       "7. 61\n",
       "8. 71\n",
       "9. 81\n",
       "10. 91\n",
       "\n",
       "\n"
      ],
      "text/plain": [
       " [1]  1 11 21 31 41 51 61 71 81 91"
      ]
     },
     "metadata": {},
     "output_type": "display_data"
    }
   ],
   "source": [
    "v <- c(1, 2, 3, 5, 6, 8)\n",
    "v\n",
    "w <- c('llamhigyn', 'y', 'dwr')\n",
    "w\n",
    "x <- seq(1, 100, 10)\n",
    "x"
   ]
  },
  {
   "cell_type": "markdown",
   "metadata": {},
   "source": [
    "If you want to know how many elements there are in a vector, you can use the length() function."
   ]
  },
  {
   "cell_type": "code",
   "execution_count": 2,
   "metadata": {},
   "outputs": [
    {
     "data": {
      "text/html": [
       "10"
      ],
      "text/latex": [
       "10"
      ],
      "text/markdown": [
       "10"
      ],
      "text/plain": [
       "[1] 10"
      ]
     },
     "metadata": {},
     "output_type": "display_data"
    }
   ],
   "source": [
    "length(x)"
   ]
  },
  {
   "cell_type": "markdown",
   "metadata": {},
   "source": [
    "One of the useful things about R is that is understands how to work on entire vectors. For example, you can add a constant to all the items in a vector, you can create a new vector by calculating for all the items in the vector and you can add, subtract etc. vectors."
   ]
  },
  {
   "cell_type": "code",
   "execution_count": 3,
   "metadata": {},
   "outputs": [
    {
     "data": {
      "text/html": [
       "<style>\n",
       ".list-inline {list-style: none; margin:0; padding: 0}\n",
       ".list-inline>li {display: inline-block}\n",
       ".list-inline>li:not(:last-child)::after {content: \"\\00b7\"; padding: 0 .5ex}\n",
       "</style>\n",
       "<ol class=list-inline><li>1</li><li>11</li><li>21</li><li>31</li><li>41</li><li>51</li><li>61</li><li>71</li><li>81</li><li>91</li></ol>\n"
      ],
      "text/latex": [
       "\\begin{enumerate*}\n",
       "\\item 1\n",
       "\\item 11\n",
       "\\item 21\n",
       "\\item 31\n",
       "\\item 41\n",
       "\\item 51\n",
       "\\item 61\n",
       "\\item 71\n",
       "\\item 81\n",
       "\\item 91\n",
       "\\end{enumerate*}\n"
      ],
      "text/markdown": [
       "1. 1\n",
       "2. 11\n",
       "3. 21\n",
       "4. 31\n",
       "5. 41\n",
       "6. 51\n",
       "7. 61\n",
       "8. 71\n",
       "9. 81\n",
       "10. 91\n",
       "\n",
       "\n"
      ],
      "text/plain": [
       " [1]  1 11 21 31 41 51 61 71 81 91"
      ]
     },
     "metadata": {},
     "output_type": "display_data"
    },
    {
     "data": {
      "text/html": [
       "<style>\n",
       ".list-inline {list-style: none; margin:0; padding: 0}\n",
       ".list-inline>li {display: inline-block}\n",
       ".list-inline>li:not(:last-child)::after {content: \"\\00b7\"; padding: 0 .5ex}\n",
       "</style>\n",
       "<ol class=list-inline><li>2</li><li>12</li><li>22</li><li>32</li><li>42</li><li>52</li><li>62</li><li>72</li><li>82</li><li>92</li></ol>\n"
      ],
      "text/latex": [
       "\\begin{enumerate*}\n",
       "\\item 2\n",
       "\\item 12\n",
       "\\item 22\n",
       "\\item 32\n",
       "\\item 42\n",
       "\\item 52\n",
       "\\item 62\n",
       "\\item 72\n",
       "\\item 82\n",
       "\\item 92\n",
       "\\end{enumerate*}\n"
      ],
      "text/markdown": [
       "1. 2\n",
       "2. 12\n",
       "3. 22\n",
       "4. 32\n",
       "5. 42\n",
       "6. 52\n",
       "7. 62\n",
       "8. 72\n",
       "9. 82\n",
       "10. 92\n",
       "\n",
       "\n"
      ],
      "text/plain": [
       " [1]  2 12 22 32 42 52 62 72 82 92"
      ]
     },
     "metadata": {},
     "output_type": "display_data"
    },
    {
     "data": {
      "text/html": [
       "<style>\n",
       ".list-inline {list-style: none; margin:0; padding: 0}\n",
       ".list-inline>li {display: inline-block}\n",
       ".list-inline>li:not(:last-child)::after {content: \"\\00b7\"; padding: 0 .5ex}\n",
       "</style>\n",
       "<ol class=list-inline><li>1.4142135623731</li><li>3.46410161513775</li><li>4.69041575982343</li><li>5.65685424949238</li><li>6.48074069840786</li><li>7.21110255092798</li><li>7.87400787401181</li><li>8.48528137423857</li><li>9.05538513813742</li><li>9.59166304662544</li></ol>\n"
      ],
      "text/latex": [
       "\\begin{enumerate*}\n",
       "\\item 1.4142135623731\n",
       "\\item 3.46410161513775\n",
       "\\item 4.69041575982343\n",
       "\\item 5.65685424949238\n",
       "\\item 6.48074069840786\n",
       "\\item 7.21110255092798\n",
       "\\item 7.87400787401181\n",
       "\\item 8.48528137423857\n",
       "\\item 9.05538513813742\n",
       "\\item 9.59166304662544\n",
       "\\end{enumerate*}\n"
      ],
      "text/markdown": [
       "1. 1.4142135623731\n",
       "2. 3.46410161513775\n",
       "3. 4.69041575982343\n",
       "4. 5.65685424949238\n",
       "5. 6.48074069840786\n",
       "6. 7.21110255092798\n",
       "7. 7.87400787401181\n",
       "8. 8.48528137423857\n",
       "9. 9.05538513813742\n",
       "10. 9.59166304662544\n",
       "\n",
       "\n"
      ],
      "text/plain": [
       " [1] 1.414214 3.464102 4.690416 5.656854 6.480741 7.211103 7.874008 8.485281\n",
       " [9] 9.055385 9.591663"
      ]
     },
     "metadata": {},
     "output_type": "display_data"
    },
    {
     "data": {
      "text/html": [
       "<style>\n",
       ".list-inline {list-style: none; margin:0; padding: 0}\n",
       ".list-inline>li {display: inline-block}\n",
       ".list-inline>li:not(:last-child)::after {content: \"\\00b7\"; padding: 0 .5ex}\n",
       "</style>\n",
       "<ol class=list-inline><li>2.82842712474619</li><li>41.5692193816531</li><li>103.189146716115</li><li>181.019335983756</li><li>272.19110933313</li><li>374.977332648255</li><li>488.188488188732</li><li>610.940258945177</li><li>742.541581327268</li><li>882.43300028954</li></ol>\n"
      ],
      "text/latex": [
       "\\begin{enumerate*}\n",
       "\\item 2.82842712474619\n",
       "\\item 41.5692193816531\n",
       "\\item 103.189146716115\n",
       "\\item 181.019335983756\n",
       "\\item 272.19110933313\n",
       "\\item 374.977332648255\n",
       "\\item 488.188488188732\n",
       "\\item 610.940258945177\n",
       "\\item 742.541581327268\n",
       "\\item 882.43300028954\n",
       "\\end{enumerate*}\n"
      ],
      "text/markdown": [
       "1. 2.82842712474619\n",
       "2. 41.5692193816531\n",
       "3. 103.189146716115\n",
       "4. 181.019335983756\n",
       "5. 272.19110933313\n",
       "6. 374.977332648255\n",
       "7. 488.188488188732\n",
       "8. 610.940258945177\n",
       "9. 742.541581327268\n",
       "10. 882.43300028954\n",
       "\n",
       "\n"
      ],
      "text/plain": [
       " [1]   2.828427  41.569219 103.189147 181.019336 272.191109 374.977333\n",
       " [7] 488.188488 610.940259 742.541581 882.433000"
      ]
     },
     "metadata": {},
     "output_type": "display_data"
    }
   ],
   "source": [
    "x\n",
    "x <- x + 1\n",
    "x\n",
    "y <- sqrt(x)\n",
    "y\n",
    "y <- y * x\n",
    "y"
   ]
  },
  {
   "cell_type": "markdown",
   "metadata": {},
   "source": [
    "#### _Using functions on vectors_\n",
    "\n",
    "You can, of course, pass entire vectors as parameters to functions. We have already seen this with the plot() function."
   ]
  },
  {
   "cell_type": "code",
   "execution_count": 4,
   "metadata": {},
   "outputs": [
    {
     "data": {
      "image/png": "[encoded data removed]",
      "text/plain": [
       "plot without title"
      ]
     },
     "metadata": {
      "image/png": {
       "height": 420,
       "width": 420
      }
     },
     "output_type": "display_data"
    }
   ],
   "source": [
    "plot(x, y)"
   ]
  },
  {
   "cell_type": "markdown",
   "metadata": {},
   "source": [
    "But there are also functions which allow you to generate and manipulate vectors, for example, runif(n) will generate a vector of n (a number you need to specify) uniformly distributed values between 0 and 1 and sort() will sort the vector (according to the type of data in the vector - numerically, alphabetically, by date etc.)."
   ]
  },
  {
   "cell_type": "code",
   "execution_count": 5,
   "metadata": {},
   "outputs": [
    {
     "data": {
      "text/html": [
       "<style>\n",
       ".list-inline {list-style: none; margin:0; padding: 0}\n",
       ".list-inline>li {display: inline-block}\n",
       ".list-inline>li:not(:last-child)::after {content: \"\\00b7\"; padding: 0 .5ex}\n",
       "</style>\n",
       "<ol class=list-inline><li>0.950855848379433</li><li>0.572833507787436</li><li>0.124107118463144</li><li>0.778720051981509</li><li>0.19470386649482</li><li>0.455281667178497</li><li>0.637241812190041</li><li>0.952674661297351</li><li>0.532491520280018</li><li>0.872999907936901</li></ol>\n"
      ],
      "text/latex": [
       "\\begin{enumerate*}\n",
       "\\item 0.950855848379433\n",
       "\\item 0.572833507787436\n",
       "\\item 0.124107118463144\n",
       "\\item 0.778720051981509\n",
       "\\item 0.19470386649482\n",
       "\\item 0.455281667178497\n",
       "\\item 0.637241812190041\n",
       "\\item 0.952674661297351\n",
       "\\item 0.532491520280018\n",
       "\\item 0.872999907936901\n",
       "\\end{enumerate*}\n"
      ],
      "text/markdown": [
       "1. 0.950855848379433\n",
       "2. 0.572833507787436\n",
       "3. 0.124107118463144\n",
       "4. 0.778720051981509\n",
       "5. 0.19470386649482\n",
       "6. 0.455281667178497\n",
       "7. 0.637241812190041\n",
       "8. 0.952674661297351\n",
       "9. 0.532491520280018\n",
       "10. 0.872999907936901\n",
       "\n",
       "\n"
      ],
      "text/plain": [
       " [1] 0.9508558 0.5728335 0.1241071 0.7787201 0.1947039 0.4552817 0.6372418\n",
       " [8] 0.9526747 0.5324915 0.8729999"
      ]
     },
     "metadata": {},
     "output_type": "display_data"
    },
    {
     "data": {
      "text/html": [
       "<style>\n",
       ".list-inline {list-style: none; margin:0; padding: 0}\n",
       ".list-inline>li {display: inline-block}\n",
       ".list-inline>li:not(:last-child)::after {content: \"\\00b7\"; padding: 0 .5ex}\n",
       "</style>\n",
       "<ol class=list-inline><li>0.124107118463144</li><li>0.19470386649482</li><li>0.455281667178497</li><li>0.532491520280018</li><li>0.572833507787436</li><li>0.637241812190041</li><li>0.778720051981509</li><li>0.872999907936901</li><li>0.950855848379433</li><li>0.952674661297351</li></ol>\n"
      ],
      "text/latex": [
       "\\begin{enumerate*}\n",
       "\\item 0.124107118463144\n",
       "\\item 0.19470386649482\n",
       "\\item 0.455281667178497\n",
       "\\item 0.532491520280018\n",
       "\\item 0.572833507787436\n",
       "\\item 0.637241812190041\n",
       "\\item 0.778720051981509\n",
       "\\item 0.872999907936901\n",
       "\\item 0.950855848379433\n",
       "\\item 0.952674661297351\n",
       "\\end{enumerate*}\n"
      ],
      "text/markdown": [
       "1. 0.124107118463144\n",
       "2. 0.19470386649482\n",
       "3. 0.455281667178497\n",
       "4. 0.532491520280018\n",
       "5. 0.572833507787436\n",
       "6. 0.637241812190041\n",
       "7. 0.778720051981509\n",
       "8. 0.872999907936901\n",
       "9. 0.950855848379433\n",
       "10. 0.952674661297351\n",
       "\n",
       "\n"
      ],
      "text/plain": [
       " [1] 0.1241071 0.1947039 0.4552817 0.5324915 0.5728335 0.6372418 0.7787201\n",
       " [8] 0.8729999 0.9508558 0.9526747"
      ]
     },
     "metadata": {},
     "output_type": "display_data"
    },
    {
     "data": {
      "text/html": [
       "<style>\n",
       ".list-inline {list-style: none; margin:0; padding: 0}\n",
       ".list-inline>li {display: inline-block}\n",
       ".list-inline>li:not(:last-child)::after {content: \"\\00b7\"; padding: 0 .5ex}\n",
       "</style>\n",
       "<ol class=list-inline><li>'Full'</li><li>'fathom'</li><li>'five'</li><li>'thy'</li><li>'father'</li><li>'lies'</li><li>'Of'</li><li>'his'</li><li>'bones'</li><li>'are'</li><li>'coral'</li><li>'made'</li><li>'Those'</li><li>'are'</li><li>'pearls'</li><li>'that'</li><li>'were'</li><li>'his'</li><li>'eyes'</li><li>'Nothing'</li><li>'of'</li><li>'him'</li><li>'that'</li><li>'doth'</li><li>'fade'</li><li>'But'</li><li>'doth'</li><li>'suffer'</li><li>'a'</li><li>'sea-change'</li><li>'Into'</li><li>'something'</li><li>'rich'</li><li>'and'</li><li>'strange'</li></ol>\n"
      ],
      "text/latex": [
       "\\begin{enumerate*}\n",
       "\\item 'Full'\n",
       "\\item 'fathom'\n",
       "\\item 'five'\n",
       "\\item 'thy'\n",
       "\\item 'father'\n",
       "\\item 'lies'\n",
       "\\item 'Of'\n",
       "\\item 'his'\n",
       "\\item 'bones'\n",
       "\\item 'are'\n",
       "\\item 'coral'\n",
       "\\item 'made'\n",
       "\\item 'Those'\n",
       "\\item 'are'\n",
       "\\item 'pearls'\n",
       "\\item 'that'\n",
       "\\item 'were'\n",
       "\\item 'his'\n",
       "\\item 'eyes'\n",
       "\\item 'Nothing'\n",
       "\\item 'of'\n",
       "\\item 'him'\n",
       "\\item 'that'\n",
       "\\item 'doth'\n",
       "\\item 'fade'\n",
       "\\item 'But'\n",
       "\\item 'doth'\n",
       "\\item 'suffer'\n",
       "\\item 'a'\n",
       "\\item 'sea-change'\n",
       "\\item 'Into'\n",
       "\\item 'something'\n",
       "\\item 'rich'\n",
       "\\item 'and'\n",
       "\\item 'strange'\n",
       "\\end{enumerate*}\n"
      ],
      "text/markdown": [
       "1. 'Full'\n",
       "2. 'fathom'\n",
       "3. 'five'\n",
       "4. 'thy'\n",
       "5. 'father'\n",
       "6. 'lies'\n",
       "7. 'Of'\n",
       "8. 'his'\n",
       "9. 'bones'\n",
       "10. 'are'\n",
       "11. 'coral'\n",
       "12. 'made'\n",
       "13. 'Those'\n",
       "14. 'are'\n",
       "15. 'pearls'\n",
       "16. 'that'\n",
       "17. 'were'\n",
       "18. 'his'\n",
       "19. 'eyes'\n",
       "20. 'Nothing'\n",
       "21. 'of'\n",
       "22. 'him'\n",
       "23. 'that'\n",
       "24. 'doth'\n",
       "25. 'fade'\n",
       "26. 'But'\n",
       "27. 'doth'\n",
       "28. 'suffer'\n",
       "29. 'a'\n",
       "30. 'sea-change'\n",
       "31. 'Into'\n",
       "32. 'something'\n",
       "33. 'rich'\n",
       "34. 'and'\n",
       "35. 'strange'\n",
       "\n",
       "\n"
      ],
      "text/plain": [
       " [1] \"Full\"       \"fathom\"     \"five\"       \"thy\"        \"father\"    \n",
       " [6] \"lies\"       \"Of\"         \"his\"        \"bones\"      \"are\"       \n",
       "[11] \"coral\"      \"made\"       \"Those\"      \"are\"        \"pearls\"    \n",
       "[16] \"that\"       \"were\"       \"his\"        \"eyes\"       \"Nothing\"   \n",
       "[21] \"of\"         \"him\"        \"that\"       \"doth\"       \"fade\"      \n",
       "[26] \"But\"        \"doth\"       \"suffer\"     \"a\"          \"sea-change\"\n",
       "[31] \"Into\"       \"something\"  \"rich\"       \"and\"        \"strange\"   "
      ]
     },
     "metadata": {},
     "output_type": "display_data"
    },
    {
     "data": {
      "text/html": [
       "<style>\n",
       ".list-inline {list-style: none; margin:0; padding: 0}\n",
       ".list-inline>li {display: inline-block}\n",
       ".list-inline>li:not(:last-child)::after {content: \"\\00b7\"; padding: 0 .5ex}\n",
       "</style>\n",
       "<ol class=list-inline><li>'were'</li><li>'thy'</li><li>'Those'</li><li>'that'</li><li>'that'</li><li>'suffer'</li><li>'strange'</li><li>'something'</li><li>'sea-change'</li><li>'rich'</li><li>'pearls'</li><li>'Of'</li><li>'of'</li><li>'Nothing'</li><li>'made'</li><li>'lies'</li><li>'Into'</li><li>'his'</li><li>'his'</li><li>'him'</li><li>'Full'</li><li>'five'</li><li>'fathom'</li><li>'father'</li><li>'fade'</li><li>'eyes'</li><li>'doth'</li><li>'doth'</li><li>'coral'</li><li>'But'</li><li>'bones'</li><li>'are'</li><li>'are'</li><li>'and'</li><li>'a'</li></ol>\n"
      ],
      "text/latex": [
       "\\begin{enumerate*}\n",
       "\\item 'were'\n",
       "\\item 'thy'\n",
       "\\item 'Those'\n",
       "\\item 'that'\n",
       "\\item 'that'\n",
       "\\item 'suffer'\n",
       "\\item 'strange'\n",
       "\\item 'something'\n",
       "\\item 'sea-change'\n",
       "\\item 'rich'\n",
       "\\item 'pearls'\n",
       "\\item 'Of'\n",
       "\\item 'of'\n",
       "\\item 'Nothing'\n",
       "\\item 'made'\n",
       "\\item 'lies'\n",
       "\\item 'Into'\n",
       "\\item 'his'\n",
       "\\item 'his'\n",
       "\\item 'him'\n",
       "\\item 'Full'\n",
       "\\item 'five'\n",
       "\\item 'fathom'\n",
       "\\item 'father'\n",
       "\\item 'fade'\n",
       "\\item 'eyes'\n",
       "\\item 'doth'\n",
       "\\item 'doth'\n",
       "\\item 'coral'\n",
       "\\item 'But'\n",
       "\\item 'bones'\n",
       "\\item 'are'\n",
       "\\item 'are'\n",
       "\\item 'and'\n",
       "\\item 'a'\n",
       "\\end{enumerate*}\n"
      ],
      "text/markdown": [
       "1. 'were'\n",
       "2. 'thy'\n",
       "3. 'Those'\n",
       "4. 'that'\n",
       "5. 'that'\n",
       "6. 'suffer'\n",
       "7. 'strange'\n",
       "8. 'something'\n",
       "9. 'sea-change'\n",
       "10. 'rich'\n",
       "11. 'pearls'\n",
       "12. 'Of'\n",
       "13. 'of'\n",
       "14. 'Nothing'\n",
       "15. 'made'\n",
       "16. 'lies'\n",
       "17. 'Into'\n",
       "18. 'his'\n",
       "19. 'his'\n",
       "20. 'him'\n",
       "21. 'Full'\n",
       "22. 'five'\n",
       "23. 'fathom'\n",
       "24. 'father'\n",
       "25. 'fade'\n",
       "26. 'eyes'\n",
       "27. 'doth'\n",
       "28. 'doth'\n",
       "29. 'coral'\n",
       "30. 'But'\n",
       "31. 'bones'\n",
       "32. 'are'\n",
       "33. 'are'\n",
       "34. 'and'\n",
       "35. 'a'\n",
       "\n",
       "\n"
      ],
      "text/plain": [
       " [1] \"were\"       \"thy\"        \"Those\"      \"that\"       \"that\"      \n",
       " [6] \"suffer\"     \"strange\"    \"something\"  \"sea-change\" \"rich\"      \n",
       "[11] \"pearls\"     \"Of\"         \"of\"         \"Nothing\"    \"made\"      \n",
       "[16] \"lies\"       \"Into\"       \"his\"        \"his\"        \"him\"       \n",
       "[21] \"Full\"       \"five\"       \"fathom\"     \"father\"     \"fade\"      \n",
       "[26] \"eyes\"       \"doth\"       \"doth\"       \"coral\"      \"But\"       \n",
       "[31] \"bones\"      \"are\"        \"are\"        \"and\"        \"a\"         "
      ]
     },
     "metadata": {},
     "output_type": "display_data"
    }
   ],
   "source": [
    "v <- runif(10)\n",
    "v\n",
    "sort(v)\n",
    "w <- c('Full', 'fathom', 'five', 'thy', 'father', 'lies',\n",
    "'Of', 'his', 'bones', 'are', 'coral', 'made',\n",
    "'Those', 'are', 'pearls', 'that', 'were', 'his', 'eyes',\n",
    "'Nothing', 'of', 'him', 'that', 'doth', 'fade',\n",
    "'But', 'doth', 'suffer', 'a', 'sea-change',\n",
    "'Into', 'something', 'rich', 'and', 'strange')\n",
    "w\n",
    "sort(w, decreasing=TRUE)"
   ]
  },
  {
   "cell_type": "markdown",
   "metadata": {},
   "source": [
    "And there are many functions that produce aggregated results over the whole vector, for example, sum(), mean(), median() and summary()."
   ]
  },
  {
   "cell_type": "code",
   "execution_count": 6,
   "metadata": {},
   "outputs": [
    {
     "data": {
      "text/html": [
       "<style>\n",
       ".list-inline {list-style: none; margin:0; padding: 0}\n",
       ".list-inline>li {display: inline-block}\n",
       ".list-inline>li:not(:last-child)::after {content: \"\\00b7\"; padding: 0 .5ex}\n",
       "</style>\n",
       "<ol class=list-inline><li>10</li><li>10.0498756211209</li><li>10.0995049383621</li><li>10.1488915650922</li><li>10.1980390271856</li><li>10.2469507659596</li><li>10.295630140987</li><li>10.3440804327886</li><li>10.3923048454133</li><li>10.4403065089106</li></ol>\n"
      ],
      "text/latex": [
       "\\begin{enumerate*}\n",
       "\\item 10\n",
       "\\item 10.0498756211209\n",
       "\\item 10.0995049383621\n",
       "\\item 10.1488915650922\n",
       "\\item 10.1980390271856\n",
       "\\item 10.2469507659596\n",
       "\\item 10.295630140987\n",
       "\\item 10.3440804327886\n",
       "\\item 10.3923048454133\n",
       "\\item 10.4403065089106\n",
       "\\end{enumerate*}\n"
      ],
      "text/markdown": [
       "1. 10\n",
       "2. 10.0498756211209\n",
       "3. 10.0995049383621\n",
       "4. 10.1488915650922\n",
       "5. 10.1980390271856\n",
       "6. 10.2469507659596\n",
       "7. 10.295630140987\n",
       "8. 10.3440804327886\n",
       "9. 10.3923048454133\n",
       "10. 10.4403065089106\n",
       "\n",
       "\n"
      ],
      "text/plain": [
       " [1] 10.00000 10.04988 10.09950 10.14889 10.19804 10.24695 10.29563 10.34408\n",
       " [9] 10.39230 10.44031"
      ]
     },
     "metadata": {},
     "output_type": "display_data"
    },
    {
     "name": "stdout",
     "output_type": "stream",
     "text": [
      "The sum is: 102.2156 \n",
      "The mean is: 10.22156 \n",
      "The median is: 10.22249 \n"
     ]
    },
    {
     "data": {
      "text/plain": [
       "   Min. 1st Qu.  Median    Mean 3rd Qu.    Max. \n",
       "  10.00   10.11   10.22   10.22   10.33   10.44 "
      ]
     },
     "metadata": {},
     "output_type": "display_data"
    }
   ],
   "source": [
    "# Note that sqrt(seq(100, 109, 1)) is simply applying the sqrt() function to the output of the seq() function.\n",
    "# It is the same as the two lines, just rolled into one:\n",
    "#    v <- seq(100, 109, 1)\n",
    "#    v <- sqrt(v)\n",
    "v <- sqrt(seq(100, 109, 1))\n",
    "v\n",
    "cat('The sum is:', sum(v), '\\n')\n",
    "cat('The mean is:', mean(v), '\\n')\n",
    "cat('The median is:', median(v), '\\n')\n",
    "summary(v)"
   ]
  },
  {
   "cell_type": "markdown",
   "metadata": {},
   "source": [
    "#### _Accessing items in a vector_\n",
    "\n",
    "When you are working with this kind of data, you often need to change items, add new items etc. This is very easy for vector, you can get a single item from a vector by referring to it's position in the vector where the first item is 1 and the last is equal to length(vector). You can use the same process to change a single item (by writing back to that entry)."
   ]
  },
  {
   "cell_type": "code",
   "execution_count": 7,
   "metadata": {},
   "outputs": [
    {
     "data": {
      "text/html": [
       "<style>\n",
       ".list-inline {list-style: none; margin:0; padding: 0}\n",
       ".list-inline>li {display: inline-block}\n",
       ".list-inline>li:not(:last-child)::after {content: \"\\00b7\"; padding: 0 .5ex}\n",
       "</style>\n",
       "<ol class=list-inline><li>1</li><li>2</li><li>3</li><li>4</li><li>5</li><li>6</li><li>7</li><li>8</li><li>9</li><li>10</li></ol>\n"
      ],
      "text/latex": [
       "\\begin{enumerate*}\n",
       "\\item 1\n",
       "\\item 2\n",
       "\\item 3\n",
       "\\item 4\n",
       "\\item 5\n",
       "\\item 6\n",
       "\\item 7\n",
       "\\item 8\n",
       "\\item 9\n",
       "\\item 10\n",
       "\\end{enumerate*}\n"
      ],
      "text/markdown": [
       "1. 1\n",
       "2. 2\n",
       "3. 3\n",
       "4. 4\n",
       "5. 5\n",
       "6. 6\n",
       "7. 7\n",
       "8. 8\n",
       "9. 9\n",
       "10. 10\n",
       "\n",
       "\n"
      ],
      "text/plain": [
       " [1]  1  2  3  4  5  6  7  8  9 10"
      ]
     },
     "metadata": {},
     "output_type": "display_data"
    },
    {
     "data": {
      "text/html": [
       "2"
      ],
      "text/latex": [
       "2"
      ],
      "text/markdown": [
       "2"
      ],
      "text/plain": [
       "[1] 2"
      ]
     },
     "metadata": {},
     "output_type": "display_data"
    },
    {
     "data": {
      "text/html": [
       "<style>\n",
       ".list-inline {list-style: none; margin:0; padding: 0}\n",
       ".list-inline>li {display: inline-block}\n",
       ".list-inline>li:not(:last-child)::after {content: \"\\00b7\"; padding: 0 .5ex}\n",
       "</style>\n",
       "<ol class=list-inline><li>1</li><li>200</li><li>3</li><li>4</li><li>5</li><li>6</li><li>7</li><li>8</li><li>9</li><li>10</li></ol>\n"
      ],
      "text/latex": [
       "\\begin{enumerate*}\n",
       "\\item 1\n",
       "\\item 200\n",
       "\\item 3\n",
       "\\item 4\n",
       "\\item 5\n",
       "\\item 6\n",
       "\\item 7\n",
       "\\item 8\n",
       "\\item 9\n",
       "\\item 10\n",
       "\\end{enumerate*}\n"
      ],
      "text/markdown": [
       "1. 1\n",
       "2. 200\n",
       "3. 3\n",
       "4. 4\n",
       "5. 5\n",
       "6. 6\n",
       "7. 7\n",
       "8. 8\n",
       "9. 9\n",
       "10. 10\n",
       "\n",
       "\n"
      ],
      "text/plain": [
       " [1]   1 200   3   4   5   6   7   8   9  10"
      ]
     },
     "metadata": {},
     "output_type": "display_data"
    },
    {
     "data": {
      "text/html": [
       "<style>\n",
       ".list-inline {list-style: none; margin:0; padding: 0}\n",
       ".list-inline>li {display: inline-block}\n",
       ".list-inline>li:not(:last-child)::after {content: \"\\00b7\"; padding: 0 .5ex}\n",
       "</style>\n",
       "<ol class=list-inline><li>1</li><li>210</li><li>3</li><li>4</li><li>5</li><li>6</li><li>7</li><li>8</li><li>9</li><li>10</li></ol>\n"
      ],
      "text/latex": [
       "\\begin{enumerate*}\n",
       "\\item 1\n",
       "\\item 210\n",
       "\\item 3\n",
       "\\item 4\n",
       "\\item 5\n",
       "\\item 6\n",
       "\\item 7\n",
       "\\item 8\n",
       "\\item 9\n",
       "\\item 10\n",
       "\\end{enumerate*}\n"
      ],
      "text/markdown": [
       "1. 1\n",
       "2. 210\n",
       "3. 3\n",
       "4. 4\n",
       "5. 5\n",
       "6. 6\n",
       "7. 7\n",
       "8. 8\n",
       "9. 9\n",
       "10. 10\n",
       "\n",
       "\n"
      ],
      "text/plain": [
       " [1]   1 210   3   4   5   6   7   8   9  10"
      ]
     },
     "metadata": {},
     "output_type": "display_data"
    }
   ],
   "source": [
    "v <- seq(1, 10, 1)\n",
    "v\n",
    "v[2]\n",
    "# Changing items in a vector by referring to an entry.\n",
    "v[2] <- 200\n",
    "v\n",
    "v[2] <- v[2] + 10\n",
    "v"
   ]
  },
  {
   "cell_type": "markdown",
   "metadata": {},
   "source": [
    "You can select more than one item from a vector by referring to more than one index (using a vector to specify the indices :). You can also specify indices you don't want by using minus the index."
   ]
  },
  {
   "cell_type": "code",
   "execution_count": 8,
   "metadata": {},
   "outputs": [
    {
     "data": {
      "text/html": [
       "<style>\n",
       ".list-inline {list-style: none; margin:0; padding: 0}\n",
       ".list-inline>li {display: inline-block}\n",
       ".list-inline>li:not(:last-child)::after {content: \"\\00b7\"; padding: 0 .5ex}\n",
       "</style>\n",
       "<ol class=list-inline><li>100</li><li>101</li><li>102</li><li>103</li><li>104</li><li>105</li><li>106</li><li>107</li><li>108</li><li>109</li><li>110</li></ol>\n"
      ],
      "text/latex": [
       "\\begin{enumerate*}\n",
       "\\item 100\n",
       "\\item 101\n",
       "\\item 102\n",
       "\\item 103\n",
       "\\item 104\n",
       "\\item 105\n",
       "\\item 106\n",
       "\\item 107\n",
       "\\item 108\n",
       "\\item 109\n",
       "\\item 110\n",
       "\\end{enumerate*}\n"
      ],
      "text/markdown": [
       "1. 100\n",
       "2. 101\n",
       "3. 102\n",
       "4. 103\n",
       "5. 104\n",
       "6. 105\n",
       "7. 106\n",
       "8. 107\n",
       "9. 108\n",
       "10. 109\n",
       "11. 110\n",
       "\n",
       "\n"
      ],
      "text/plain": [
       " [1] 100 101 102 103 104 105 106 107 108 109 110"
      ]
     },
     "metadata": {},
     "output_type": "display_data"
    },
    {
     "data": {
      "text/html": [
       "<style>\n",
       ".list-inline {list-style: none; margin:0; padding: 0}\n",
       ".list-inline>li {display: inline-block}\n",
       ".list-inline>li:not(:last-child)::after {content: \"\\00b7\"; padding: 0 .5ex}\n",
       "</style>\n",
       "<ol class=list-inline><li>100</li><li>103</li><li>109</li></ol>\n"
      ],
      "text/latex": [
       "\\begin{enumerate*}\n",
       "\\item 100\n",
       "\\item 103\n",
       "\\item 109\n",
       "\\end{enumerate*}\n"
      ],
      "text/markdown": [
       "1. 100\n",
       "2. 103\n",
       "3. 109\n",
       "\n",
       "\n"
      ],
      "text/plain": [
       "[1] 100 103 109"
      ]
     },
     "metadata": {},
     "output_type": "display_data"
    },
    {
     "data": {
      "text/html": [
       "<style>\n",
       ".list-inline {list-style: none; margin:0; padding: 0}\n",
       ".list-inline>li {display: inline-block}\n",
       ".list-inline>li:not(:last-child)::after {content: \"\\00b7\"; padding: 0 .5ex}\n",
       "</style>\n",
       "<ol class=list-inline><li>100</li><li>101</li><li>102</li><li>103</li><li>106</li><li>107</li><li>108</li><li>109</li><li>110</li></ol>\n"
      ],
      "text/latex": [
       "\\begin{enumerate*}\n",
       "\\item 100\n",
       "\\item 101\n",
       "\\item 102\n",
       "\\item 103\n",
       "\\item 106\n",
       "\\item 107\n",
       "\\item 108\n",
       "\\item 109\n",
       "\\item 110\n",
       "\\end{enumerate*}\n"
      ],
      "text/markdown": [
       "1. 100\n",
       "2. 101\n",
       "3. 102\n",
       "4. 103\n",
       "5. 106\n",
       "6. 107\n",
       "7. 108\n",
       "8. 109\n",
       "9. 110\n",
       "\n",
       "\n"
      ],
      "text/plain": [
       "[1] 100 101 102 103 106 107 108 109 110"
      ]
     },
     "metadata": {},
     "output_type": "display_data"
    }
   ],
   "source": [
    "v <- seq(100, 110, 1)\n",
    "v\n",
    "w <- v[c(1, 4, 10)]\n",
    "w\n",
    "x <- v[-c(5, 6)]\n",
    "x"
   ]
  },
  {
   "cell_type": "markdown",
   "metadata": {},
   "source": [
    "<div style='background:#ddcccc;border:1px;border-radius:10px;padding:10px;border-style: solid;border-color:dark-gray;'>\n",
    "<h4><i>Note: selecting by value --- add this in the conditions section.</i></h4>\n",
    "\n",
    "The following code sample is very useful in practice and would repay some study if it doesn't immediately make sense. But if it remains stubbornly difficult we can go through some examples in class.\n",
    "\n",
    "Since we can select items using the indices, we can also select using values (since conditions in a later notebook). You'll notice in the code below that the code <code>v &gt; 105</code> returns a logical vector the same length as the original vector and this can be used to select the item in the original vector. You could also use which(v > 105) which will give you a vector of entries which match the condition.\n",
    "</div>"
   ]
  },
  {
   "cell_type": "code",
   "execution_count": 9,
   "metadata": {},
   "outputs": [
    {
     "data": {
      "text/html": [
       "<style>\n",
       ".list-inline {list-style: none; margin:0; padding: 0}\n",
       ".list-inline>li {display: inline-block}\n",
       ".list-inline>li:not(:last-child)::after {content: \"\\00b7\"; padding: 0 .5ex}\n",
       "</style>\n",
       "<ol class=list-inline><li>100</li><li>101</li><li>102</li><li>103</li><li>104</li><li>105</li><li>106</li><li>107</li><li>108</li><li>109</li><li>110</li></ol>\n"
      ],
      "text/latex": [
       "\\begin{enumerate*}\n",
       "\\item 100\n",
       "\\item 101\n",
       "\\item 102\n",
       "\\item 103\n",
       "\\item 104\n",
       "\\item 105\n",
       "\\item 106\n",
       "\\item 107\n",
       "\\item 108\n",
       "\\item 109\n",
       "\\item 110\n",
       "\\end{enumerate*}\n"
      ],
      "text/markdown": [
       "1. 100\n",
       "2. 101\n",
       "3. 102\n",
       "4. 103\n",
       "5. 104\n",
       "6. 105\n",
       "7. 106\n",
       "8. 107\n",
       "9. 108\n",
       "10. 109\n",
       "11. 110\n",
       "\n",
       "\n"
      ],
      "text/plain": [
       " [1] 100 101 102 103 104 105 106 107 108 109 110"
      ]
     },
     "metadata": {},
     "output_type": "display_data"
    },
    {
     "data": {
      "text/html": [
       "<style>\n",
       ".list-inline {list-style: none; margin:0; padding: 0}\n",
       ".list-inline>li {display: inline-block}\n",
       ".list-inline>li:not(:last-child)::after {content: \"\\00b7\"; padding: 0 .5ex}\n",
       "</style>\n",
       "<ol class=list-inline><li>FALSE</li><li>FALSE</li><li>FALSE</li><li>FALSE</li><li>FALSE</li><li>FALSE</li><li>TRUE</li><li>TRUE</li><li>TRUE</li><li>TRUE</li><li>TRUE</li></ol>\n"
      ],
      "text/latex": [
       "\\begin{enumerate*}\n",
       "\\item FALSE\n",
       "\\item FALSE\n",
       "\\item FALSE\n",
       "\\item FALSE\n",
       "\\item FALSE\n",
       "\\item FALSE\n",
       "\\item TRUE\n",
       "\\item TRUE\n",
       "\\item TRUE\n",
       "\\item TRUE\n",
       "\\item TRUE\n",
       "\\end{enumerate*}\n"
      ],
      "text/markdown": [
       "1. FALSE\n",
       "2. FALSE\n",
       "3. FALSE\n",
       "4. FALSE\n",
       "5. FALSE\n",
       "6. FALSE\n",
       "7. TRUE\n",
       "8. TRUE\n",
       "9. TRUE\n",
       "10. TRUE\n",
       "11. TRUE\n",
       "\n",
       "\n"
      ],
      "text/plain": [
       " [1] FALSE FALSE FALSE FALSE FALSE FALSE  TRUE  TRUE  TRUE  TRUE  TRUE"
      ]
     },
     "metadata": {},
     "output_type": "display_data"
    },
    {
     "data": {
      "text/html": [
       "<style>\n",
       ".list-inline {list-style: none; margin:0; padding: 0}\n",
       ".list-inline>li {display: inline-block}\n",
       ".list-inline>li:not(:last-child)::after {content: \"\\00b7\"; padding: 0 .5ex}\n",
       "</style>\n",
       "<ol class=list-inline><li>106</li><li>107</li><li>108</li><li>109</li><li>110</li></ol>\n"
      ],
      "text/latex": [
       "\\begin{enumerate*}\n",
       "\\item 106\n",
       "\\item 107\n",
       "\\item 108\n",
       "\\item 109\n",
       "\\item 110\n",
       "\\end{enumerate*}\n"
      ],
      "text/markdown": [
       "1. 106\n",
       "2. 107\n",
       "3. 108\n",
       "4. 109\n",
       "5. 110\n",
       "\n",
       "\n"
      ],
      "text/plain": [
       "[1] 106 107 108 109 110"
      ]
     },
     "metadata": {},
     "output_type": "display_data"
    },
    {
     "data": {
      "text/html": [
       "<style>\n",
       ".list-inline {list-style: none; margin:0; padding: 0}\n",
       ".list-inline>li {display: inline-block}\n",
       ".list-inline>li:not(:last-child)::after {content: \"\\00b7\"; padding: 0 .5ex}\n",
       "</style>\n",
       "<ol class=list-inline><li>7</li><li>8</li><li>9</li><li>10</li><li>11</li></ol>\n"
      ],
      "text/latex": [
       "\\begin{enumerate*}\n",
       "\\item 7\n",
       "\\item 8\n",
       "\\item 9\n",
       "\\item 10\n",
       "\\item 11\n",
       "\\end{enumerate*}\n"
      ],
      "text/markdown": [
       "1. 7\n",
       "2. 8\n",
       "3. 9\n",
       "4. 10\n",
       "5. 11\n",
       "\n",
       "\n"
      ],
      "text/plain": [
       "[1]  7  8  9 10 11"
      ]
     },
     "metadata": {},
     "output_type": "display_data"
    },
    {
     "data": {
      "text/html": [
       "<style>\n",
       ".list-inline {list-style: none; margin:0; padding: 0}\n",
       ".list-inline>li {display: inline-block}\n",
       ".list-inline>li:not(:last-child)::after {content: \"\\00b7\"; padding: 0 .5ex}\n",
       "</style>\n",
       "<ol class=list-inline><li>106</li><li>107</li><li>108</li><li>109</li><li>110</li></ol>\n"
      ],
      "text/latex": [
       "\\begin{enumerate*}\n",
       "\\item 106\n",
       "\\item 107\n",
       "\\item 108\n",
       "\\item 109\n",
       "\\item 110\n",
       "\\end{enumerate*}\n"
      ],
      "text/markdown": [
       "1. 106\n",
       "2. 107\n",
       "3. 108\n",
       "4. 109\n",
       "5. 110\n",
       "\n",
       "\n"
      ],
      "text/plain": [
       "[1] 106 107 108 109 110"
      ]
     },
     "metadata": {},
     "output_type": "display_data"
    }
   ],
   "source": [
    "v <- seq(100, 110, 1)\n",
    "v\n",
    "v > 105\n",
    "w <- v[v > 105]\n",
    "w\n",
    "which(v > 105)\n",
    "x <- v[which(v > 105)]\n",
    "x"
   ]
  },
  {
   "cell_type": "markdown",
   "metadata": {},
   "source": [
    "If you want to add an item (which could be another vector of the same type) you can combine them using c()."
   ]
  },
  {
   "cell_type": "code",
   "execution_count": 10,
   "metadata": {},
   "outputs": [
    {
     "data": {
      "text/html": [
       "<style>\n",
       ".list-inline {list-style: none; margin:0; padding: 0}\n",
       ".list-inline>li {display: inline-block}\n",
       ".list-inline>li:not(:last-child)::after {content: \"\\00b7\"; padding: 0 .5ex}\n",
       "</style>\n",
       "<ol class=list-inline><li>1</li><li>2</li><li>3</li><li>4</li><li>5</li><li>6</li><li>7</li><li>8</li><li>9</li><li>10</li></ol>\n"
      ],
      "text/latex": [
       "\\begin{enumerate*}\n",
       "\\item 1\n",
       "\\item 2\n",
       "\\item 3\n",
       "\\item 4\n",
       "\\item 5\n",
       "\\item 6\n",
       "\\item 7\n",
       "\\item 8\n",
       "\\item 9\n",
       "\\item 10\n",
       "\\end{enumerate*}\n"
      ],
      "text/markdown": [
       "1. 1\n",
       "2. 2\n",
       "3. 3\n",
       "4. 4\n",
       "5. 5\n",
       "6. 6\n",
       "7. 7\n",
       "8. 8\n",
       "9. 9\n",
       "10. 10\n",
       "\n",
       "\n"
      ],
      "text/plain": [
       " [1]  1  2  3  4  5  6  7  8  9 10"
      ]
     },
     "metadata": {},
     "output_type": "display_data"
    },
    {
     "data": {
      "text/html": [
       "<style>\n",
       ".list-inline {list-style: none; margin:0; padding: 0}\n",
       ".list-inline>li {display: inline-block}\n",
       ".list-inline>li:not(:last-child)::after {content: \"\\00b7\"; padding: 0 .5ex}\n",
       "</style>\n",
       "<ol class=list-inline><li>300</li><li>320</li><li>340</li><li>360</li><li>380</li><li>400</li></ol>\n"
      ],
      "text/latex": [
       "\\begin{enumerate*}\n",
       "\\item 300\n",
       "\\item 320\n",
       "\\item 340\n",
       "\\item 360\n",
       "\\item 380\n",
       "\\item 400\n",
       "\\end{enumerate*}\n"
      ],
      "text/markdown": [
       "1. 300\n",
       "2. 320\n",
       "3. 340\n",
       "4. 360\n",
       "5. 380\n",
       "6. 400\n",
       "\n",
       "\n"
      ],
      "text/plain": [
       "[1] 300 320 340 360 380 400"
      ]
     },
     "metadata": {},
     "output_type": "display_data"
    },
    {
     "data": {
      "text/html": [
       "<style>\n",
       ".list-inline {list-style: none; margin:0; padding: 0}\n",
       ".list-inline>li {display: inline-block}\n",
       ".list-inline>li:not(:last-child)::after {content: \"\\00b7\"; padding: 0 .5ex}\n",
       "</style>\n",
       "<ol class=list-inline><li>1</li><li>2</li><li>3</li><li>4</li><li>5</li><li>6</li><li>7</li><li>8</li><li>9</li><li>10</li><li>300</li><li>320</li><li>340</li><li>360</li><li>380</li><li>400</li></ol>\n"
      ],
      "text/latex": [
       "\\begin{enumerate*}\n",
       "\\item 1\n",
       "\\item 2\n",
       "\\item 3\n",
       "\\item 4\n",
       "\\item 5\n",
       "\\item 6\n",
       "\\item 7\n",
       "\\item 8\n",
       "\\item 9\n",
       "\\item 10\n",
       "\\item 300\n",
       "\\item 320\n",
       "\\item 340\n",
       "\\item 360\n",
       "\\item 380\n",
       "\\item 400\n",
       "\\end{enumerate*}\n"
      ],
      "text/markdown": [
       "1. 1\n",
       "2. 2\n",
       "3. 3\n",
       "4. 4\n",
       "5. 5\n",
       "6. 6\n",
       "7. 7\n",
       "8. 8\n",
       "9. 9\n",
       "10. 10\n",
       "11. 300\n",
       "12. 320\n",
       "13. 340\n",
       "14. 360\n",
       "15. 380\n",
       "16. 400\n",
       "\n",
       "\n"
      ],
      "text/plain": [
       " [1]   1   2   3   4   5   6   7   8   9  10 300 320 340 360 380 400"
      ]
     },
     "metadata": {},
     "output_type": "display_data"
    }
   ],
   "source": [
    "v <- seq(1, 10, 1)\n",
    "v\n",
    "w <- seq(300, 400, 20)\n",
    "w\n",
    "x <- c(v, w)\n",
    "x"
   ]
  },
  {
   "cell_type": "markdown",
   "metadata": {},
   "source": [
    "<div style='background:#ddddcc;border:1px;border-radius:10px;padding:10px;border-style: solid;border-color:dark-gray;'>\n",
    "<h4><i>Exercise: create a vector with BMI data.</i></h4>\n",
    "\n",
    "Create 4 vectors: one with an ID value, one with a weight value (in kg), one with a height value (in cm) and one with the corresponding BMI value.\n",
    "Three hints:\n",
    "    <ol>\n",
    "        <li>BMI = weight(kg) / (height(m) ^ 2).</li>\n",
    "        <li>Use rnorm() (normally distributed random numbers) to create a set of random numbers with parameters mean and sd for mean and standard deviation (you could investigate average weight and height and guess a standard deviation of, day 1/5 of those values.</li>\n",
    "        <li>You can use hist(x) to see the spread of values of a vector, x.</li>\n",
    "    </ol>\n",
    "    \n",
    "There is a solution in the box below but you will need to decode it first.\n",
    "</div>"
   ]
  },
  {
   "cell_type": "code",
   "execution_count": 13,
   "metadata": {},
   "outputs": [],
   "source": [
    "# This code will produce a possible solution to the exercise. Simply remove the\n",
    "# commment character from the start of the last line, run this segment and copy\n",
    "# and paste the resulting code into another box or RStudio and run it.\n",
    "library(caTools)\n",
    "decode <- function(string){\n",
    "    cat(base64decode(string, what='character'))\n",
    "}\n",
    "solution <- 'biA8LSAxMDAKaWQgPC0gc2VxKDEwMDAsIDEwMDAgKyBuIC0gMSwgMSkgCmlkCndlaWdodF9rZyA8LSBhcy5pbnRlZ2VyKHJub3JtKG4sIG1lYW49NzAsIHNkPTE0KSkKd2VpZ2h0X2tnCmhpc3Qod2VpZ2h0X2tnKQpoZWlnaHRfY20gPC0gYXMuaW50ZWdlcihybm9ybShuLCBtZWFuPTE2NSwgc2Q9MzMpKQpoZWlnaHRfY20KaGlzdChoZWlnaHRfY20pCmJtaSA8LSB3ZWlnaHRfa2cgLyAoKGhlaWdodF9jbSAvIDEwMCkgXiAyKQpibWkKaGlzdChibWkp'\n",
    "# decode(solution)"
   ]
  },
  {
   "cell_type": "markdown",
   "metadata": {},
   "source": [
    "### _Lists_\n",
    "\n",
    "A list differs from a vector in that you can mix items of different types in a vector. And they tend to behave slightly differently. For example the display is not the same and functions like mean() don't really work with a list. Lists are useful for gathering data together in 'objects' or 'structures' (if you've programmed in other languages) and to make it possible to return multiple values from a function.\n",
    "\n",
    "Note that you can't use the combine (c()) function as this will create a vector of strings (it will convert all other data types to a string first)."
   ]
  },
  {
   "cell_type": "code",
   "execution_count": 14,
   "metadata": {},
   "outputs": [
    {
     "data": {
      "text/html": [
       "<style>\n",
       ".list-inline {list-style: none; margin:0; padding: 0}\n",
       ".list-inline>li {display: inline-block}\n",
       ".list-inline>li:not(:last-child)::after {content: \"\\00b7\"; padding: 0 .5ex}\n",
       "</style>\n",
       "<ol class=list-inline><li>'1'</li><li>'two'</li><li>'3.3'</li></ol>\n"
      ],
      "text/latex": [
       "\\begin{enumerate*}\n",
       "\\item '1'\n",
       "\\item 'two'\n",
       "\\item '3.3'\n",
       "\\end{enumerate*}\n"
      ],
      "text/markdown": [
       "1. '1'\n",
       "2. 'two'\n",
       "3. '3.3'\n",
       "\n",
       "\n"
      ],
      "text/plain": [
       "[1] \"1\"   \"two\" \"3.3\""
      ]
     },
     "metadata": {},
     "output_type": "display_data"
    },
    {
     "data": {
      "text/html": [
       "<ol>\n",
       "\t<li>1</li>\n",
       "\t<li>'two'</li>\n",
       "\t<li>3.3</li>\n",
       "</ol>\n"
      ],
      "text/latex": [
       "\\begin{enumerate}\n",
       "\\item 1\n",
       "\\item 'two'\n",
       "\\item 3.3\n",
       "\\end{enumerate}\n"
      ],
      "text/markdown": [
       "1. 1\n",
       "2. 'two'\n",
       "3. 3.3\n",
       "\n",
       "\n"
      ],
      "text/plain": [
       "[[1]]\n",
       "[1] 1\n",
       "\n",
       "[[2]]\n",
       "[1] \"two\"\n",
       "\n",
       "[[3]]\n",
       "[1] 3.3\n"
      ]
     },
     "metadata": {},
     "output_type": "display_data"
    }
   ],
   "source": [
    "v <- c(1, \"two\", 3.3)\n",
    "v\n",
    "w <- list(1, \"two\", 3.3)\n",
    "w"
   ]
  },
  {
   "cell_type": "markdown",
   "metadata": {},
   "source": [
    "You can select an item in the same way as for the vectors but here there is another subtle difference - a vector returns an item (e.g. a number from a vector of numbers) but a list returns a smaller list with just a single entry.\n",
    "\n",
    "If you want to access the value of that single list entry, you need to use double square brackets.\n",
    "\n",
    "You could think of a list as a container in which you can place all sorts of objects and the square brackets returns a smaller container with the object you have requested. If you want to access the object itself, you then need to apply the square brackets to the smaller container."
   ]
  },
  {
   "cell_type": "code",
   "execution_count": 15,
   "metadata": {},
   "outputs": [
    {
     "data": {
      "text/html": [
       "'two'"
      ],
      "text/latex": [
       "'two'"
      ],
      "text/markdown": [
       "'two'"
      ],
      "text/plain": [
       "[1] \"two\""
      ]
     },
     "metadata": {},
     "output_type": "display_data"
    },
    {
     "data": {
      "text/html": [
       "<ol>\n",
       "\t<li>'two'</li>\n",
       "</ol>\n"
      ],
      "text/latex": [
       "\\begin{enumerate}\n",
       "\\item 'two'\n",
       "\\end{enumerate}\n"
      ],
      "text/markdown": [
       "1. 'two'\n",
       "\n",
       "\n"
      ],
      "text/plain": [
       "[[1]]\n",
       "[1] \"two\"\n"
      ]
     },
     "metadata": {},
     "output_type": "display_data"
    },
    {
     "data": {
      "text/html": [
       "'two'"
      ],
      "text/latex": [
       "'two'"
      ],
      "text/markdown": [
       "'two'"
      ],
      "text/plain": [
       "[1] \"two\""
      ]
     },
     "metadata": {},
     "output_type": "display_data"
    },
    {
     "name": "stdout",
     "output_type": "stream",
     "text": [
      "[1] \"Combined this is a list:\"\n",
      "[[1]]\n",
      "[1] \"one\"\n",
      "\n",
      "[[2]]\n",
      "[1] \"two\"\n",
      "\n",
      "[1] \"Combined, this one is a vector:\"\n",
      "[1] \"one\" \"two\"\n"
     ]
    }
   ],
   "source": [
    "v <- c(1, \"two\", 3.3)\n",
    "v[2]\n",
    "w <- list(1, \"two\", 3.3)\n",
    "w[2]\n",
    "w[[2]]\n",
    "# Note the difference between combining a value with the list version (you get a list) and\n",
    "# a value with the vector version (you get a vector). The print() function applied to these\n",
    "# data types may give you a better sense of how this is working.\n",
    "v <- c(\"one\", w[2])\n",
    "print('Combined this is a list:')\n",
    "print(v)\n",
    "v <- c(\"one\", w[[2]])\n",
    "print('Combined, this one is a vector:')\n",
    "print(v)"
   ]
  },
  {
   "cell_type": "markdown",
   "metadata": {},
   "source": [
    "In case you ever find yourself stuck with a list, you can always flatten it to a vector of strings using the function unlist() which will also work on a list of lists."
   ]
  },
  {
   "cell_type": "code",
   "execution_count": 16,
   "metadata": {},
   "outputs": [
    {
     "data": {
      "text/html": [
       "<style>\n",
       ".list-inline {list-style: none; margin:0; padding: 0}\n",
       ".list-inline>li {display: inline-block}\n",
       ".list-inline>li:not(:last-child)::after {content: \"\\00b7\"; padding: 0 .5ex}\n",
       "</style>\n",
       "<ol class=list-inline><li>'1'</li><li>'two'</li><li>'3.3'</li></ol>\n"
      ],
      "text/latex": [
       "\\begin{enumerate*}\n",
       "\\item '1'\n",
       "\\item 'two'\n",
       "\\item '3.3'\n",
       "\\end{enumerate*}\n"
      ],
      "text/markdown": [
       "1. '1'\n",
       "2. 'two'\n",
       "3. '3.3'\n",
       "\n",
       "\n"
      ],
      "text/plain": [
       "[1] \"1\"   \"two\" \"3.3\""
      ]
     },
     "metadata": {},
     "output_type": "display_data"
    },
    {
     "name": "stdout",
     "output_type": "stream",
     "text": [
      "[[1]]\n",
      "[1] 200\n",
      "\n",
      "[[2]]\n",
      "[[2]][[1]]\n",
      "[1] 1\n",
      "\n",
      "[[2]][[2]]\n",
      "[1] \"two\"\n",
      "\n",
      "[[2]][[3]]\n",
      "[1] 3.3\n",
      "\n",
      "\n",
      "[[3]]\n",
      "[1] \"outside\"\n",
      "\n"
     ]
    },
    {
     "data": {
      "text/html": [
       "<style>\n",
       ".list-inline {list-style: none; margin:0; padding: 0}\n",
       ".list-inline>li {display: inline-block}\n",
       ".list-inline>li:not(:last-child)::after {content: \"\\00b7\"; padding: 0 .5ex}\n",
       "</style>\n",
       "<ol class=list-inline><li>'200'</li><li>'1'</li><li>'two'</li><li>'3.3'</li><li>'outside'</li></ol>\n"
      ],
      "text/latex": [
       "\\begin{enumerate*}\n",
       "\\item '200'\n",
       "\\item '1'\n",
       "\\item 'two'\n",
       "\\item '3.3'\n",
       "\\item 'outside'\n",
       "\\end{enumerate*}\n"
      ],
      "text/markdown": [
       "1. '200'\n",
       "2. '1'\n",
       "3. 'two'\n",
       "4. '3.3'\n",
       "5. 'outside'\n",
       "\n",
       "\n"
      ],
      "text/plain": [
       "[1] \"200\"     \"1\"       \"two\"     \"3.3\"     \"outside\""
      ]
     },
     "metadata": {},
     "output_type": "display_data"
    },
    {
     "data": {
      "text/html": [
       "<dl>\n",
       "\t<dt>$numb</dt>\n",
       "\t\t<dd>1</dd>\n",
       "\t<dt>$char</dt>\n",
       "\t\t<dd>'two'</dd>\n",
       "\t<dt>$dec</dt>\n",
       "\t\t<dd>3.3</dd>\n",
       "</dl>\n"
      ],
      "text/latex": [
       "\\begin{description}\n",
       "\\item[\\$numb] 1\n",
       "\\item[\\$char] 'two'\n",
       "\\item[\\$dec] 3.3\n",
       "\\end{description}\n"
      ],
      "text/markdown": [
       "$numb\n",
       ":   1\n",
       "$char\n",
       ":   'two'\n",
       "$dec\n",
       ":   3.3\n",
       "\n",
       "\n"
      ],
      "text/plain": [
       "$numb\n",
       "[1] 1\n",
       "\n",
       "$char\n",
       "[1] \"two\"\n",
       "\n",
       "$dec\n",
       "[1] 3.3\n"
      ]
     },
     "metadata": {},
     "output_type": "display_data"
    }
   ],
   "source": [
    "w <- list(1, \"two\", 3.3)\n",
    "unlist(w)\n",
    "x <- list(200, w, 'outside')\n",
    "print(x)\n",
    "unlist(x)\n",
    "# You can name the items in the list as well, if you want.\n",
    "w <- list(numb=1, char=\"two\", dec=3.3)\n",
    "w"
   ]
  },
  {
   "cell_type": "markdown",
   "metadata": {},
   "source": [
    "<div style='background:#ddddcc;border:1px;border-radius:10px;padding:10px;border-style: solid;border-color:dark-gray;'>\n",
    "<h4><i>Exercise: create a list with all the height, weight and BMI information for a selected ID.</i></h4>\n",
    "\n",
    "Pick an ID from the vector (you can do this manually or randomly) and create a list for that ID only which contains the ID,\n",
    "the weight, the height and the BMI. To make it more interesting, convert the weight and height to character strings and append\n",
    "the units (e.g. kg or cm).\n",
    "    \n",
    "A hint:\n",
    "    <ol>\n",
    "        <li>To add the units, you can use the function paste() which works like cat() except that it doesn't print the result.</li>\n",
    "    </ol>\n",
    "    \n",
    "There is a solution in the box below but you will need to decode it first.\n",
    "</div>"
   ]
  },
  {
   "cell_type": "code",
   "execution_count": 18,
   "metadata": {},
   "outputs": [],
   "source": [
    "# This code will produce a possible solution to the exercise. Simply remove the\n",
    "# commment character from the start of the last line, run this segment and copy\n",
    "# and paste the resulting code into another box or RStudio and run it.\n",
    "library(caTools)\n",
    "decode <- function(string){\n",
    "    cat(base64decode(string, what='character'))\n",
    "}\n",
    "solution <- 'aSA8LSAyMApsaXN0KGlkPWlkW2ldLCB3ZWlnaHQ9cGFzdGUod2VpZ2h0X2tnW2ldLCAna2cnKSwgaGVpZ2h0PXBhc3RlKGhlaWdodF9jbVtpXSwgJ2NtJyksIGJtaT1ibWlbaV0p'\n",
    "# decode(solution)"
   ]
  },
  {
   "cell_type": "markdown",
   "metadata": {},
   "source": [
    "### _Data frames_\n",
    "\n",
    "Data frames are the workhorses of data science. They are simply a two dimensional table of vectors of the same length. The columns in a data frame do not need to be of the same data type, but all the items in each column do have to be of the same type.\n",
    "\n",
    "#### _Creating a data frame_\n",
    "\n",
    "You can create a data frame with the data.frame() function. Each columns will be given a name which you can use to refer to the data."
   ]
  },
  {
   "cell_type": "code",
   "execution_count": 19,
   "metadata": {},
   "outputs": [
    {
     "data": {
      "text/html": [
       "<table class=\"dataframe\">\n",
       "<caption>A data.frame: 4 × 3</caption>\n",
       "<thead>\n",
       "\t<tr><th scope=col>id</th><th scope=col>age</th><th scope=col>gender</th></tr>\n",
       "\t<tr><th scope=col>&lt;dbl&gt;</th><th scope=col>&lt;dbl&gt;</th><th scope=col>&lt;chr&gt;</th></tr>\n",
       "</thead>\n",
       "<tbody>\n",
       "\t<tr><td>1</td><td>30</td><td>m</td></tr>\n",
       "\t<tr><td>2</td><td>42</td><td>f</td></tr>\n",
       "\t<tr><td>3</td><td>21</td><td>f</td></tr>\n",
       "\t<tr><td>4</td><td>59</td><td>x</td></tr>\n",
       "</tbody>\n",
       "</table>\n"
      ],
      "text/latex": [
       "A data.frame: 4 × 3\n",
       "\\begin{tabular}{lll}\n",
       " id & age & gender\\\\\n",
       " <dbl> & <dbl> & <chr>\\\\\n",
       "\\hline\n",
       "\t 1 & 30 & m\\\\\n",
       "\t 2 & 42 & f\\\\\n",
       "\t 3 & 21 & f\\\\\n",
       "\t 4 & 59 & x\\\\\n",
       "\\end{tabular}\n"
      ],
      "text/markdown": [
       "\n",
       "A data.frame: 4 × 3\n",
       "\n",
       "| id &lt;dbl&gt; | age &lt;dbl&gt; | gender &lt;chr&gt; |\n",
       "|---|---|---|\n",
       "| 1 | 30 | m |\n",
       "| 2 | 42 | f |\n",
       "| 3 | 21 | f |\n",
       "| 4 | 59 | x |\n",
       "\n"
      ],
      "text/plain": [
       "  id age gender\n",
       "1 1  30  m     \n",
       "2 2  42  f     \n",
       "3 3  21  f     \n",
       "4 4  59  x     "
      ]
     },
     "metadata": {},
     "output_type": "display_data"
    }
   ],
   "source": [
    "df <- data.frame(id = c(1, 2, 3, 4), age = c(30, 42, 21,59), gender = c('m', 'f', 'f', 'x'))\n",
    "df"
   ]
  },
  {
   "cell_type": "markdown",
   "metadata": {},
   "source": [
    "<div style='background:#ddddcc;border:1px;border-radius:10px;padding:10px;border-style: solid;border-color:dark-gray;'>\n",
    "<h4><i>Exercise: now that we have a two-dimensional data frame how do you find out its size?</i></h4>\n",
    "\n",
    "Try length() and see what you get.\n",
    "    \n",
    "Have a look on the internet for suggestions about how to determine the size of a data frame in R.\n",
    "    \n",
    "There is a solution in the box below but you will need to decode it first.\n",
    "</div>"
   ]
  },
  {
   "cell_type": "code",
   "execution_count": 22,
   "metadata": {},
   "outputs": [],
   "source": [
    "# This code will produce a possible solution to the exercise. Simply remove the\n",
    "# commment character from the start of the last line, run this segment and copy\n",
    "# and paste the resulting code into another box or RStudio and run it.\n",
    "library(caTools)\n",
    "decode <- function(string){\n",
    "    cat(base64decode(string, what='character'))\n",
    "}\n",
    "solution <- 'bGVuZ3RoKGRmKQpkaW0oZGYpCm5yb3coZGYp'\n",
    "# decode(solution)"
   ]
  },
  {
   "cell_type": "markdown",
   "metadata": {},
   "source": [
    "#### _Accessing the data in a data frame_\n",
    "\n",
    "This works much the same as with a vector except that now we may need to specify the row and column of the data we are interested in. So, for example, to get the age of person with id 3, we could specify:\n",
    "\n",
    "`df[3, 2]`\n",
    "\n",
    "where the row comes first and the column second (this is always how it works so worth trying to remember).\n",
    "\n",
    "If you get an error here, make sure that you have run the creation code in the box above."
   ]
  },
  {
   "cell_type": "code",
   "execution_count": 23,
   "metadata": {},
   "outputs": [
    {
     "data": {
      "text/html": [
       "21"
      ],
      "text/latex": [
       "21"
      ],
      "text/markdown": [
       "21"
      ],
      "text/plain": [
       "[1] 21"
      ]
     },
     "metadata": {},
     "output_type": "display_data"
    }
   ],
   "source": [
    "df[3, 2]"
   ]
  },
  {
   "cell_type": "markdown",
   "metadata": {},
   "source": [
    "If you leave the row or the column entry blank, you will get the entire row or column but notice that when you request a column you will get a vector (not a data frame with one column), but for a row, you get a data frame with a single row.\n",
    "\n",
    "You can also refer to the column and row names (if they have one) using a string of the name (i.e. in quotes) or using the $ notation for a column which is quite useful when you need a column, for example, for analysis or plotting."
   ]
  },
  {
   "cell_type": "code",
   "execution_count": 24,
   "metadata": {},
   "outputs": [
    {
     "data": {
      "text/html": [
       "<style>\n",
       ".list-inline {list-style: none; margin:0; padding: 0}\n",
       ".list-inline>li {display: inline-block}\n",
       ".list-inline>li:not(:last-child)::after {content: \"\\00b7\"; padding: 0 .5ex}\n",
       "</style>\n",
       "<ol class=list-inline><li>'m'</li><li>'f'</li><li>'f'</li><li>'x'</li></ol>\n"
      ],
      "text/latex": [
       "\\begin{enumerate*}\n",
       "\\item 'm'\n",
       "\\item 'f'\n",
       "\\item 'f'\n",
       "\\item 'x'\n",
       "\\end{enumerate*}\n"
      ],
      "text/markdown": [
       "1. 'm'\n",
       "2. 'f'\n",
       "3. 'f'\n",
       "4. 'x'\n",
       "\n",
       "\n"
      ],
      "text/plain": [
       "[1] \"m\" \"f\" \"f\" \"x\""
      ]
     },
     "metadata": {},
     "output_type": "display_data"
    },
    {
     "data": {
      "text/html": [
       "<table class=\"dataframe\">\n",
       "<caption>A data.frame: 1 × 3</caption>\n",
       "<thead>\n",
       "\t<tr><th></th><th scope=col>id</th><th scope=col>age</th><th scope=col>gender</th></tr>\n",
       "\t<tr><th></th><th scope=col>&lt;dbl&gt;</th><th scope=col>&lt;dbl&gt;</th><th scope=col>&lt;chr&gt;</th></tr>\n",
       "</thead>\n",
       "<tbody>\n",
       "\t<tr><th scope=row>4</th><td>4</td><td>59</td><td>x</td></tr>\n",
       "</tbody>\n",
       "</table>\n"
      ],
      "text/latex": [
       "A data.frame: 1 × 3\n",
       "\\begin{tabular}{r|lll}\n",
       "  & id & age & gender\\\\\n",
       "  & <dbl> & <dbl> & <chr>\\\\\n",
       "\\hline\n",
       "\t4 & 4 & 59 & x\\\\\n",
       "\\end{tabular}\n"
      ],
      "text/markdown": [
       "\n",
       "A data.frame: 1 × 3\n",
       "\n",
       "| <!--/--> | id &lt;dbl&gt; | age &lt;dbl&gt; | gender &lt;chr&gt; |\n",
       "|---|---|---|---|\n",
       "| 4 | 4 | 59 | x |\n",
       "\n"
      ],
      "text/plain": [
       "  id age gender\n",
       "4 4  59  x     "
      ]
     },
     "metadata": {},
     "output_type": "display_data"
    },
    {
     "data": {
      "text/html": [
       "<style>\n",
       ".list-inline {list-style: none; margin:0; padding: 0}\n",
       ".list-inline>li {display: inline-block}\n",
       ".list-inline>li:not(:last-child)::after {content: \"\\00b7\"; padding: 0 .5ex}\n",
       "</style>\n",
       "<ol class=list-inline><li>30</li><li>42</li><li>21</li><li>59</li></ol>\n"
      ],
      "text/latex": [
       "\\begin{enumerate*}\n",
       "\\item 30\n",
       "\\item 42\n",
       "\\item 21\n",
       "\\item 59\n",
       "\\end{enumerate*}\n"
      ],
      "text/markdown": [
       "1. 30\n",
       "2. 42\n",
       "3. 21\n",
       "4. 59\n",
       "\n",
       "\n"
      ],
      "text/plain": [
       "[1] 30 42 21 59"
      ]
     },
     "metadata": {},
     "output_type": "display_data"
    },
    {
     "data": {
      "text/html": [
       "<style>\n",
       ".list-inline {list-style: none; margin:0; padding: 0}\n",
       ".list-inline>li {display: inline-block}\n",
       ".list-inline>li:not(:last-child)::after {content: \"\\00b7\"; padding: 0 .5ex}\n",
       "</style>\n",
       "<ol class=list-inline><li>30</li><li>42</li><li>21</li><li>59</li></ol>\n"
      ],
      "text/latex": [
       "\\begin{enumerate*}\n",
       "\\item 30\n",
       "\\item 42\n",
       "\\item 21\n",
       "\\item 59\n",
       "\\end{enumerate*}\n"
      ],
      "text/markdown": [
       "1. 30\n",
       "2. 42\n",
       "3. 21\n",
       "4. 59\n",
       "\n",
       "\n"
      ],
      "text/plain": [
       "[1] 30 42 21 59"
      ]
     },
     "metadata": {},
     "output_type": "display_data"
    }
   ],
   "source": [
    "df[, 3]\n",
    "df[4, ]\n",
    "df[, 'age']\n",
    "df$age"
   ]
  },
  {
   "cell_type": "markdown",
   "metadata": {},
   "source": [
    "And, again, you can request multiple columns and rows using the c() function to combine indices of the rows and another for the columns you want and you can exclude rows and columns with the minus sign."
   ]
  },
  {
   "cell_type": "code",
   "execution_count": 25,
   "metadata": {},
   "outputs": [
    {
     "data": {
      "text/html": [
       "<table class=\"dataframe\">\n",
       "<caption>A data.frame: 2 × 2</caption>\n",
       "<thead>\n",
       "\t<tr><th></th><th scope=col>id</th><th scope=col>gender</th></tr>\n",
       "\t<tr><th></th><th scope=col>&lt;dbl&gt;</th><th scope=col>&lt;chr&gt;</th></tr>\n",
       "</thead>\n",
       "<tbody>\n",
       "\t<tr><th scope=row>2</th><td>2</td><td>f</td></tr>\n",
       "\t<tr><th scope=row>4</th><td>4</td><td>x</td></tr>\n",
       "</tbody>\n",
       "</table>\n"
      ],
      "text/latex": [
       "A data.frame: 2 × 2\n",
       "\\begin{tabular}{r|ll}\n",
       "  & id & gender\\\\\n",
       "  & <dbl> & <chr>\\\\\n",
       "\\hline\n",
       "\t2 & 2 & f\\\\\n",
       "\t4 & 4 & x\\\\\n",
       "\\end{tabular}\n"
      ],
      "text/markdown": [
       "\n",
       "A data.frame: 2 × 2\n",
       "\n",
       "| <!--/--> | id &lt;dbl&gt; | gender &lt;chr&gt; |\n",
       "|---|---|---|\n",
       "| 2 | 2 | f |\n",
       "| 4 | 4 | x |\n",
       "\n"
      ],
      "text/plain": [
       "  id gender\n",
       "2 2  f     \n",
       "4 4  x     "
      ]
     },
     "metadata": {},
     "output_type": "display_data"
    },
    {
     "data": {
      "text/html": [
       "<table class=\"dataframe\">\n",
       "<caption>A data.frame: 3 × 2</caption>\n",
       "<thead>\n",
       "\t<tr><th></th><th scope=col>id</th><th scope=col>age</th></tr>\n",
       "\t<tr><th></th><th scope=col>&lt;dbl&gt;</th><th scope=col>&lt;dbl&gt;</th></tr>\n",
       "</thead>\n",
       "<tbody>\n",
       "\t<tr><th scope=row>2</th><td>2</td><td>42</td></tr>\n",
       "\t<tr><th scope=row>3</th><td>3</td><td>21</td></tr>\n",
       "\t<tr><th scope=row>4</th><td>4</td><td>59</td></tr>\n",
       "</tbody>\n",
       "</table>\n"
      ],
      "text/latex": [
       "A data.frame: 3 × 2\n",
       "\\begin{tabular}{r|ll}\n",
       "  & id & age\\\\\n",
       "  & <dbl> & <dbl>\\\\\n",
       "\\hline\n",
       "\t2 & 2 & 42\\\\\n",
       "\t3 & 3 & 21\\\\\n",
       "\t4 & 4 & 59\\\\\n",
       "\\end{tabular}\n"
      ],
      "text/markdown": [
       "\n",
       "A data.frame: 3 × 2\n",
       "\n",
       "| <!--/--> | id &lt;dbl&gt; | age &lt;dbl&gt; |\n",
       "|---|---|---|\n",
       "| 2 | 2 | 42 |\n",
       "| 3 | 3 | 21 |\n",
       "| 4 | 4 | 59 |\n",
       "\n"
      ],
      "text/plain": [
       "  id age\n",
       "2 2  42 \n",
       "3 3  21 \n",
       "4 4  59 "
      ]
     },
     "metadata": {},
     "output_type": "display_data"
    }
   ],
   "source": [
    "df[c(2, 4), c(1, 3)]\n",
    "df[-c(1), c('id', 'age')]"
   ]
  },
  {
   "cell_type": "markdown",
   "metadata": {},
   "source": [
    "#### _Adding rows and columns_\n",
    "\n",
    "You can add a row to a data frame using a function, rbind(). The row must have the same number of variables as the data frame in the same order/with the same names. Be careful with the data types - R will automatically convert anything inconsistent to a character string as this is safe for all data but may not be what you intended.\n",
    "\n",
    "Also note that this works for more than one row - you can add complete data frames together in this way."
   ]
  },
  {
   "cell_type": "code",
   "execution_count": 26,
   "metadata": {},
   "outputs": [
    {
     "data": {
      "text/html": [
       "<table class=\"dataframe\">\n",
       "<caption>A data.frame: 5 × 3</caption>\n",
       "<thead>\n",
       "\t<tr><th scope=col>id</th><th scope=col>age</th><th scope=col>gender</th></tr>\n",
       "\t<tr><th scope=col>&lt;dbl&gt;</th><th scope=col>&lt;chr&gt;</th><th scope=col>&lt;chr&gt;</th></tr>\n",
       "</thead>\n",
       "<tbody>\n",
       "\t<tr><td>1</td><td>30</td><td>m</td></tr>\n",
       "\t<tr><td>2</td><td>42</td><td>f</td></tr>\n",
       "\t<tr><td>3</td><td>21</td><td>f</td></tr>\n",
       "\t<tr><td>4</td><td>59</td><td>x</td></tr>\n",
       "\t<tr><td>5</td><td>33</td><td>m</td></tr>\n",
       "</tbody>\n",
       "</table>\n"
      ],
      "text/latex": [
       "A data.frame: 5 × 3\n",
       "\\begin{tabular}{lll}\n",
       " id & age & gender\\\\\n",
       " <dbl> & <chr> & <chr>\\\\\n",
       "\\hline\n",
       "\t 1 & 30 & m\\\\\n",
       "\t 2 & 42 & f\\\\\n",
       "\t 3 & 21 & f\\\\\n",
       "\t 4 & 59 & x\\\\\n",
       "\t 5 & 33 & m\\\\\n",
       "\\end{tabular}\n"
      ],
      "text/markdown": [
       "\n",
       "A data.frame: 5 × 3\n",
       "\n",
       "| id &lt;dbl&gt; | age &lt;chr&gt; | gender &lt;chr&gt; |\n",
       "|---|---|---|\n",
       "| 1 | 30 | m |\n",
       "| 2 | 42 | f |\n",
       "| 3 | 21 | f |\n",
       "| 4 | 59 | x |\n",
       "| 5 | 33 | m |\n",
       "\n"
      ],
      "text/plain": [
       "  id age gender\n",
       "1 1  30  m     \n",
       "2 2  42  f     \n",
       "3 3  21  f     \n",
       "4 4  59  x     \n",
       "5 5  33  m     "
      ]
     },
     "metadata": {},
     "output_type": "display_data"
    },
    {
     "data": {
      "text/html": [
       "<table class=\"dataframe\">\n",
       "<caption>A data.frame: 4 × 3</caption>\n",
       "<thead>\n",
       "\t<tr><th scope=col>id</th><th scope=col>age</th><th scope=col>gender</th></tr>\n",
       "\t<tr><th scope=col>&lt;dbl&gt;</th><th scope=col>&lt;dbl&gt;</th><th scope=col>&lt;chr&gt;</th></tr>\n",
       "</thead>\n",
       "<tbody>\n",
       "\t<tr><td>1</td><td>30</td><td>m</td></tr>\n",
       "\t<tr><td>2</td><td>42</td><td>f</td></tr>\n",
       "\t<tr><td>3</td><td>21</td><td>f</td></tr>\n",
       "\t<tr><td>4</td><td>59</td><td>x</td></tr>\n",
       "</tbody>\n",
       "</table>\n"
      ],
      "text/latex": [
       "A data.frame: 4 × 3\n",
       "\\begin{tabular}{lll}\n",
       " id & age & gender\\\\\n",
       " <dbl> & <dbl> & <chr>\\\\\n",
       "\\hline\n",
       "\t 1 & 30 & m\\\\\n",
       "\t 2 & 42 & f\\\\\n",
       "\t 3 & 21 & f\\\\\n",
       "\t 4 & 59 & x\\\\\n",
       "\\end{tabular}\n"
      ],
      "text/markdown": [
       "\n",
       "A data.frame: 4 × 3\n",
       "\n",
       "| id &lt;dbl&gt; | age &lt;dbl&gt; | gender &lt;chr&gt; |\n",
       "|---|---|---|\n",
       "| 1 | 30 | m |\n",
       "| 2 | 42 | f |\n",
       "| 3 | 21 | f |\n",
       "| 4 | 59 | x |\n",
       "\n"
      ],
      "text/plain": [
       "  id age gender\n",
       "1 1  30  m     \n",
       "2 2  42  f     \n",
       "3 3  21  f     \n",
       "4 4  59  x     "
      ]
     },
     "metadata": {},
     "output_type": "display_data"
    },
    {
     "data": {
      "text/html": [
       "<table class=\"dataframe\">\n",
       "<caption>A data.frame: 5 × 3</caption>\n",
       "<thead>\n",
       "\t<tr><th scope=col>id</th><th scope=col>age</th><th scope=col>gender</th></tr>\n",
       "\t<tr><th scope=col>&lt;dbl&gt;</th><th scope=col>&lt;chr&gt;</th><th scope=col>&lt;chr&gt;</th></tr>\n",
       "</thead>\n",
       "<tbody>\n",
       "\t<tr><td>1</td><td>30</td><td>m</td></tr>\n",
       "\t<tr><td>2</td><td>42</td><td>f</td></tr>\n",
       "\t<tr><td>3</td><td>21</td><td>f</td></tr>\n",
       "\t<tr><td>4</td><td>59</td><td>x</td></tr>\n",
       "\t<tr><td>5</td><td>33</td><td>m</td></tr>\n",
       "</tbody>\n",
       "</table>\n"
      ],
      "text/latex": [
       "A data.frame: 5 × 3\n",
       "\\begin{tabular}{lll}\n",
       " id & age & gender\\\\\n",
       " <dbl> & <chr> & <chr>\\\\\n",
       "\\hline\n",
       "\t 1 & 30 & m\\\\\n",
       "\t 2 & 42 & f\\\\\n",
       "\t 3 & 21 & f\\\\\n",
       "\t 4 & 59 & x\\\\\n",
       "\t 5 & 33 & m\\\\\n",
       "\\end{tabular}\n"
      ],
      "text/markdown": [
       "\n",
       "A data.frame: 5 × 3\n",
       "\n",
       "| id &lt;dbl&gt; | age &lt;chr&gt; | gender &lt;chr&gt; |\n",
       "|---|---|---|\n",
       "| 1 | 30 | m |\n",
       "| 2 | 42 | f |\n",
       "| 3 | 21 | f |\n",
       "| 4 | 59 | x |\n",
       "| 5 | 33 | m |\n",
       "\n"
      ],
      "text/plain": [
       "  id age gender\n",
       "1 1  30  m     \n",
       "2 2  42  f     \n",
       "3 3  21  f     \n",
       "4 4  59  x     \n",
       "5 5  33  m     "
      ]
     },
     "metadata": {},
     "output_type": "display_data"
    }
   ],
   "source": [
    "new_row <- data.frame(id=5, age='33', gender='m')\n",
    "rbind(df, new_row)\n",
    "# Note that this has not changed 'df', it has created a new data frame.\n",
    "df\n",
    "# If you want to change df, you need to save the new data frame to df:\n",
    "df <- rbind(df, new_row)\n",
    "df"
   ]
  },
  {
   "cell_type": "markdown",
   "metadata": {},
   "source": [
    "You can add a column to the frame using a similar function, cbind(). The column needs to have the same number of rows as the data frame. Again, you can add multiple columns."
   ]
  },
  {
   "cell_type": "code",
   "execution_count": 27,
   "metadata": {},
   "outputs": [
    {
     "data": {
      "text/html": [
       "<table class=\"dataframe\">\n",
       "<caption>A data.frame: 5 × 5</caption>\n",
       "<thead>\n",
       "\t<tr><th scope=col>id</th><th scope=col>age</th><th scope=col>gender</th><th scope=col>wellbeing</th><th scope=col>.after</th></tr>\n",
       "\t<tr><th scope=col>&lt;dbl&gt;</th><th scope=col>&lt;chr&gt;</th><th scope=col>&lt;chr&gt;</th><th scope=col>&lt;dbl&gt;</th><th scope=col>&lt;chr&gt;</th></tr>\n",
       "</thead>\n",
       "<tbody>\n",
       "\t<tr><td>1</td><td>30</td><td>m</td><td>10</td><td>age</td></tr>\n",
       "\t<tr><td>2</td><td>42</td><td>f</td><td> 7</td><td>age</td></tr>\n",
       "\t<tr><td>3</td><td>21</td><td>f</td><td> 8</td><td>age</td></tr>\n",
       "\t<tr><td>4</td><td>59</td><td>x</td><td>10</td><td>age</td></tr>\n",
       "\t<tr><td>5</td><td>33</td><td>m</td><td> 4</td><td>age</td></tr>\n",
       "</tbody>\n",
       "</table>\n"
      ],
      "text/latex": [
       "A data.frame: 5 × 5\n",
       "\\begin{tabular}{lllll}\n",
       " id & age & gender & wellbeing & .after\\\\\n",
       " <dbl> & <chr> & <chr> & <dbl> & <chr>\\\\\n",
       "\\hline\n",
       "\t 1 & 30 & m & 10 & age\\\\\n",
       "\t 2 & 42 & f &  7 & age\\\\\n",
       "\t 3 & 21 & f &  8 & age\\\\\n",
       "\t 4 & 59 & x & 10 & age\\\\\n",
       "\t 5 & 33 & m &  4 & age\\\\\n",
       "\\end{tabular}\n"
      ],
      "text/markdown": [
       "\n",
       "A data.frame: 5 × 5\n",
       "\n",
       "| id &lt;dbl&gt; | age &lt;chr&gt; | gender &lt;chr&gt; | wellbeing &lt;dbl&gt; | .after &lt;chr&gt; |\n",
       "|---|---|---|---|---|\n",
       "| 1 | 30 | m | 10 | age |\n",
       "| 2 | 42 | f |  7 | age |\n",
       "| 3 | 21 | f |  8 | age |\n",
       "| 4 | 59 | x | 10 | age |\n",
       "| 5 | 33 | m |  4 | age |\n",
       "\n"
      ],
      "text/plain": [
       "  id age gender wellbeing .after\n",
       "1 1  30  m      10        age   \n",
       "2 2  42  f       7        age   \n",
       "3 3  21  f       8        age   \n",
       "4 4  59  x      10        age   \n",
       "5 5  33  m       4        age   "
      ]
     },
     "metadata": {},
     "output_type": "display_data"
    }
   ],
   "source": [
    "new_column <- c(10, 7, 8, 10, 4)\n",
    "df <- cbind(df, wellbeing=new_column, .after='age')\n",
    "df"
   ]
  },
  {
   "cell_type": "markdown",
   "metadata": {},
   "source": [
    "And, should you want to, you can re-order the columns by copying to a new data frame with the column order specified. There are other ways to do these operations using the tidyverse - you can use either - it is good to be familiar with both - we will cover the tidyverse more during the course."
   ]
  },
  {
   "cell_type": "code",
   "execution_count": 28,
   "metadata": {},
   "outputs": [
    {
     "data": {
      "text/html": [
       "<table class=\"dataframe\">\n",
       "<caption>A data.frame: 5 × 4</caption>\n",
       "<thead>\n",
       "\t<tr><th scope=col>id</th><th scope=col>gender</th><th scope=col>age</th><th scope=col>wellbeing</th></tr>\n",
       "\t<tr><th scope=col>&lt;dbl&gt;</th><th scope=col>&lt;chr&gt;</th><th scope=col>&lt;chr&gt;</th><th scope=col>&lt;dbl&gt;</th></tr>\n",
       "</thead>\n",
       "<tbody>\n",
       "\t<tr><td>1</td><td>m</td><td>30</td><td>10</td></tr>\n",
       "\t<tr><td>2</td><td>f</td><td>42</td><td> 7</td></tr>\n",
       "\t<tr><td>3</td><td>f</td><td>21</td><td> 8</td></tr>\n",
       "\t<tr><td>4</td><td>x</td><td>59</td><td>10</td></tr>\n",
       "\t<tr><td>5</td><td>m</td><td>33</td><td> 4</td></tr>\n",
       "</tbody>\n",
       "</table>\n"
      ],
      "text/latex": [
       "A data.frame: 5 × 4\n",
       "\\begin{tabular}{llll}\n",
       " id & gender & age & wellbeing\\\\\n",
       " <dbl> & <chr> & <chr> & <dbl>\\\\\n",
       "\\hline\n",
       "\t 1 & m & 30 & 10\\\\\n",
       "\t 2 & f & 42 &  7\\\\\n",
       "\t 3 & f & 21 &  8\\\\\n",
       "\t 4 & x & 59 & 10\\\\\n",
       "\t 5 & m & 33 &  4\\\\\n",
       "\\end{tabular}\n"
      ],
      "text/markdown": [
       "\n",
       "A data.frame: 5 × 4\n",
       "\n",
       "| id &lt;dbl&gt; | gender &lt;chr&gt; | age &lt;chr&gt; | wellbeing &lt;dbl&gt; |\n",
       "|---|---|---|---|\n",
       "| 1 | m | 30 | 10 |\n",
       "| 2 | f | 42 |  7 |\n",
       "| 3 | f | 21 |  8 |\n",
       "| 4 | x | 59 | 10 |\n",
       "| 5 | m | 33 |  4 |\n",
       "\n"
      ],
      "text/plain": [
       "  id gender age wellbeing\n",
       "1 1  m      30  10       \n",
       "2 2  f      42   7       \n",
       "3 3  f      21   8       \n",
       "4 4  x      59  10       \n",
       "5 5  m      33   4       "
      ]
     },
     "metadata": {},
     "output_type": "display_data"
    }
   ],
   "source": [
    "df <- df[c('id', 'gender', 'age', 'wellbeing')]\n",
    "df"
   ]
  },
  {
   "cell_type": "markdown",
   "metadata": {},
   "source": [
    "#### _Analysing data in a data frame_\n",
    "\n",
    "Often you will create a data frame with the demographic data of your study participants/records with a single row per participant and all the data organised with a single value in each variable. This table is sometimes referred to as a 'platform file'.\n",
    "\n",
    "You will also come across data where there is more than one value per participant, for example, if you extract all the blood-pressure measurements from the GP/primary care dataset. You will usually keep these data separate, but you might find the highest blood pressure reading, or the period of time (two variables: start-date and end-date) during which the participant had high blood pressure from the readings data frame and insert them into variables in the platform-file data frame. You will then often analyse these values as they vary from participant to participant.\n",
    "\n",
    "##### Long vs wide data\n",
    "\n",
    "Sometimes the number of values per patient is limited e.g. there may be up to six diagnosis codes and no more (and perhaps only one). These are sometimes organised so that you have the multiple variables and the data appears on just teh one patient row e.g. diagnosis_1, diagnosis_2 etc.\n",
    "When you have multiple records per participant in rows, the data is referred to as 'long' and where you have multiple variables on the same row/record, the data is 'wide'.\n",
    "\n",
    "##### A quick summary of a data frame\n",
    "\n",
    "As an example of the kind of thing you can do with data frames, you can get a quick statistical summary of all the columns using the base-R summary() function and the describe() function from the psych library.\n",
    "\n",
    "Another really useful function that data frames have, is the plot function which will plot all the variables against the others which is useful to explore relationships and what the data looks like."
   ]
  },
  {
   "cell_type": "code",
   "execution_count": 29,
   "metadata": {},
   "outputs": [
    {
     "data": {
      "text/plain": [
       "       id       gender              age              wellbeing   \n",
       " Min.   :1   Length:5           Length:5           Min.   : 4.0  \n",
       " 1st Qu.:2   Class :character   Class :character   1st Qu.: 7.0  \n",
       " Median :3   Mode  :character   Mode  :character   Median : 8.0  \n",
       " Mean   :3                                         Mean   : 7.8  \n",
       " 3rd Qu.:4                                         3rd Qu.:10.0  \n",
       " Max.   :5                                         Max.   :10.0  "
      ]
     },
     "metadata": {},
     "output_type": "display_data"
    },
    {
     "data": {
      "text/html": [
       "<table class=\"dataframe\">\n",
       "<caption>A psych: 4 × 13</caption>\n",
       "<thead>\n",
       "\t<tr><th></th><th scope=col>vars</th><th scope=col>n</th><th scope=col>mean</th><th scope=col>sd</th><th scope=col>median</th><th scope=col>trimmed</th><th scope=col>mad</th><th scope=col>min</th><th scope=col>max</th><th scope=col>range</th><th scope=col>skew</th><th scope=col>kurtosis</th><th scope=col>se</th></tr>\n",
       "\t<tr><th></th><th scope=col>&lt;int&gt;</th><th scope=col>&lt;dbl&gt;</th><th scope=col>&lt;dbl&gt;</th><th scope=col>&lt;dbl&gt;</th><th scope=col>&lt;dbl&gt;</th><th scope=col>&lt;dbl&gt;</th><th scope=col>&lt;dbl&gt;</th><th scope=col>&lt;dbl&gt;</th><th scope=col>&lt;dbl&gt;</th><th scope=col>&lt;dbl&gt;</th><th scope=col>&lt;dbl&gt;</th><th scope=col>&lt;dbl&gt;</th><th scope=col>&lt;dbl&gt;</th></tr>\n",
       "</thead>\n",
       "<tbody>\n",
       "\t<tr><th scope=row>id</th><td>1</td><td>5</td><td>3.0</td><td>1.581139</td><td>3</td><td>3.0</td><td>1.4826</td><td>1</td><td> 5</td><td>4</td><td> 0.0000000</td><td>-1.912000</td><td>0.7071068</td></tr>\n",
       "\t<tr><th scope=row>gender*</th><td>2</td><td>5</td><td>1.8</td><td>0.836660</td><td>2</td><td>1.8</td><td>1.4826</td><td>1</td><td> 3</td><td>2</td><td> 0.2458756</td><td>-1.817959</td><td>0.3741657</td></tr>\n",
       "\t<tr><th scope=row>age*</th><td>3</td><td>5</td><td>3.0</td><td>1.581139</td><td>3</td><td>3.0</td><td>1.4826</td><td>1</td><td> 5</td><td>4</td><td> 0.0000000</td><td>-1.912000</td><td>0.7071068</td></tr>\n",
       "\t<tr><th scope=row>wellbeing</th><td>4</td><td>5</td><td>7.8</td><td>2.489980</td><td>8</td><td>7.8</td><td>2.9652</td><td>4</td><td>10</td><td>6</td><td>-0.4415115</td><td>-1.669220</td><td>1.1135529</td></tr>\n",
       "</tbody>\n",
       "</table>\n"
      ],
      "text/latex": [
       "A psych: 4 × 13\n",
       "\\begin{tabular}{r|lllllllllllll}\n",
       "  & vars & n & mean & sd & median & trimmed & mad & min & max & range & skew & kurtosis & se\\\\\n",
       "  & <int> & <dbl> & <dbl> & <dbl> & <dbl> & <dbl> & <dbl> & <dbl> & <dbl> & <dbl> & <dbl> & <dbl> & <dbl>\\\\\n",
       "\\hline\n",
       "\tid & 1 & 5 & 3.0 & 1.581139 & 3 & 3.0 & 1.4826 & 1 &  5 & 4 &  0.0000000 & -1.912000 & 0.7071068\\\\\n",
       "\tgender* & 2 & 5 & 1.8 & 0.836660 & 2 & 1.8 & 1.4826 & 1 &  3 & 2 &  0.2458756 & -1.817959 & 0.3741657\\\\\n",
       "\tage* & 3 & 5 & 3.0 & 1.581139 & 3 & 3.0 & 1.4826 & 1 &  5 & 4 &  0.0000000 & -1.912000 & 0.7071068\\\\\n",
       "\twellbeing & 4 & 5 & 7.8 & 2.489980 & 8 & 7.8 & 2.9652 & 4 & 10 & 6 & -0.4415115 & -1.669220 & 1.1135529\\\\\n",
       "\\end{tabular}\n"
      ],
      "text/markdown": [
       "\n",
       "A psych: 4 × 13\n",
       "\n",
       "| <!--/--> | vars &lt;int&gt; | n &lt;dbl&gt; | mean &lt;dbl&gt; | sd &lt;dbl&gt; | median &lt;dbl&gt; | trimmed &lt;dbl&gt; | mad &lt;dbl&gt; | min &lt;dbl&gt; | max &lt;dbl&gt; | range &lt;dbl&gt; | skew &lt;dbl&gt; | kurtosis &lt;dbl&gt; | se &lt;dbl&gt; |\n",
       "|---|---|---|---|---|---|---|---|---|---|---|---|---|---|\n",
       "| id | 1 | 5 | 3.0 | 1.581139 | 3 | 3.0 | 1.4826 | 1 |  5 | 4 |  0.0000000 | -1.912000 | 0.7071068 |\n",
       "| gender* | 2 | 5 | 1.8 | 0.836660 | 2 | 1.8 | 1.4826 | 1 |  3 | 2 |  0.2458756 | -1.817959 | 0.3741657 |\n",
       "| age* | 3 | 5 | 3.0 | 1.581139 | 3 | 3.0 | 1.4826 | 1 |  5 | 4 |  0.0000000 | -1.912000 | 0.7071068 |\n",
       "| wellbeing | 4 | 5 | 7.8 | 2.489980 | 8 | 7.8 | 2.9652 | 4 | 10 | 6 | -0.4415115 | -1.669220 | 1.1135529 |\n",
       "\n"
      ],
      "text/plain": [
       "          vars n mean sd       median trimmed mad    min max range skew      \n",
       "id        1    5 3.0  1.581139 3      3.0     1.4826 1    5  4      0.0000000\n",
       "gender*   2    5 1.8  0.836660 2      1.8     1.4826 1    3  2      0.2458756\n",
       "age*      3    5 3.0  1.581139 3      3.0     1.4826 1    5  4      0.0000000\n",
       "wellbeing 4    5 7.8  2.489980 8      7.8     2.9652 4   10  6     -0.4415115\n",
       "          kurtosis  se       \n",
       "id        -1.912000 0.7071068\n",
       "gender*   -1.817959 0.3741657\n",
       "age*      -1.912000 0.7071068\n",
       "wellbeing -1.669220 1.1135529"
      ]
     },
     "metadata": {},
     "output_type": "display_data"
    },
    {
     "data": {
      "image/png": "[encoded data removed]",
      "text/plain": [
       "plot without title"
      ]
     },
     "metadata": {
      "image/png": {
       "height": 420,
       "width": 420
      }
     },
     "output_type": "display_data"
    }
   ],
   "source": [
    "summary(df)\n",
    "\n",
    "library(psych)\n",
    "describe(df)\n",
    "\n",
    "plot(df)"
   ]
  },
  {
   "cell_type": "markdown",
   "metadata": {},
   "source": [
    "<div style='background:#ddddcc;border:1px;border-radius:10px;padding:10px;border-style: solid;border-color:dark-gray;'>\n",
    "<h4><i>Exercise: create a BMI data frame</i></h4>\n",
    "\n",
    "Take your vectors (or start from scratch in a similar way) from the exercise above and create a data frame. Then apply the summary and describe functions to it.\n",
    "    \n",
    "Plot the data and see what the relationships look like. It would be worth looking at the hist() output as well.\n",
    "    \n",
    "What do you notice if, instead of 100 rows, you create a data frame with 10,000? What can you deduce about your data?\n",
    "    \n",
    "There is a solution in the box below but you will need to decode it first.\n",
    "</div>"
   ]
  },
  {
   "cell_type": "code",
   "execution_count": 32,
   "metadata": {},
   "outputs": [],
   "source": [
    "# This code will produce a possible solution to the exercise. Simply remove the\n",
    "# commment character from the start of the last line, run this segment and copy\n",
    "# and paste the resulting code into another box or RStudio and run it.\n",
    "library(caTools)\n",
    "decode <- function(string){\n",
    "    cat(base64decode(string, what='character'))\n",
    "}\n",
    "solution <- 'biA8LSAxMDAKaWQgPC0gc2VxKDEwMDAsIDEwMDAgKyBuIC0gMSwgMSkgCndlaWdodF9rZyA8LSBhcy5pbnRlZ2VyKHJub3JtKG4sIG1lYW49NzAsIHNkPTE0KSkKaGVpZ2h0X2NtIDwtIGFzLmludGVnZXIocm5vcm0obiwgbWVhbj0xNjUsIHNkPTMzKSkKYm1pIDwtIHdlaWdodF9rZyAvICgoaGVpZ2h0X2NtIC8gMTAwKSBeIDIpCmRhdGFzZXQgPC0gZGF0YS5mcmFtZShpZD1pZCwgd2VpZ2h0PXdlaWdodF9rZywgaGVpZ2h0PWhlaWdodF9jbSwgYm1pPWJtaSkKcGxvdChkYXRhc2V0KQpoaXN0KGRhdGFzZXQkaGVpZ2h0KQ=='\n",
    "# decode(solution)"
   ]
  },
  {
   "cell_type": "markdown",
   "metadata": {},
   "source": [
    "<table width='100%'><tr>\n",
    "    <td style='background-color:red; text-align:center; color: white;'><!--Foundation<!--hr size='5' style='border-color:red; background-color:red;'--></td>\n",
    "    <td style='background-color:yellow; text-align:center;'><!--Level 1<!--hr size='5' style='border-color:yellow; background-color:yellow;'--></td>\n",
    "    <td style='background-color:orange; text-align:center;'><!--Level 2<!--hr size='5' style='border-color:orange; background-color:orange;'--></td>\n",
    "    <td style='background-color:green; text-align:center; color: white;'><!--Level 3<!--hr size='5' style='border-color:orange; background-color:orange;'--></td>\n",
    "    <td style='background-color:blue; text-align:center; color: white;'><!--Level 4<!--hr size='5' style='border-color:orange; background-color:orange;'--></td>\n",
    "    <td style='background-color:purple; text-align:center; color: white;'><!--Level 5<!--hr size='5' style='border-color:orange; background-color:orange;'--></td>\n",
    "    <td style='background-color:brown; text-align:center; color: white;'><!--Level 6<!--hr size='5' style='border-color:orange; background-color:orange;'--></td>\n",
    "    <td style='background-color:black; text-align:center; color: white;'><!--Level 7<!--hr size='5' style='border-color:orange; background-color:orange;'--></td>\n",
    "</tr></table>"
   ]
  }
 ],
 "metadata": {
  "kernelspec": {
   "display_name": "R",
   "language": "R",
   "name": "ir"
  },
  "language_info": {
   "codemirror_mode": "r",
   "file_extension": ".r",
   "mimetype": "text/x-r-source",
   "name": "R",
   "pygments_lexer": "r",
   "version": "4.0.5"
  }
 },
 "nbformat": 4,
 "nbformat_minor": 4
}
