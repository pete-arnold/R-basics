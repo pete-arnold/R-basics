{
 "cells": [
  {
   "cell_type": "markdown",
   "metadata": {},
   "source": [
    "<table width='100%'><tr>\n",
    "    <td style='background-color:red; text-align:center; color: white;'><!--Foundation<!--hr size='5' style='border-color:red; background-color:red;'--></td>\n",
    "    <td style='background-color:yellow; text-align:center;'><!--Level 1<!--hr size='5' style='border-color:yellow; background-color:yellow;'--></td>\n",
    "    <td style='background-color:orange; text-align:center;'><!--Level 2<!--hr size='5' style='border-color:orange; background-color:orange;'--></td>\n",
    "    <td style='background-color:green; text-align:center; color: white;'><!--Level 3<!--hr size='5' style='border-color:orange; background-color:orange;'--></td>\n",
    "    <td style='background-color:blue; text-align:center; color: white;'><!--Level 4<!--hr size='5' style='border-color:orange; background-color:orange;'--></td>\n",
    "    <td style='background-color:purple; text-align:center; color: white;'><!--Level 5<!--hr size='5' style='border-color:orange; background-color:orange;'--></td>\n",
    "    <td style='background-color:brown; text-align:center; color: white;'><!--Level 6<!--hr size='5' style='border-color:orange; background-color:orange;'--></td>\n",
    "    <td style='background-color:black; text-align:center; color: white;'><!--Level 7<!--hr size='5' style='border-color:orange; background-color:orange;'--></td>\n",
    "</tr></table>"
   ]
  },
  {
   "cell_type": "markdown",
   "metadata": {},
   "source": [
    "<table style='border-left:10px solid yellow;'><tr>\n",
    "    <td style='padding-left:20px;'>\n",
    "        <h2><i>Swansea University Medical School</i><br/><b>MSc Health Data Science</b></h2>\n",
    "        <h3>PMIM-102 Introduction to Scientific Computing in Healthcare</h3>\n",
    "        <h1><b>R programming</b></h1>\n",
    "        <h2><i>Part 1: Variables, operations and programmes.</i></h2>\n",
    "        <h3><i>October 2021</i></h3>\n",
    "        <h3><b>To-do</b></h3>\n",
    "        <ul>\n",
    "            <li>Add quizzes at suitable places (questions with answers at the end of the document).</li>\n",
    "        </ul>\n",
    "    </td>\n",
    "    <td><img height='300' width='500' src='images/cover.jpg'/></td>\n",
    "</tr></table>"
   ]
  },
  {
   "cell_type": "markdown",
   "metadata": {},
   "source": [
    "## __Aim__: Learn how to make the computer do what we want and get information from the data\n",
    "\n",
    "The aim of this session is to introduce the basic principles of programming using <code>R</code>.\n",
    "\n",
    "### __A map of where we're going__\n",
    "\n",
    "1. <div style=\"background-color:yellow;\"><b>From calculator to computer</b> - numbers (<b>variables</b>) and how to do things to them (<b>operators, expressions and functions</b>) and organise things (<b>programs, files and libraries</b>).<br/></div><br/>\n",
    "\n",
    "1. __Tables of data__ - how to organise data-science type datasets (__vectors__, __lists__ and __data frames__).\n",
    "\n",
    "1. __What R is good at__ - doing things on all the data at the same time.\n",
    "\n",
    "1. __Customising your code__ - making repetition easier to do, to read and to write.\n",
    "\n",
    "1. __Controlling the computer when you have to__ - control techniques - loops (do ... while), conditions (if ... else).\n",
    "\n",
    "1. __Safe researcher training__ - things you need to know to ensure that you don't disclose personal data."
   ]
  },
  {
   "cell_type": "markdown",
   "metadata": {},
   "source": [
    "## __Getting started__\n",
    "\n",
    "Make sure that you can run R - either in this notebook using Jupyter Notebooks or in R-Studio as described in the earlier session. Run the following code by selecting it and clicking the run icon above (triangle) or pressing CTRL-ENTER. Then edit the code to say something else and run it again."
   ]
  },
  {
   "cell_type": "code",
   "execution_count": 2,
   "metadata": {},
   "outputs": [
    {
     "name": "stdout",
     "output_type": "stream",
     "text": [
      "[1] \"Hello, Me!\"\n"
     ]
    }
   ],
   "source": [
    "print('Hello, Me!')"
   ]
  },
  {
   "cell_type": "markdown",
   "metadata": {},
   "source": [
    "#### _Functions_\n",
    "\n",
    "The 'print()' in the box above is a built-in 'function'. It takes whatever is contained in the brackets and displays it on the screen (in this case, just below the code box and in RStudio it will display in the Console window - at the bottom left). Functions are available to do almost anything you might want to do."
   ]
  },
  {
   "cell_type": "markdown",
   "metadata": {},
   "source": [
    "#### _Strings_\n",
    "\n",
    "The item in the brackets above is a string - a fragment of text."
   ]
  },
  {
   "cell_type": "code",
   "execution_count": 2,
   "metadata": {},
   "outputs": [
    {
     "data": {
      "text/html": [
       "'Hello, world!'"
      ],
      "text/latex": [
       "'Hello, world!'"
      ],
      "text/markdown": [
       "'Hello, world!'"
      ],
      "text/plain": [
       "[1] \"Hello, world!\""
      ]
     },
     "metadata": {},
     "output_type": "display_data"
    }
   ],
   "source": [
    "'Hello, world!'"
   ]
  },
  {
   "cell_type": "markdown",
   "metadata": {},
   "source": [
    "#### _print_\n",
    "\n",
    "The `print()` function displays the item provided in the brackets. If you want to display multiple items, you need to use print() once for each item:"
   ]
  },
  {
   "cell_type": "code",
   "execution_count": 3,
   "metadata": {},
   "outputs": [
    {
     "name": "stdout",
     "output_type": "stream",
     "text": [
      "[1] \"Hello\"\n",
      "[1] 10\n"
     ]
    }
   ],
   "source": [
    "print('Hello')\n",
    "print(10)"
   ]
  },
  {
   "cell_type": "markdown",
   "metadata": {},
   "source": [
    "#### _cat_\n",
    "\n",
    "If you want to display these items on the same line, there is a more appropriate function to use, `cat()`. Each item needs to be listed between the brackets separated by commas:"
   ]
  },
  {
   "cell_type": "code",
   "execution_count": 4,
   "metadata": {},
   "outputs": [
    {
     "name": "stdout",
     "output_type": "stream",
     "text": [
      "The number is 10 ."
     ]
    }
   ],
   "source": [
    "cat('The number is', 10, '.')"
   ]
  },
  {
   "cell_type": "markdown",
   "metadata": {},
   "source": [
    "<div style='background:#ddcccc;border:1px;border-radius:10px;padding:10px;border-style: solid;border-color:dark-gray;'>\n",
    "<h4><i>Note: more details about cat()</i></h4>\n",
    "There are a couple of details about the `cat()` function you may wish to make use of as you get used to R.\n",
    "You can specify a separator to be inserted between each item between the brackets, try:\n",
    "    \n",
    "`cat('Put', 'some', 'dashes', 'in', 'the', 'list', sep='-')`\n",
    "    \n",
    "You can make the text move onto the next line using '\\n'. The backslash indicates that the following character is a special character (it is known as the escape character). In this case '\\n' means 'newline' and will move the cursor back to the start of the row before continuing to display the data. Try (which also leaves no space between the words):\n",
    "    \n",
    "`cat('Put', 'a', 'new-line', 'in\\n', 'the', 'list', sep='')`\n",
    "</div>"
   ]
  },
  {
   "cell_type": "code",
   "execution_count": 5,
   "metadata": {},
   "outputs": [
    {
     "name": "stdout",
     "output_type": "stream",
     "text": [
      "Putanew-linein\n",
      "thelist"
     ]
    }
   ],
   "source": [
    "cat('Put', 'a', 'new-line', 'in\\n', 'the', 'list', sep='')"
   ]
  },
  {
   "cell_type": "markdown",
   "metadata": {},
   "source": [
    "## __Numbers, data and variables__\n",
    "\n",
    "As we have mentioned R is an interpreted language so it will do what you ask it to when you do just like a calculator, for example, type in a simple sum in the box below and run the code."
   ]
  },
  {
   "cell_type": "code",
   "execution_count": 6,
   "metadata": {},
   "outputs": [
    {
     "data": {
      "text/html": [
       "3"
      ],
      "text/latex": [
       "3"
      ],
      "text/markdown": [
       "3"
      ],
      "text/plain": [
       "[1] 3"
      ]
     },
     "metadata": {},
     "output_type": "display_data"
    }
   ],
   "source": [
    "1 + 2"
   ]
  },
  {
   "cell_type": "markdown",
   "metadata": {},
   "source": [
    "We often need to remember a number i.e. we need to store it somewhere in the computer's memory (RAM) and need to be able to refer to it so we create a __variable__ give it a name and save the number there.\n",
    "\n",
    "For example, if we create a variable called __number__ and want to set it to the value 10, we use an instruction, '<-', which stores the value to the right of the symbol in a variable with the name defined on the left."
   ]
  },
  {
   "cell_type": "code",
   "execution_count": 7,
   "metadata": {},
   "outputs": [],
   "source": [
    "number <- 10"
   ]
  },
  {
   "cell_type": "markdown",
   "metadata": {},
   "source": [
    "Then, to recover the value, we just use the name:"
   ]
  },
  {
   "cell_type": "code",
   "execution_count": 8,
   "metadata": {},
   "outputs": [
    {
     "data": {
      "text/html": [
       "10"
      ],
      "text/latex": [
       "10"
      ],
      "text/markdown": [
       "10"
      ],
      "text/plain": [
       "[1] 10"
      ]
     },
     "metadata": {},
     "output_type": "display_data"
    }
   ],
   "source": [
    "number"
   ]
  },
  {
   "cell_type": "markdown",
   "metadata": {},
   "source": [
    "And we can now use the variable in the same way used numbers before:"
   ]
  },
  {
   "cell_type": "code",
   "execution_count": 9,
   "metadata": {},
   "outputs": [
    {
     "data": {
      "text/html": [
       "12"
      ],
      "text/latex": [
       "12"
      ],
      "text/markdown": [
       "12"
      ],
      "text/plain": [
       "[1] 12"
      ]
     },
     "metadata": {},
     "output_type": "display_data"
    }
   ],
   "source": [
    "number + 2"
   ]
  },
  {
   "cell_type": "markdown",
   "metadata": {},
   "source": [
    "And we can update the variable (try running the following code several times):"
   ]
  },
  {
   "cell_type": "code",
   "execution_count": 10,
   "metadata": {},
   "outputs": [
    {
     "data": {
      "text/html": [
       "12"
      ],
      "text/latex": [
       "12"
      ],
      "text/markdown": [
       "12"
      ],
      "text/plain": [
       "[1] 12"
      ]
     },
     "metadata": {},
     "output_type": "display_data"
    }
   ],
   "source": [
    "number <- number + 2\n",
    "number"
   ]
  },
  {
   "cell_type": "markdown",
   "metadata": {},
   "source": [
    "### __Other kinds of data__\n",
    "\n",
    "Whilst all the data in computers is binary, that is just the internal representation of the data, which R takes care of for us: we just need to use data in the format we want to, be that integers, decimals, dates, categories, logical values, characters and strings (and others ...).\n",
    "\n",
    "#### _Integers_\n",
    "\n",
    "Whole numbers from minus infinity to plus infinity (you can define infinity - see below). Try out a few values below."
   ]
  },
  {
   "cell_type": "code",
   "execution_count": 11,
   "metadata": {},
   "outputs": [
    {
     "data": {
      "text/html": [
       "123456789"
      ],
      "text/latex": [
       "123456789"
      ],
      "text/markdown": [
       "123456789"
      ],
      "text/plain": [
       "[1] 123456789"
      ]
     },
     "metadata": {},
     "output_type": "display_data"
    }
   ],
   "source": [
    "number <- 123456789\n",
    "number"
   ]
  },
  {
   "cell_type": "markdown",
   "metadata": {},
   "source": [
    "<div style='background:#ddcccc;border:1px;border-radius:10px;padding:10px;border-style: solid;border-color:dark-gray;'>\n",
    "<h4><i>Note: limit to the accuracy of the data</i></h4>\n",
    "\n",
    "Keep adding digits to the value above and note what happens when you get to '12345678901234567'. You don't often have to worry about errors of this nature (rounding errors which are due to the internal binary storage of the data) as they are usually insignificant but it is worth keeping in mind that with huge numbers of calculations or data, this could become significant.\n",
    "</div>"
   ]
  },
  {
   "cell_type": "markdown",
   "metadata": {},
   "source": [
    "#### _Decimals or numerics_\n",
    "\n",
    "Decimal places are easily defined, for example, we can define __pi__ as 3.1415926 and perform calculations on them in the same way as integers."
   ]
  },
  {
   "cell_type": "code",
   "execution_count": 12,
   "metadata": {},
   "outputs": [
    {
     "data": {
      "text/html": [
       "3.1415926"
      ],
      "text/latex": [
       "3.1415926"
      ],
      "text/markdown": [
       "3.1415926"
      ],
      "text/plain": [
       "[1] 3.141593"
      ]
     },
     "metadata": {},
     "output_type": "display_data"
    },
    {
     "name": "stdout",
     "output_type": "stream",
     "text": [
      "2 x PI = 6.283185"
     ]
    }
   ],
   "source": [
    "pi <- 3.1415926\n",
    "pi\n",
    "cat('2 x PI =', 2 * pi)"
   ]
  },
  {
   "cell_type": "markdown",
   "metadata": {},
   "source": [
    "#### _Character_ / _Strings_\n",
    "\n",
    "If, instead of a number, you want to use a word or sentence, you use a string variable made up of characters (a _character_ type in R). You specify this by putting quotes around the text - you can use single (') or double (\") quotes."
   ]
  },
  {
   "cell_type": "code",
   "execution_count": 13,
   "metadata": {},
   "outputs": [
    {
     "data": {
      "text/html": [
       "'Llamhigyn y dwr'"
      ],
      "text/latex": [
       "'Llamhigyn y dwr'"
      ],
      "text/markdown": [
       "'Llamhigyn y dwr'"
      ],
      "text/plain": [
       "[1] \"Llamhigyn y dwr\""
      ]
     },
     "metadata": {},
     "output_type": "display_data"
    }
   ],
   "source": [
    "name <- 'Llamhigyn y dwr'\n",
    "name"
   ]
  },
  {
   "cell_type": "markdown",
   "metadata": {},
   "source": [
    "You can join bits of text together with the paste() function which is very like cat() except that it doesn't display the resulting text. This is useful if you want to embed some numbers in text to report a result."
   ]
  },
  {
   "cell_type": "code",
   "execution_count": 14,
   "metadata": {},
   "outputs": [
    {
     "data": {
      "text/html": [
       "'Llamhigyn y dwr'"
      ],
      "text/latex": [
       "'Llamhigyn y dwr'"
      ],
      "text/markdown": [
       "'Llamhigyn y dwr'"
      ],
      "text/plain": [
       "[1] \"Llamhigyn y dwr\""
      ]
     },
     "metadata": {},
     "output_type": "display_data"
    },
    {
     "data": {
      "text/html": [
       "'The mean age is 12.5'"
      ],
      "text/latex": [
       "'The mean age is 12.5'"
      ],
      "text/markdown": [
       "'The mean age is 12.5'"
      ],
      "text/plain": [
       "[1] \"The mean age is 12.5\""
      ]
     },
     "metadata": {},
     "output_type": "display_data"
    }
   ],
   "source": [
    "name <- paste('Llamhigyn', 'y', 'dwr')\n",
    "name\n",
    "result <- paste('The mean age is', 12.5)\n",
    "result"
   ]
  },
  {
   "cell_type": "markdown",
   "metadata": {},
   "source": [
    "#### _Logical values_\n",
    "\n",
    "There is one other commonly used type of data which is used to hold TRUE or FALSE - a logical or boolean value. The symbols TRUE and FALSE are predefined and cannot be changed (please avoid using the abbreviations T and F as these can be redefined and that may break your code).\n",
    "\n",
    "Logical values can be combined using '&' to mean AND and '|' to mean OR and '!' to negate. These rules are:\n",
    "\n",
    "A & B     is TRUE only if both A and B are TRUE\n",
    "A | B     is TRUE if either A or B or both are TRUE\n",
    "!A        is TRUE if A is FALSE"
   ]
  },
  {
   "cell_type": "code",
   "execution_count": 15,
   "metadata": {},
   "outputs": [
    {
     "data": {
      "text/html": [
       "TRUE"
      ],
      "text/latex": [
       "TRUE"
      ],
      "text/markdown": [
       "TRUE"
      ],
      "text/plain": [
       "[1] TRUE"
      ]
     },
     "metadata": {},
     "output_type": "display_data"
    }
   ],
   "source": [
    "is_old <- TRUE\n",
    "is_wise <- !FALSE\n",
    "wizard <- is_old & is_wise\n",
    "wizard"
   ]
  },
  {
   "cell_type": "markdown",
   "metadata": {},
   "source": [
    "You can check what kind of data you have with the str() function."
   ]
  },
  {
   "cell_type": "code",
   "execution_count": 16,
   "metadata": {},
   "outputs": [
    {
     "name": "stdout",
     "output_type": "stream",
     "text": [
      " num 3.14\n",
      " chr \"Llamhigyn y dwr\"\n"
     ]
    }
   ],
   "source": [
    "str(pi)\n",
    "str(name)"
   ]
  },
  {
   "cell_type": "markdown",
   "metadata": {},
   "source": [
    "<div style='background:#ddcccc;border:1px;border-radius:10px;padding:10px;border-style: solid;border-color:dark-gray;'>\n",
    "<h4><i>Note: implicitly changing the type of data in your variable</i></h4>\n",
    "\n",
    "R doesn't maintain the data type so you can change the data in a variable at anytime. You will need to make sure that you only use a variable for one kind of data or your code may become confusing and could produce errors - changing a number to a character and then trying to add it do another number won't work.\n",
    "</div>"
   ]
  },
  {
   "cell_type": "code",
   "execution_count": 17,
   "metadata": {},
   "outputs": [
    {
     "data": {
      "text/html": [
       "12"
      ],
      "text/latex": [
       "12"
      ],
      "text/markdown": [
       "12"
      ],
      "text/plain": [
       "[1] 12"
      ]
     },
     "metadata": {},
     "output_type": "display_data"
    },
    {
     "ename": "ERROR",
     "evalue": "Error in test + 2: non-numeric argument to binary operator\n",
     "output_type": "error",
     "traceback": [
      "Error in test + 2: non-numeric argument to binary operator\nTraceback:\n"
     ]
    }
   ],
   "source": [
    "test <- 10\n",
    "test + 2\n",
    "test <- 'Hello'\n",
    "test + 2"
   ]
  },
  {
   "cell_type": "markdown",
   "metadata": {},
   "source": [
    "<div style='background:#ddcccc;border:1px;border-radius:10px;padding:10px;border-style: solid;border-color:dark-gray;'>\n",
    "<h4><i>Note: intentionally changing from one type to another</i></h4>\n",
    "\n",
    "Sometimes you have data of one type and you want to change to another, for example, a user may type a value at the prompt (usually a string) which you may need to use as a number. There are a set of functions that allow you to change from one type to another and will adjust the data accordingly if necessary (for example changing from a decimal to an integer will lose the part of the number after the decimal point).\n",
    "    \n",
    "These are functions like <code>as.integer()</code> and <code>as.numeric()</code> and can be particularly useful for converting to whole numbers or to/from characters/string.\n",
    "</div>"
   ]
  },
  {
   "cell_type": "code",
   "execution_count": 18,
   "metadata": {},
   "outputs": [
    {
     "data": {
      "text/html": [
       "123"
      ],
      "text/latex": [
       "123"
      ],
      "text/markdown": [
       "123"
      ],
      "text/plain": [
       "[1] 123"
      ]
     },
     "metadata": {},
     "output_type": "display_data"
    },
    {
     "data": {
      "text/html": [
       "789.012"
      ],
      "text/latex": [
       "789.012"
      ],
      "text/markdown": [
       "789.012"
      ],
      "text/plain": [
       "[1] 789.012"
      ]
     },
     "metadata": {},
     "output_type": "display_data"
    },
    {
     "data": {
      "text/html": [
       "'678'"
      ],
      "text/latex": [
       "'678'"
      ],
      "text/markdown": [
       "'678'"
      ],
      "text/plain": [
       "[1] \"678\""
      ]
     },
     "metadata": {},
     "output_type": "display_data"
    }
   ],
   "source": [
    "numeric <- 123.456\n",
    "as.integer(numeric)\n",
    "string <- \"789.012\"\n",
    "as.numeric(string)\n",
    "as.character(as.integer(678.901))"
   ]
  },
  {
   "cell_type": "markdown",
   "metadata": {},
   "source": [
    "### __Naming variables__\n",
    "You can use any name for a variable in R (look up the back-quotes (``) to find out more) but normally you should pick a name that describes the data you are storing sufficiently clearly that you will know what it is when you come back to the code five years later. But not so long that it makes your code extend off the right-hand side of the screen. Very short names, such as 'i' or 'a' should be avoided unless they are part of a common formula or a loop counter (see notebook 5).\n",
    "\n",
    "For variables, which are objects, it is best to use a noun such as 'age', 'height' or 'person'. For measurements, it is sometimes good to include the units e.g. 'weight_kg', 'height_cm' to avoid confusion.\n",
    "\n",
    "Logical variables sometimes include 'is' in the name, for example, is_old as this reads for fluently in conditions (see notebook 5).\n",
    "\n",
    "It is a good idea to use variable names that describe what the variable contains - a noun. When it comes to functions use a verb or verb-phrase; for logicals, perhaps use an is prefix e.g. is_dead. Don't skimp on the names, you only need to use single character names when in loops or when it is obvious what it is but also don't make them too long because that can make each line of code huge.\n",
    "\n",
    "As always the important thing is consistency as this is what helps anyone reading your code to understand what is going on.\n",
    "\n",
    "You can use multiple words in a name, and distinguish them in different ways (whichever you like best, or in different ways for different purposes):\n",
    "\n",
    "* camelCase\n",
    "* CapsCamelCase\n",
    "* snake_case\n",
    "* lots.of.dots\n",
    "* SomeKind_Of.Convention\n",
    "\n",
    "I'd avoid the 'Hungarian notation' of trying to indicate the data type with the name e.g. iHeight, chName as this cannot be enforced and may become confusing especially in R.\n",
    "\n",
    "Remember that R is case-sensitive, so use capital letters with caution.\n",
    "\n",
    "Did I say, be consistent? Decide on a style and stick with it.\n"
   ]
  },
  {
   "cell_type": "markdown",
   "metadata": {},
   "source": [
    "## __Doing things with your data__\n",
    "\n",
    "We have already been using both __operators__ and __functions__ which are provided to allow us to manipulate our data.\n",
    "\n",
    "### _Operators_\n",
    "\n",
    "Operators are really just simple functions, and are used usually to do simple arithmetic. We have made use of the assignment operator '<-' to store values in a variable and the addition operator '+' to add values. We have also seen the logical operator '&', '|' and '!'.\n",
    "\n",
    "The basic arithmetic operators are:\n",
    "\n",
    "* \\+ --- addition\n",
    "* \\- --- subtraction\n",
    "* \\* --- multiplication\n",
    "* / --- division\n",
    "* ^, ** --- exponentiation\n",
    "* %% --- modulus (x mod y)\n",
    "* %/% --- integer division\n",
    "\n",
    "Try these out and make sure you understand what the last few are doing."
   ]
  },
  {
   "cell_type": "code",
   "execution_count": 19,
   "metadata": {},
   "outputs": [
    {
     "data": {
      "text/html": [
       "128"
      ],
      "text/latex": [
       "128"
      ],
      "text/markdown": [
       "128"
      ],
      "text/plain": [
       "[1] 128"
      ]
     },
     "metadata": {},
     "output_type": "display_data"
    }
   ],
   "source": [
    "123 + 5"
   ]
  },
  {
   "cell_type": "markdown",
   "metadata": {},
   "source": [
    "### _Combining operations_\n",
    "\n",
    "You can perform a series of operations in a single line (known as an __expression__). But then you have to be careful that R interprets your expression in the way you want it to, for example look at the expression:\n",
    "\n",
    "3 + 4 * 5\n",
    "\n",
    "Depending on the order in which you do the addition or the multiplication, you will get a different answer (35 or 23). Naturally, as R is just a commputer program, there are rules (_operator precedence_) built in (see the reference notebooks or look it up). However, you can force R to interpret things in whatever order you want by using brackets - R will compute the contents of the brackets before using the result in the rest of the expression.\n",
    "\n",
    "It is good practice to explicitly use brackets in complex expressions even if they are unnecessary to make the expression easier to read and harder to modify incorrectly."
   ]
  },
  {
   "cell_type": "code",
   "execution_count": 20,
   "metadata": {},
   "outputs": [
    {
     "data": {
      "text/html": [
       "23"
      ],
      "text/latex": [
       "23"
      ],
      "text/markdown": [
       "23"
      ],
      "text/plain": [
       "[1] 23"
      ]
     },
     "metadata": {},
     "output_type": "display_data"
    },
    {
     "data": {
      "text/html": [
       "35"
      ],
      "text/latex": [
       "35"
      ],
      "text/markdown": [
       "35"
      ],
      "text/plain": [
       "[1] 35"
      ]
     },
     "metadata": {},
     "output_type": "display_data"
    },
    {
     "data": {
      "text/html": [
       "23"
      ],
      "text/latex": [
       "23"
      ],
      "text/markdown": [
       "23"
      ],
      "text/plain": [
       "[1] 23"
      ]
     },
     "metadata": {},
     "output_type": "display_data"
    }
   ],
   "source": [
    "3 + 4 * 5\n",
    "(3 + 4) * 5\n",
    "3 + (4 * 5)"
   ]
  },
  {
   "cell_type": "markdown",
   "metadata": {},
   "source": [
    "### _Functions_\n",
    "Functions give us the flexibility to do many more things and more complicated things. A function is simply a name that indicates which bit of code is to be used, for example, the print() function just tells R to run the code that someone has called 'print' and mean() just causes R to run the code named 'mean'. As you'll see later, we can name our own code and create our own functions which makes it a lot easier for us to do things many times without having to type all the code in many times, just the name.\n",
    "\n",
    "R distinguishes between names of variables (data in memory) and names of functions (instructions in memory) by requiring parentheses to the end of a function name. Hence, in the code below, you have date() to refer to a function and today to refer to a variable."
   ]
  },
  {
   "cell_type": "code",
   "execution_count": 21,
   "metadata": {},
   "outputs": [
    {
     "data": {
      "text/html": [
       "'Sun Oct 10 12:05:58 2021'"
      ],
      "text/latex": [
       "'Sun Oct 10 12:05:58 2021'"
      ],
      "text/markdown": [
       "'Sun Oct 10 12:05:58 2021'"
      ],
      "text/plain": [
       "[1] \"Sun Oct 10 12:05:58 2021\""
      ]
     },
     "metadata": {},
     "output_type": "display_data"
    }
   ],
   "source": [
    "today <- date()\n",
    "today"
   ]
  },
  {
   "cell_type": "markdown",
   "metadata": {},
   "source": [
    "Functions are available to do almost anything you want to do. There are many built-in functions like date(), print(), plot() and mean() but there are also many additional functions created by the R community, for example, in the tidyverse, there are functions select() which selects a column in a table and filter() which filters specific rows in a table.\n",
    "\n",
    "If all of these functions were built into R, the language would be huge, so they are not inlcuded unless you specifically ask them to be. If you try to use a function that hasn't been inlcuded, you'll get an error message and your code will stop. For example, if you haven't included the tidyverse, select() won't work:"
   ]
  },
  {
   "cell_type": "code",
   "execution_count": 22,
   "metadata": {},
   "outputs": [
    {
     "ename": "ERROR",
     "evalue": "Error in select(): could not find function \"select\"\n",
     "output_type": "error",
     "traceback": [
      "Error in select(): could not find function \"select\"\nTraceback:\n"
     ]
    }
   ],
   "source": [
    "select()"
   ]
  },
  {
   "cell_type": "markdown",
   "metadata": {},
   "source": [
    "### _Libraries_\n",
    "Functions like select() are collected together in 'libraries' which contain a series of related functions. For example, the library 'ggplot2' contains a group of functions that allow you to produce professional quality plots. You include a library by using the library() function:"
   ]
  },
  {
   "cell_type": "code",
   "execution_count": 23,
   "metadata": {},
   "outputs": [
    {
     "name": "stderr",
     "output_type": "stream",
     "text": [
      "-- \u001b[1mAttaching packages\u001b[22m ------------------------------------------------------------------------------- tidyverse 1.3.1 --\n",
      "\n",
      "\u001b[32mv\u001b[39m \u001b[34mggplot2\u001b[39m 3.3.5     \u001b[32mv\u001b[39m \u001b[34mpurrr  \u001b[39m 0.3.4\n",
      "\u001b[32mv\u001b[39m \u001b[34mtibble \u001b[39m 3.1.4     \u001b[32mv\u001b[39m \u001b[34mdplyr  \u001b[39m 1.0.7\n",
      "\u001b[32mv\u001b[39m \u001b[34mtidyr  \u001b[39m 1.1.4     \u001b[32mv\u001b[39m \u001b[34mstringr\u001b[39m 1.4.0\n",
      "\u001b[32mv\u001b[39m \u001b[34mreadr  \u001b[39m 2.0.2     \u001b[32mv\u001b[39m \u001b[34mforcats\u001b[39m 0.5.1\n",
      "\n",
      "-- \u001b[1mConflicts\u001b[22m ---------------------------------------------------------------------------------- tidyverse_conflicts() --\n",
      "\u001b[31mx\u001b[39m \u001b[34mdplyr\u001b[39m::\u001b[32mfilter()\u001b[39m masks \u001b[34mstats\u001b[39m::filter()\n",
      "\u001b[31mx\u001b[39m \u001b[34mdplyr\u001b[39m::\u001b[32mlag()\u001b[39m    masks \u001b[34mstats\u001b[39m::lag()\n",
      "\n"
     ]
    }
   ],
   "source": [
    "library(tidyverse)\n",
    "# detach(package:tidyverse,unload=TRUE)"
   ]
  },
  {
   "cell_type": "markdown",
   "metadata": {},
   "source": [
    "However, you can only include the functions from a library if you have downloaded it onto your computer. You can do this using the install.packages() function. Please note that the tidyverse package is very large and the installation may take some time."
   ]
  },
  {
   "cell_type": "code",
   "execution_count": 24,
   "metadata": {},
   "outputs": [
    {
     "name": "stderr",
     "output_type": "stream",
     "text": [
      "Warning message:\n",
      "\"package 'tidyverse' is in use and will not be installed\"\n"
     ]
    }
   ],
   "source": [
    "install.packages(\"tidyverse\")"
   ]
  },
  {
   "cell_type": "markdown",
   "metadata": {},
   "source": [
    "You only have to do this once - once it has been installed on your computer you can use it from then on just by calling the library() function, for example, library(tidyverse) will make all the tidyverse functions available to your code. For example, you can display the tidyverse logo with the tidyverse_logo() function:"
   ]
  },
  {
   "cell_type": "code",
   "execution_count": 25,
   "metadata": {},
   "outputs": [
    {
     "data": {
      "text/plain": [
       "\u001b[34m\u001b[31m*\u001b[34m __  _    __   \u001b[33m.\u001b[34m    \u001b[32mo\u001b[34m           \u001b[35m*\u001b[34m  \u001b[36m.\u001b[34m \u001b[39m\n",
       "\u001b[34m / /_(_)__/ /_ ___  _____ _______ ___ \u001b[39m\n",
       "\u001b[34m/ __/ / _  / // / |/ / -_) __(_-</ -_)\u001b[39m\n",
       "\u001b[34m\\__/_/\\_,_/\\_, /|___/\\__/_/ /___/\\__/ \u001b[39m\n",
       "\u001b[34m     \u001b[33m*\u001b[34m  \u001b[32m.\u001b[34m /___/      \u001b[37mo\u001b[34m      \u001b[35m.\u001b[34m       \u001b[36m*\u001b[34m \u001b[39m"
      ]
     },
     "metadata": {},
     "output_type": "display_data"
    }
   ],
   "source": [
    "library(tidyverse)\n",
    "tidyverse_logo()"
   ]
  },
  {
   "cell_type": "markdown",
   "metadata": {},
   "source": [
    "We'll do more with the tidyverse later."
   ]
  },
  {
   "cell_type": "markdown",
   "metadata": {},
   "source": [
    "### _Function input and output_\n",
    "\n",
    "In the meantime there are a couple of im;portant points to note about the anatomy of a function. Running a function is known as 'calling' it and you will often hear people mentioning function calls and the like. The tidyverse_logo() function call is the simplest kind, you just specify the name of the thing you want to do and make sure you include the brackets. You can think of the function as a black box that does something - you don't need to know how it does, just that it does it. Sometimes the function will do something, for example, perform a calculation and produce an answer. The date() function works out and produces today's date. The jargon for this is that the function 'returns' the date. If you want, you can think of this as the code 'date()' is replaced by the date string, e.g. 'Thu Oct 07 22:05:10 2021'. Your code can then do anything to the date() result it can do to a string. The simplest thing is to save the returned value to a variable:"
   ]
  },
  {
   "cell_type": "code",
   "execution_count": 26,
   "metadata": {},
   "outputs": [
    {
     "data": {
      "text/html": [
       "'Sun Oct 10 12:06:10 2021'"
      ],
      "text/latex": [
       "'Sun Oct 10 12:06:10 2021'"
      ],
      "text/markdown": [
       "'Sun Oct 10 12:06:10 2021'"
      ],
      "text/plain": [
       "[1] \"Sun Oct 10 12:06:10 2021\""
      ]
     },
     "metadata": {},
     "output_type": "display_data"
    }
   ],
   "source": [
    "now <- date()\n",
    "now"
   ]
  },
  {
   "cell_type": "markdown",
   "metadata": {},
   "source": [
    "The return value is the output from the function / black-box. You may also need to provide inputs to the function, for example, the print() function has an input which is what it displays. This input is specified inside the brackets:"
   ]
  },
  {
   "cell_type": "code",
   "execution_count": 27,
   "metadata": {},
   "outputs": [
    {
     "name": "stdout",
     "output_type": "stream",
     "text": [
      "[1] \"Hello!\"\n"
     ]
    }
   ],
   "source": [
    "print(\"Hello!\")"
   ]
  },
  {
   "cell_type": "markdown",
   "metadata": {},
   "source": [
    "The string, \"Hello!\" is known as a 'parameter' that is 'passed' to the function. You can have more than parameter, for example, the sequence function, seq(), takes two parameters, the start value and the end value of the sequence and then returns a list of values from the first to last value. The order of the parameters is imprtant: seq() expects the start value first and the last value second."
   ]
  },
  {
   "cell_type": "code",
   "execution_count": 28,
   "metadata": {},
   "outputs": [
    {
     "data": {
      "text/html": [
       "<style>\n",
       ".list-inline {list-style: none; margin:0; padding: 0}\n",
       ".list-inline>li {display: inline-block}\n",
       ".list-inline>li:not(:last-child)::after {content: \"\\00b7\"; padding: 0 .5ex}\n",
       "</style>\n",
       "<ol class=list-inline><li>1</li><li>2</li><li>3</li><li>4</li><li>5</li><li>6</li><li>7</li><li>8</li><li>9</li><li>10</li></ol>\n"
      ],
      "text/latex": [
       "\\begin{enumerate*}\n",
       "\\item 1\n",
       "\\item 2\n",
       "\\item 3\n",
       "\\item 4\n",
       "\\item 5\n",
       "\\item 6\n",
       "\\item 7\n",
       "\\item 8\n",
       "\\item 9\n",
       "\\item 10\n",
       "\\end{enumerate*}\n"
      ],
      "text/markdown": [
       "1. 1\n",
       "2. 2\n",
       "3. 3\n",
       "4. 4\n",
       "5. 5\n",
       "6. 6\n",
       "7. 7\n",
       "8. 8\n",
       "9. 9\n",
       "10. 10\n",
       "\n",
       "\n"
      ],
      "text/plain": [
       " [1]  1  2  3  4  5  6  7  8  9 10"
      ]
     },
     "metadata": {},
     "output_type": "display_data"
    },
    {
     "data": {
      "text/html": [
       "<style>\n",
       ".list-inline {list-style: none; margin:0; padding: 0}\n",
       ".list-inline>li {display: inline-block}\n",
       ".list-inline>li:not(:last-child)::after {content: \"\\00b7\"; padding: 0 .5ex}\n",
       "</style>\n",
       "<ol class=list-inline><li>10</li><li>9</li><li>8</li><li>7</li><li>6</li><li>5</li><li>4</li><li>3</li><li>2</li><li>1</li></ol>\n"
      ],
      "text/latex": [
       "\\begin{enumerate*}\n",
       "\\item 10\n",
       "\\item 9\n",
       "\\item 8\n",
       "\\item 7\n",
       "\\item 6\n",
       "\\item 5\n",
       "\\item 4\n",
       "\\item 3\n",
       "\\item 2\n",
       "\\item 1\n",
       "\\end{enumerate*}\n"
      ],
      "text/markdown": [
       "1. 10\n",
       "2. 9\n",
       "3. 8\n",
       "4. 7\n",
       "5. 6\n",
       "6. 5\n",
       "7. 4\n",
       "8. 3\n",
       "9. 2\n",
       "10. 1\n",
       "\n",
       "\n"
      ],
      "text/plain": [
       " [1] 10  9  8  7  6  5  4  3  2  1"
      ]
     },
     "metadata": {},
     "output_type": "display_data"
    }
   ],
   "source": [
    "seq(1, 10)\n",
    "seq(10, 1)"
   ]
  },
  {
   "cell_type": "markdown",
   "metadata": {},
   "source": [
    "If you need to specify other parameters or, if you want to specify them out of order, you can usually name them. For seq(), the parameters are called 'from' and 'to' (and there's a 'by' parameter). You can find out what the parameters are from the help page which you can access from the internet using the ? operator:"
   ]
  },
  {
   "cell_type": "code",
   "execution_count": 29,
   "metadata": {},
   "outputs": [
    {
     "data": {
      "text/html": [
       "<style>\n",
       ".list-inline {list-style: none; margin:0; padding: 0}\n",
       ".list-inline>li {display: inline-block}\n",
       ".list-inline>li:not(:last-child)::after {content: \"\\00b7\"; padding: 0 .5ex}\n",
       "</style>\n",
       "<ol class=list-inline><li>1</li><li>3</li><li>5</li><li>7</li><li>9</li></ol>\n"
      ],
      "text/latex": [
       "\\begin{enumerate*}\n",
       "\\item 1\n",
       "\\item 3\n",
       "\\item 5\n",
       "\\item 7\n",
       "\\item 9\n",
       "\\end{enumerate*}\n"
      ],
      "text/markdown": [
       "1. 1\n",
       "2. 3\n",
       "3. 5\n",
       "4. 7\n",
       "5. 9\n",
       "\n",
       "\n"
      ],
      "text/plain": [
       "[1] 1 3 5 7 9"
      ]
     },
     "metadata": {},
     "output_type": "display_data"
    },
    {
     "data": {
      "text/html": [
       "\n",
       "<table width=\"100%\" summary=\"page for seq {base}\"><tr><td>seq {base}</td><td style=\"text-align: right;\">R Documentation</td></tr></table>\n",
       "\n",
       "<h2>Sequence Generation</h2>\n",
       "\n",
       "<h3>Description</h3>\n",
       "\n",
       "<p>Generate regular sequences.  <code>seq</code> is a standard generic with a\n",
       "default method.  <code>seq.int</code> is a primitive which can be\n",
       "much faster but has a few restrictions.  <code>seq_along</code> and\n",
       "<code>seq_len</code> are very fast primitives for two common cases.\n",
       "</p>\n",
       "\n",
       "\n",
       "<h3>Usage</h3>\n",
       "\n",
       "<pre>\n",
       "seq(...)\n",
       "\n",
       "## Default S3 method:\n",
       "seq(from = 1, to = 1, by = ((to - from)/(length.out - 1)),\n",
       "    length.out = NULL, along.with = NULL, ...)\n",
       "\n",
       "seq.int(from, to, by, length.out, along.with, ...)\n",
       "\n",
       "seq_along(along.with)\n",
       "seq_len(length.out)\n",
       "</pre>\n",
       "\n",
       "\n",
       "<h3>Arguments</h3>\n",
       "\n",
       "<table summary=\"R argblock\">\n",
       "<tr valign=\"top\"><td><code>...</code></td>\n",
       "<td>\n",
       "<p>arguments passed to or from methods.</p>\n",
       "</td></tr>\n",
       "<tr valign=\"top\"><td><code>from, to</code></td>\n",
       "<td>\n",
       "<p>the starting and (maximal) end values of the\n",
       "sequence.  Of length <code>1</code> unless just <code>from</code> is supplied as\n",
       "an unnamed argument.</p>\n",
       "</td></tr>\n",
       "<tr valign=\"top\"><td><code>by</code></td>\n",
       "<td>\n",
       "<p>number: increment of the sequence.</p>\n",
       "</td></tr>\n",
       "<tr valign=\"top\"><td><code>length.out</code></td>\n",
       "<td>\n",
       "<p>desired length of the sequence.  A\n",
       "non-negative number, which for <code>seq</code> and <code>seq.int</code> will be\n",
       "rounded up if fractional.</p>\n",
       "</td></tr>\n",
       "<tr valign=\"top\"><td><code>along.with</code></td>\n",
       "<td>\n",
       "<p>take the length from the length of this argument.</p>\n",
       "</td></tr>\n",
       "</table>\n",
       "\n",
       "\n",
       "<h3>Details</h3>\n",
       "\n",
       "<p>Numerical inputs should all be finite (that is, not infinite,\n",
       "<code>NaN</code> or <code>NA</code>).\n",
       "</p>\n",
       "<p>The interpretation of the unnamed arguments of <code>seq</code> and\n",
       "<code>seq.int</code> is <em>not</em> standard, and it is recommended always to\n",
       "name the arguments when programming.\n",
       "</p>\n",
       "<p><code>seq</code> is  generic, and only the default method is described here.\n",
       "Note that it dispatches on the class of the <strong>first</strong> argument\n",
       "irrespective of argument names.  This can have unintended consequences\n",
       "if it is called with just one argument intending this to be taken as\n",
       "<code>along.with</code>: it is much better to use <code>seq_along</code> in that\n",
       "case.\n",
       "</p>\n",
       "<p><code>seq.int</code> is an internal generic which dispatches on\n",
       "methods for <code>\"seq\"</code> based on the class of the first supplied\n",
       "argument (before argument matching).\n",
       "</p>\n",
       "<p>Typical usages are\n",
       "</p>\n",
       "<pre>seq(from, to)\n",
       "seq(from, to, by= )\n",
       "seq(from, to, length.out= )\n",
       "seq(along.with= )\n",
       "seq(from)\n",
       "seq(length.out= )\n",
       "</pre>\n",
       "<p>The first form generates the sequence <code>from, from+/-1, ..., to</code>\n",
       "(identical to <code>from:to</code>).\n",
       "</p>\n",
       "<p>The second form generates <code>from, from+by</code>, ..., up to the\n",
       "sequence value less than or equal to <code>to</code>.  Specifying <code>to -\n",
       "  from</code> and <code>by</code> of opposite signs is an error.  Note that the\n",
       "computed final value can go just beyond <code>to</code> to allow for\n",
       "rounding error, but is truncated to <code>to</code>.  (&lsquo;Just beyond&rsquo;\n",
       "is by up to <i>1e-10</i> times <code>abs(from - to)</code>.)\n",
       "</p>\n",
       "<p>The third generates a sequence of <code>length.out</code> equally spaced\n",
       "values from <code>from</code> to <code>to</code>.  (<code>length.out</code> is usually\n",
       "abbreviated to <code>length</code> or <code>len</code>, and <code>seq_len</code> is much\n",
       "faster.)\n",
       "</p>\n",
       "<p>The fourth form generates the integer sequence <code>1, 2, ...,\n",
       "    length(along.with)</code>.  (<code>along.with</code> is usually abbreviated to\n",
       "<code>along</code>, and <code>seq_along</code> is much faster.)\n",
       "</p>\n",
       "<p>The fifth form generates the sequence <code>1, 2, ..., length(from)</code>\n",
       "(as if argument <code>along.with</code> had been specified), <em>unless</em>\n",
       "the argument is numeric of length 1 when it is interpreted as\n",
       "<code>1:from</code> (even for <code>seq(0)</code> for compatibility with S).\n",
       "Using either <code>seq_along</code> or <code>seq_len</code> is much preferred\n",
       "(unless strict S compatibility is essential).\n",
       "</p>\n",
       "<p>The final form generates the integer sequence <code>1, 2, ...,\n",
       "  length.out</code> unless <code>length.out = 0</code>, when it generates\n",
       "<code>integer(0)</code>.\n",
       "</p>\n",
       "<p>Very small sequences (with <code>from - to</code> of the order of <i>10^{-14}</i>\n",
       "times the larger of the ends) will return <code>from</code>.\n",
       "</p>\n",
       "<p>For <code>seq</code> (only), up to two of <code>from</code>, <code>to</code> and\n",
       "<code>by</code> can be supplied as complex values provided <code>length.out</code>\n",
       "or <code>along.with</code> is specified.  More generally, the default method\n",
       "of <code>seq</code> will handle classed objects with methods for\n",
       "the <code>Math</code>, <code>Ops</code> and <code>Summary</code> group generics.\n",
       "</p>\n",
       "<p><code>seq.int</code>, <code>seq_along</code> and <code>seq_len</code> are\n",
       "primitive.\n",
       "</p>\n",
       "\n",
       "\n",
       "<h3>Value</h3>\n",
       "\n",
       "<p><code>seq.int</code> and the default method of <code>seq</code> for numeric\n",
       "arguments return a vector of type <code>\"integer\"</code> or <code>\"double\"</code>:\n",
       "programmers should not rely on which.\n",
       "</p>\n",
       "<p><code>seq_along</code> and <code>seq_len</code> return an integer vector, unless\n",
       "it is a <em>long vector</em> when it will be double.\n",
       "</p>\n",
       "\n",
       "\n",
       "<h3>References</h3>\n",
       "\n",
       "<p>Becker, R. A., Chambers, J. M. and Wilks, A. R. (1988)\n",
       "<em>The New S Language</em>.\n",
       "Wadsworth &amp; Brooks/Cole.\n",
       "</p>\n",
       "\n",
       "\n",
       "<h3>See Also</h3>\n",
       "\n",
       "<p>The methods <code>seq.Date</code> and <code>seq.POSIXt</code>.\n",
       "</p>\n",
       "<p><code>:</code>,\n",
       "<code>rep</code>,\n",
       "<code>sequence</code>,\n",
       "<code>row</code>,\n",
       "<code>col</code>.\n",
       "</p>\n",
       "\n",
       "\n",
       "<h3>Examples</h3>\n",
       "\n",
       "<pre>\n",
       "seq(0, 1, length.out = 11)\n",
       "seq(stats::rnorm(20)) # effectively 'along'\n",
       "seq(1, 9, by = 2)     # matches 'end'\n",
       "seq(1, 9, by = pi)    # stays below 'end'\n",
       "seq(1, 6, by = 3)\n",
       "seq(1.575, 5.125, by = 0.05)\n",
       "seq(17) # same as 1:17, or even better seq_len(17)\n",
       "</pre>\n",
       "\n",
       "<hr /><div style=\"text-align: center;\">[Package <em>base</em> version 4.0.5 ]</div>"
      ],
      "text/latex": [
       "\\inputencoding{utf8}\n",
       "\\HeaderA{seq}{Sequence Generation}{seq}\n",
       "\\methaliasA{seq.default}{seq}{seq.default}\n",
       "\\methaliasA{seq.int}{seq}{seq.int}\n",
       "\\aliasA{seq\\_along}{seq}{seq.Rul.along}\n",
       "\\aliasA{seq\\_len}{seq}{seq.Rul.len}\n",
       "\\keyword{manip}{seq}\n",
       "%\n",
       "\\begin{Description}\\relax\n",
       "Generate regular sequences.  \\code{seq} is a standard generic with a\n",
       "default method.  \\code{seq.int} is a primitive which can be\n",
       "much faster but has a few restrictions.  \\code{seq\\_along} and\n",
       "\\code{seq\\_len} are very fast primitives for two common cases.\n",
       "\\end{Description}\n",
       "%\n",
       "\\begin{Usage}\n",
       "\\begin{verbatim}\n",
       "seq(...)\n",
       "\n",
       "## Default S3 method:\n",
       "seq(from = 1, to = 1, by = ((to - from)/(length.out - 1)),\n",
       "    length.out = NULL, along.with = NULL, ...)\n",
       "\n",
       "seq.int(from, to, by, length.out, along.with, ...)\n",
       "\n",
       "seq_along(along.with)\n",
       "seq_len(length.out)\n",
       "\\end{verbatim}\n",
       "\\end{Usage}\n",
       "%\n",
       "\\begin{Arguments}\n",
       "\\begin{ldescription}\n",
       "\\item[\\code{...}] arguments passed to or from methods.\n",
       "\\item[\\code{from, to}] the starting and (maximal) end values of the\n",
       "sequence.  Of length \\code{1} unless just \\code{from} is supplied as\n",
       "an unnamed argument.\n",
       "\\item[\\code{by}] number: increment of the sequence.\n",
       "\\item[\\code{length.out}] desired length of the sequence.  A\n",
       "non-negative number, which for \\code{seq} and \\code{seq.int} will be\n",
       "rounded up if fractional.\n",
       "\\item[\\code{along.with}] take the length from the length of this argument.\n",
       "\\end{ldescription}\n",
       "\\end{Arguments}\n",
       "%\n",
       "\\begin{Details}\\relax\n",
       "Numerical inputs should all be \\LinkA{finite}{finite} (that is, not infinite,\n",
       "\\code{\\LinkA{NaN}{NaN}} or \\code{NA}).\n",
       "\n",
       "The interpretation of the unnamed arguments of \\code{seq} and\n",
       "\\code{seq.int} is \\emph{not} standard, and it is recommended always to\n",
       "name the arguments when programming.\n",
       "\n",
       "\\code{seq} is  generic, and only the default method is described here.\n",
       "Note that it dispatches on the class of the \\strong{first} argument\n",
       "irrespective of argument names.  This can have unintended consequences\n",
       "if it is called with just one argument intending this to be taken as\n",
       "\\code{along.with}: it is much better to use \\code{seq\\_along} in that\n",
       "case.\n",
       "\n",
       "\\code{seq.int} is an \\LinkA{internal generic}{internal generic} which dispatches on\n",
       "methods for \\code{\"seq\"} based on the class of the first supplied\n",
       "argument (before argument matching).\n",
       "\n",
       "Typical usages are\n",
       "\\begin{alltt}seq(from, to)\n",
       "seq(from, to, by= )\n",
       "seq(from, to, length.out= )\n",
       "seq(along.with= )\n",
       "seq(from)\n",
       "seq(length.out= )\n",
       "\\end{alltt}\n",
       "\n",
       "The first form generates the sequence \\code{from, from+/-1, ..., to}\n",
       "(identical to \\code{from:to}).\n",
       "\n",
       "The second form generates \\code{from, from+by}, \\ldots, up to the\n",
       "sequence value less than or equal to \\code{to}.  Specifying \\code{to -\n",
       "  from} and \\code{by} of opposite signs is an error.  Note that the\n",
       "computed final value can go just beyond \\code{to} to allow for\n",
       "rounding error, but is truncated to \\code{to}.  (`Just beyond'\n",
       "is by up to \\eqn{10^{-10}}{} times \\code{abs(from - to)}.)\n",
       "\n",
       "The third generates a sequence of \\code{length.out} equally spaced\n",
       "values from \\code{from} to \\code{to}.  (\\code{length.out} is usually\n",
       "abbreviated to \\code{length} or \\code{len}, and \\code{seq\\_len} is much\n",
       "faster.)\n",
       "\n",
       "The fourth form generates the integer sequence \\code{1, 2, ...,\n",
       "    length(along.with)}.  (\\code{along.with} is usually abbreviated to\n",
       "\\code{along}, and \\code{seq\\_along} is much faster.)\n",
       "\n",
       "The fifth form generates the sequence \\code{1, 2, ..., length(from)}\n",
       "(as if argument \\code{along.with} had been specified), \\emph{unless}\n",
       "the argument is numeric of length 1 when it is interpreted as\n",
       "\\code{1:from} (even for \\code{seq(0)} for compatibility with S).\n",
       "Using either \\code{seq\\_along} or \\code{seq\\_len} is much preferred\n",
       "(unless strict S compatibility is essential).\n",
       "\n",
       "The final form generates the integer sequence \\code{1, 2, ...,\n",
       "  length.out} unless \\code{length.out = 0}, when it generates\n",
       "\\code{integer(0)}.\n",
       "\n",
       "Very small sequences (with \\code{from - to} of the order of \\eqn{10^{-14}}{}\n",
       "times the larger of the ends) will return \\code{from}.\n",
       "\n",
       "For \\code{seq} (only), up to two of \\code{from}, \\code{to} and\n",
       "\\code{by} can be supplied as complex values provided \\code{length.out}\n",
       "or \\code{along.with} is specified.  More generally, the default method\n",
       "of \\code{seq} will handle classed objects with methods for\n",
       "the \\code{Math}, \\code{Ops} and \\code{Summary} group generics.\n",
       "\n",
       "\\code{seq.int}, \\code{seq\\_along} and \\code{seq\\_len} are\n",
       "\\LinkA{primitive}{primitive}.\n",
       "\\end{Details}\n",
       "%\n",
       "\\begin{Value}\n",
       "\\code{seq.int} and the default method of \\code{seq} for numeric\n",
       "arguments return a vector of type \\code{\"integer\"} or \\code{\"double\"}:\n",
       "programmers should not rely on which.\n",
       "\n",
       "\\code{seq\\_along} and \\code{seq\\_len} return an integer vector, unless\n",
       "it is a \\emph{\\LinkA{long vector}{long vector}} when it will be double.\n",
       "\\end{Value}\n",
       "%\n",
       "\\begin{References}\\relax\n",
       "Becker, R. A., Chambers, J. M. and Wilks, A. R. (1988)\n",
       "\\emph{The New S Language}.\n",
       "Wadsworth \\& Brooks/Cole.\n",
       "\\end{References}\n",
       "%\n",
       "\\begin{SeeAlso}\\relax\n",
       "The methods \\code{\\LinkA{seq.Date}{seq.Date}} and \\code{\\LinkA{seq.POSIXt}{seq.POSIXt}}.\n",
       "\n",
       "\\code{\\LinkA{:}{:}},\n",
       "\\code{\\LinkA{rep}{rep}},\n",
       "\\code{\\LinkA{sequence}{sequence}},\n",
       "\\code{\\LinkA{row}{row}},\n",
       "\\code{\\LinkA{col}{col}}.\n",
       "\\end{SeeAlso}\n",
       "%\n",
       "\\begin{Examples}\n",
       "\\begin{ExampleCode}\n",
       "seq(0, 1, length.out = 11)\n",
       "seq(stats::rnorm(20)) # effectively 'along'\n",
       "seq(1, 9, by = 2)     # matches 'end'\n",
       "seq(1, 9, by = pi)    # stays below 'end'\n",
       "seq(1, 6, by = 3)\n",
       "seq(1.575, 5.125, by = 0.05)\n",
       "seq(17) # same as 1:17, or even better seq_len(17)\n",
       "\\end{ExampleCode}\n",
       "\\end{Examples}"
      ],
      "text/plain": [
       "seq                    package:base                    R Documentation\n",
       "\n",
       "_\bS_\be_\bq_\bu_\be_\bn_\bc_\be _\bG_\be_\bn_\be_\br_\ba_\bt_\bi_\bo_\bn\n",
       "\n",
       "_\bD_\be_\bs_\bc_\br_\bi_\bp_\bt_\bi_\bo_\bn:\n",
       "\n",
       "     Generate regular sequences.  'seq' is a standard generic with a\n",
       "     default method.  'seq.int' is a primitive which can be much faster\n",
       "     but has a few restrictions.  'seq_along' and 'seq_len' are very\n",
       "     fast primitives for two common cases.\n",
       "\n",
       "_\bU_\bs_\ba_\bg_\be:\n",
       "\n",
       "     seq(...)\n",
       "     \n",
       "     ## Default S3 method:\n",
       "     seq(from = 1, to = 1, by = ((to - from)/(length.out - 1)),\n",
       "         length.out = NULL, along.with = NULL, ...)\n",
       "     \n",
       "     seq.int(from, to, by, length.out, along.with, ...)\n",
       "     \n",
       "     seq_along(along.with)\n",
       "     seq_len(length.out)\n",
       "     \n",
       "_\bA_\br_\bg_\bu_\bm_\be_\bn_\bt_\bs:\n",
       "\n",
       "     ...: arguments passed to or from methods.\n",
       "\n",
       "from, to: the starting and (maximal) end values of the sequence.  Of\n",
       "          length '1' unless just 'from' is supplied as an unnamed\n",
       "          argument.\n",
       "\n",
       "      by: number: increment of the sequence.\n",
       "\n",
       "length.out: desired length of the sequence.  A non-negative number,\n",
       "          which for 'seq' and 'seq.int' will be rounded up if\n",
       "          fractional.\n",
       "\n",
       "along.with: take the length from the length of this argument.\n",
       "\n",
       "_\bD_\be_\bt_\ba_\bi_\bl_\bs:\n",
       "\n",
       "     Numerical inputs should all be finite (that is, not infinite,\n",
       "     'NaN' or 'NA').\n",
       "\n",
       "     The interpretation of the unnamed arguments of 'seq' and 'seq.int'\n",
       "     is _not_ standard, and it is recommended always to name the\n",
       "     arguments when programming.\n",
       "\n",
       "     'seq' is generic, and only the default method is described here.\n",
       "     Note that it dispatches on the class of the *first* argument\n",
       "     irrespective of argument names.  This can have unintended\n",
       "     consequences if it is called with just one argument intending this\n",
       "     to be taken as 'along.with': it is much better to use 'seq_along'\n",
       "     in that case.\n",
       "\n",
       "     'seq.int' is an internal generic which dispatches on methods for\n",
       "     '\"seq\"' based on the class of the first supplied argument (before\n",
       "     argument matching).\n",
       "\n",
       "     Typical usages are\n",
       "\n",
       "     seq(from, to)\n",
       "     seq(from, to, by= )\n",
       "     seq(from, to, length.out= )\n",
       "     seq(along.with= )\n",
       "     seq(from)\n",
       "     seq(length.out= )\n",
       "     \n",
       "     The first form generates the sequence 'from, from+/-1, ..., to'\n",
       "     (identical to 'from:to').\n",
       "\n",
       "     The second form generates 'from, from+by', ..., up to the sequence\n",
       "     value less than or equal to 'to'.  Specifying 'to - from' and 'by'\n",
       "     of opposite signs is an error.  Note that the computed final value\n",
       "     can go just beyond 'to' to allow for rounding error, but is\n",
       "     truncated to 'to'.  ('Just beyond' is by up to 1e-10 times\n",
       "     'abs(from - to)'.)\n",
       "\n",
       "     The third generates a sequence of 'length.out' equally spaced\n",
       "     values from 'from' to 'to'.  ('length.out' is usually abbreviated\n",
       "     to 'length' or 'len', and 'seq_len' is much faster.)\n",
       "\n",
       "     The fourth form generates the integer sequence '1, 2, ...,\n",
       "     length(along.with)'.  ('along.with' is usually abbreviated to\n",
       "     'along', and 'seq_along' is much faster.)\n",
       "\n",
       "     The fifth form generates the sequence '1, 2, ..., length(from)'\n",
       "     (as if argument 'along.with' had been specified), _unless_ the\n",
       "     argument is numeric of length 1 when it is interpreted as '1:from'\n",
       "     (even for 'seq(0)' for compatibility with S).  Using either\n",
       "     'seq_along' or 'seq_len' is much preferred (unless strict S\n",
       "     compatibility is essential).\n",
       "\n",
       "     The final form generates the integer sequence '1, 2, ...,\n",
       "     length.out' unless 'length.out = 0', when it generates\n",
       "     'integer(0)'.\n",
       "\n",
       "     Very small sequences (with 'from - to' of the order of 10^{-14}\n",
       "     times the larger of the ends) will return 'from'.\n",
       "\n",
       "     For 'seq' (only), up to two of 'from', 'to' and 'by' can be\n",
       "     supplied as complex values provided 'length.out' or 'along.with'\n",
       "     is specified.  More generally, the default method of 'seq' will\n",
       "     handle classed objects with methods for the 'Math', 'Ops' and\n",
       "     'Summary' group generics.\n",
       "\n",
       "     'seq.int', 'seq_along' and 'seq_len' are primitive.\n",
       "\n",
       "_\bV_\ba_\bl_\bu_\be:\n",
       "\n",
       "     'seq.int' and the default method of 'seq' for numeric arguments\n",
       "     return a vector of type '\"integer\"' or '\"double\"': programmers\n",
       "     should not rely on which.\n",
       "\n",
       "     'seq_along' and 'seq_len' return an integer vector, unless it is a\n",
       "     _long vector_ when it will be double.\n",
       "\n",
       "_\bR_\be_\bf_\be_\br_\be_\bn_\bc_\be_\bs:\n",
       "\n",
       "     Becker, R. A., Chambers, J. M. and Wilks, A. R. (1988) _The New S\n",
       "     Language_.  Wadsworth & Brooks/Cole.\n",
       "\n",
       "_\bS_\be_\be _\bA_\bl_\bs_\bo:\n",
       "\n",
       "     The methods 'seq.Date' and 'seq.POSIXt'.\n",
       "\n",
       "     ':', 'rep', 'sequence', 'row', 'col'.\n",
       "\n",
       "_\bE_\bx_\ba_\bm_\bp_\bl_\be_\bs:\n",
       "\n",
       "     seq(0, 1, length.out = 11)\n",
       "     seq(stats::rnorm(20)) # effectively 'along'\n",
       "     seq(1, 9, by = 2)     # matches 'end'\n",
       "     seq(1, 9, by = pi)    # stays below 'end'\n",
       "     seq(1, 6, by = 3)\n",
       "     seq(1.575, 5.125, by = 0.05)\n",
       "     seq(17) # same as 1:17, or even better seq_len(17)\n",
       "     "
      ]
     },
     "metadata": {},
     "output_type": "display_data"
    }
   ],
   "source": [
    "seq(to=10, from=1, by=2)\n",
    "?seq"
   ]
  },
  {
   "cell_type": "markdown",
   "metadata": {},
   "source": [
    "## __Doing more complex things with your data__\n",
    "\n",
    "We can put this together with some simple code and produce a plot using the plot() function - hopefully, the following code should make sense as should the plot function call."
   ]
  },
  {
   "cell_type": "code",
   "execution_count": 30,
   "metadata": {},
   "outputs": [
    {
     "data": {
      "image/png": "[encoded data removed]",
      "text/plain": [
       "plot without title"
      ]
     },
     "metadata": {
      "image/png": {
       "height": 420,
       "width": 420
      }
     },
     "output_type": "display_data"
    }
   ],
   "source": [
    "sequence <- seq(from=-10, to=10, by=0.5)\n",
    "y <- sequence ^ 3\n",
    "plot(x=sequence, y)"
   ]
  },
  {
   "cell_type": "markdown",
   "metadata": {},
   "source": [
    "<div style='background:#ddddcc;border:1px;border-radius:10px;padding:10px;border-style: solid;border-color:dark-gray;'>\n",
    "<h4><i>Exercise: create a suitable sequence and a variable containing the sines\n",
    "    and cosines of the values in that sequence and plot them on the same graph.</i></h4>\n",
    "\n",
    "Two hints:\n",
    "    <ol>\n",
    "        <li>you can change the plot type to lines rather than dots and you can change the colours (see ?plot).</li>\n",
    "        <li>you need to add the second plot to the first (see graphical parameters function, ?par).</li>\n",
    "    </ol>\n",
    "    \n",
    "There is a solution in the box below but you will need to decode it first.\n",
    "</div>"
   ]
  },
  {
   "cell_type": "code",
   "execution_count": 32,
   "metadata": {},
   "outputs": [],
   "source": [
    "# This code will produce a possible solution to the exercise. Simply remove the\n",
    "# commment character from the start of the last line, run this segment and copy\n",
    "# and paste the resulting code into another box or RStudio and run it.\n",
    "# If you do not have caTools installed, you will need to run\n",
    "# install.packages(\"caTools\")\n",
    "# once before you can run this code (i.e. uncomment the above line and run it\n",
    "# once, then recomment the line).\n",
    "library(caTools)\n",
    "decode <- function(string){\n",
    "    cat(base64decode(string, what='character'))\n",
    "}\n",
    "solution <- 'eCA8LSBzZXEoLXBpLCBwaSwgKDIgKiBwaSkvMTAwKQp5MSA8LSBzaW4oeCkKeTIgPC0gY29zKHgpCnBsb3QoeCwgeTEsIHR5cGU9J2wnLCBjb2w9J3JlZCcpCnBhcihuZXc9VFJVRSkKcGxvdCh4LCB5MiwgdHlwZT0nbCcsIGNvbD0nYmx1ZScp'\n",
    "# decode(solution)"
   ]
  },
  {
   "cell_type": "markdown",
   "metadata": {},
   "source": [
    "### _Using code files_\n",
    "\n",
    "We are now beginning to develop a long list of operations that we need to perform to complete our analysis. For a real project you can easily end up with thousands of lines of code. Clearly we are not going to type that in every time nor do we want to cut-and-paste the code. To organise our code tidily we write it into R text files (with an extension .R) which we can open in RStudio and run.\n",
    "\n",
    "You can do this now - start RStudio and create a new project (or use an existing one) and then create a new R Script file. You can copy and paste the text from the box above into the file and save it to disk (you should see it appear in the Files panel on the bottom right of the RStudio window.\n",
    "\n",
    "You can run the code one line at a time using the Run button (or CTRL-ENTER) or the whole file using the Source button.\n",
    "\n",
    "### _Loading code from other files_\n",
    "\n",
    "Sometimes it is useful to separate some code into a different file, for example, you may have a file with display code and and another with data processing code. You might separate all you functions that access data for one morbidity and have data processing for socio-economic status in another file. You can include code from one file in another using the source() function. Where the parameter is the name of the file with the code to be loaded.\n",
    "\n",
    "I have included an R file called, demo.R, with these notebooks which contains a function to display coloured text (using the crayon library) which we can include and run as follows:"
   ]
  },
  {
   "cell_type": "code",
   "execution_count": 33,
   "metadata": {},
   "outputs": [
    {
     "name": "stderr",
     "output_type": "stream",
     "text": [
      "\n",
      "Attaching package: 'crayon'\n",
      "\n",
      "\n",
      "The following object is masked from 'package:ggplot2':\n",
      "\n",
      "    %+%\n",
      "\n",
      "\n"
     ]
    },
    {
     "name": "stdout",
     "output_type": "stream",
     "text": [
      "\u001b[41mThis may come out in red\u001b[49m"
     ]
    }
   ],
   "source": [
    "source('demo.R')\n",
    "redtext('This may come out in red')"
   ]
  },
  {
   "cell_type": "markdown",
   "metadata": {},
   "source": [
    "### _Organising your files_\n",
    "\n",
    "You will most often have a starting file or main file (e.g. analysis.R) in which you write the steps in your analysis and load in the libraries and source files you need. Making this code easy to understand (i.e. making the code easy to read) and easy to use (i.e. well structured so you can add new tests without copying lots of code) are the major benefits you get from writing you own functions.\n",
    "\n",
    "For example, you may end up with an analysis file which reads:\n",
    "\n",
    "`dataset <- load_file('dataset.csv')`\n",
    "\n",
    "`clean_data(dataset, remove_NAs=TRUE)`\n",
    "\n",
    "`calculate_variables(dataset, variable_list)`\n",
    "\n",
    "`t_test_results <- perform_t_tests(dataset, t_test_variable_list)`\n",
    "\n",
    "`plot_variables(dataset, t_test_results)`\n",
    "\n",
    "which is very clear and outlines the steps in your analysis. Only when you need to know the details of what each function does do you have to look at the function definitions. \n",
    "\n",
    "It is a good idea to organise each piece of work in an RStudio project and within the project directory have a place specifically for your code files. This could be an R directory or a source directory with an R subdirectory - whatever works for you - you can always change it later or use a different structure in your next project.\n"
   ]
  },
  {
   "cell_type": "markdown",
   "metadata": {},
   "source": [
    "## __Documenting your code__\n",
    "\n",
    "There are clever ways to automatically generate useful documentation for your code which we will cover later. The simplest thing you can do from the start is to add comments to your code to explain to anyone reading it (your colleagues or you, in a year's time) why you have done what you have done.\n",
    "\n",
    "You don't need to explain what you have done unless it is unusual or especially clever as the code should be written to be as self-documenting as possible but it is often good to explain (where necessary) why and to give an overall sense of the plan or objectives you have in mind.\n",
    "\n",
    "In R you add comments with the '#' operator. R will ignore anything on the line to the right of the '#'."
   ]
  },
  {
   "cell_type": "code",
   "execution_count": 34,
   "metadata": {},
   "outputs": [
    {
     "data": {
      "image/png": "[encoded data removed]",
      "text/plain": [
       "plot without title"
      ]
     },
     "metadata": {
      "image/png": {
       "height": 420,
       "width": 420
      }
     },
     "output_type": "display_data"
    }
   ],
   "source": [
    "# This code will plot the sqrt() function.\n",
    "sequence <- seq(from=0, to=100, by=1)\n",
    "y <- sqrt(sequence)    # You can add a comment to a line.\n",
    "# And before code that you need to comment on.\n",
    "plot(x=sequence, y)"
   ]
  },
  {
   "cell_type": "markdown",
   "metadata": {},
   "source": [
    "One of the most useful comments you can add to a file is a header with some information which allows you to share and discuss code with your colleagues. Such a header should include the name of the file, a quick description of the purpose of the code in the file and an indication of which project it is from. It should also include the name of the author(s) and something that indicates its version (date usually) which is important if you are discussing code with a colleague remotely to avoid confusion if you have different versions of the code. You can also use the comments to help indicate the maximum width of your code lines - I use 80 characters - this helps when you need to compar two code files side-by-side to look for differences (which often happens).\n",
    "\n",
    "For example:"
   ]
  },
  {
   "cell_type": "code",
   "execution_count": 35,
   "metadata": {},
   "outputs": [],
   "source": [
    "# -----------------------------------------------------------------------------\n",
    "# demo.R\n",
    "# A quick demonstration of how to use code in a file with other files.\n",
    "# MSc Health Data Science Jupyter Notebook #1\n",
    "# -----------------------------------------------------------------------------\n",
    "# Pete Arnold\n",
    "# 7 October 2021\n",
    "# -----------------------------------------------------------------------------"
   ]
  },
  {
   "cell_type": "markdown",
   "metadata": {},
   "source": [
    "<div style='background:#ddddcc;border:1px;border-radius:10px;padding:10px;border-style: solid;border-color:dark-gray;'>\n",
    "<h4><i>Exercise: create a project, two files and a function</i></h4>\n",
    "\n",
    "Although these Jupyter notebooks are great for trying things out, it's a good idea to copy the code from here to RStudio to get used to how RStudio works and integrates the git version control system.\n",
    "    \n",
    "Please create a file in a project in RStudio for your exploratory analyses we are going to do in the following notebooks. Also create a separate file for your functions and copy the redtext() function from demo.R and define another function, greentext() that produces green text output. Add the source command to your analysis file and add the code to plot a function (of your choice) and display some text explaining what function is being plotted (using one of your text functions).\n",
    "</div>"
   ]
  },
  {
   "cell_type": "markdown",
   "metadata": {},
   "source": [
    "<table width='100%'><tr>\n",
    "    <td style='background-color:red; text-align:center; color: white;'><!--Foundation<!--hr size='5' style='border-color:red; background-color:red;'--></td>\n",
    "    <td style='background-color:yellow; text-align:center;'><!--Level 1<!--hr size='5' style='border-color:yellow; background-color:yellow;'--></td>\n",
    "    <td style='background-color:orange; text-align:center;'><!--Level 2<!--hr size='5' style='border-color:orange; background-color:orange;'--></td>\n",
    "    <td style='background-color:green; text-align:center; color: white;'><!--Level 3<!--hr size='5' style='border-color:orange; background-color:orange;'--></td>\n",
    "    <td style='background-color:blue; text-align:center; color: white;'><!--Level 4<!--hr size='5' style='border-color:orange; background-color:orange;'--></td>\n",
    "    <td style='background-color:purple; text-align:center; color: white;'><!--Level 5<!--hr size='5' style='border-color:orange; background-color:orange;'--></td>\n",
    "    <td style='background-color:brown; text-align:center; color: white;'><!--Level 6<!--hr size='5' style='border-color:orange; background-color:orange;'--></td>\n",
    "    <td style='background-color:black; text-align:center; color: white;'><!--Level 7<!--hr size='5' style='border-color:orange; background-color:orange;'--></td>\n",
    "</tr></table>"
   ]
  }
 ],
 "metadata": {
  "kernelspec": {
   "display_name": "R",
   "language": "R",
   "name": "ir"
  },
  "language_info": {
   "codemirror_mode": "r",
   "file_extension": ".r",
   "mimetype": "text/x-r-source",
   "name": "R",
   "pygments_lexer": "r",
   "version": "4.1.1"
  }
 },
 "nbformat": 4,
 "nbformat_minor": 4
}
