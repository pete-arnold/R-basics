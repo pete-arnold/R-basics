{
 "cells": [
  {
   "cell_type": "markdown",
   "metadata": {},
   "source": [
    "<table width='100%'><tr>\n",
    "    <td style='background-color:red; text-align:center; color: white;'><!--Foundation<!--hr size='5' style='border-color:red; background-color:red;'--></td>\n",
    "    <td style='background-color:yellow; text-align:center;'><!--Level 1<!--hr size='5' style='border-color:yellow; background-color:yellow;'--></td>\n",
    "    <td style='background-color:orange; text-align:center;'><!--Level 2<!--hr size='5' style='border-color:orange; background-color:orange;'--></td>\n",
    "    <td style='background-color:green; text-align:center; color: white;'><!--Level 3<!--hr size='5' style='border-color:orange; background-color:orange;'--></td>\n",
    "    <td style='background-color:blue; text-align:center; color: white;'><!--Level 4<!--hr size='5' style='border-color:orange; background-color:orange;'--></td>\n",
    "    <td style='background-color:purple; text-align:center; color: white;'><!--Level 5<!--hr size='5' style='border-color:orange; background-color:orange;'--></td>\n",
    "    <td style='background-color:brown; text-align:center; color: white;'><!--Level 6<!--hr size='5' style='border-color:orange; background-color:orange;'--></td>\n",
    "    <td style='background-color:black; text-align:center; color: white;'><!--Level 7<!--hr size='5' style='border-color:orange; background-color:orange;'--></td>\n",
    "</tr></table>"
   ]
  },
  {
   "cell_type": "markdown",
   "metadata": {},
   "source": [
    "<table style='border-left:10px solid yellow;'><tr>\n",
    "    <td style='padding-left:20px;'>\n",
    "        <h2><i>Swansea University Medical School</i><br/><b>MSc Health Data Science</b></h2>\n",
    "        <h3>PMIM-102 Introduction to Scientific Computing in Healthcare</h3>\n",
    "        <h1><b>R programming</b></h1>\n",
    "        <h2><i>Part 6: Github &amp; Safe researcher training.</i></h2>\n",
    "        <h3><i>October 2021</i></h3>\n",
    "        <h3><b>To-do</b></h3>\n",
    "        <ul>\n",
    "            <li>Nothing.</li>\n",
    "        </ul>\n",
    "    </td>\n",
    "    <td><img height='300' width='500' src='images/cover.jpg'/></td>\n",
    "</tr></table>"
   ]
  },
  {
   "cell_type": "markdown",
   "metadata": {},
   "source": [
    "## __Aim__: Learn how to make the computer do what we want and get information from the data\n",
    "\n",
    "The aim of this session is to introduce the basic principles of programming using <code>R</code>.\n",
    "\n",
    "### __A map of where we're going__\n",
    "\n",
    "1. __From calculator to computer__ - numbers (__variables__) and how to do things to them (__operators, expressions and functions__) and organise things (__programs, files and libraries__).\n",
    "\n",
    "1. __Tables of data__ - how to organise data-science type datasets (vectors, lists and data frames).\n",
    "\n",
    "1. __What R is good at__ - doing things on all the data at the same time.\n",
    "\n",
    "1. __Customising your code__ - making repetition easier to do, to read and to write.\n",
    "\n",
    "1. __Controlling the computer when you have to__ - control techniques - loops (do ... while), conditions (if ... else).\n",
    "\n",
    "1. <div style=\"background-color:yellow;\"><b>Github &amp; Safe researcher training</b> working together and things you need to know to ensure that you don't disclose personal data.<br/></div><br/>"
   ]
  },
  {
   "cell_type": "markdown",
   "metadata": {},
   "source": [
    "## __Github__\n",
    "\n",
    "You should have seen and be able to create &amp; use a git version control repository for each of your projects. Git becomes considerably more powerful when used to work in a collaborative/team environment. If you can use a repository in the cloud, then you can share code with other people all over the world.\n",
    "\n",
    "The is what Github provides.\n",
    "\n",
    "So that you can work even if you are disconnected from the internet, you will maintain a copy of the shared repository on your computer as well as the copy on the cloud. Anyone else using your code will also make a copy on their computer. This process is called cloning.\n",
    "\n",
    "Once you have cloned the repository to your computer you can use it just like you would your own repository via the normal git tools in RStudio.\n",
    "\n",
    "But when you want to share your changes with the team, you need to send them back up to the repository in the cloud. This is known as pushing. When you commit a local change, you will have the option to push the change to the cloud repository. Once you have done that, then everyone else with access will be able to download your changes. This downloading process is known as pulling.\n",
    "\n",
    "You will need to pull the latest version before you can push your version to the cloud repository. When you do this, you may find you and someone else have made changes to the same piece of code. This is a 'conflict' and you will need to resolve it before you can commit and push. THat simply means you will have to decide which code stays and which is removed.\n",
    "\n",
    "To have access to Github and the module repository, you will need a free Gthub account."
   ]
  },
  {
   "cell_type": "markdown",
   "metadata": {},
   "source": [
    "<div style='background:#ddddcc;border:1px;border-radius:10px;padding:10px;border-style: solid;border-color:dark-gray;'>\n",
    "<h4><i>Exercise: create a Github account.</i></h4>\n",
    "    \n",
    "Go to [Github](https://github.com), click on the 'Sign up' button and follow the instructions.\n",
    "    \n",
    "Once signed-up, please try access [my Github repository](https://github.com/pete-arnold/data-science). Request collaborator access and/or send me your user-name for Github and I will add you to the list.\n",
    "</div>"
   ]
  },
  {
   "cell_type": "markdown",
   "metadata": {},
   "source": [
    "## __Ethical issues with health data__\n",
    "\n",
    "It should be clear that people will not want their personal health data made available publically. Consequently, there are many issues with using and reporting analyses and data in the health domain.\n",
    "\n",
    "These generally fall into two categories: keeping things legal and being trustworthy.\n",
    "\n"
   ]
  },
  {
   "cell_type": "markdown",
   "metadata": {},
   "source": [
    "### _Legalities_\n",
    "\n",
    "At the end of the day, responsibility for keeping your work legal lies with you. The same thing applies to the people working with you and providing data to you so there will be several processes involved in keeping data legal and safe.\n",
    "\n",
    "The general ideas around this are described by the Five Safes - this is described in an [ONS blog](https://blog.ons.gov.uk/2017/01/27/the-five-safes-data-privacy-at-ons/).\n",
    "\n",
    "#### _Safe Researcher Training_\n",
    "We are hoping that you will have an opportunity to work inside the [SAIL Databank](https://saildatabank.com), a secure data repository, here in Swansea. In order to do that you will be required to provide your CV and complete some training about the legal requirements (mostly related to GDPR). This training is online, free and quite short, you should be able to complete it in a few hours. Once you have done the training, you can complete the quiz. Keep the certificate from the quiz which you will need in order to get the security key you need to provide you with access to the virtual computer system that SAIL uses.\n",
    "\n",
    "The training (specifically \"MRC’s Research, GDPR and confidentiality – what you really need to know\") can be found on the [UKRI/MRC's byglearning site](https://byglearning.com/mrcrsc-lms/course/index.php?categoryid=1). Once you have completed the training, you will be able to download your certificate from the certificates section of your profile."
   ]
  },
  {
   "cell_type": "markdown",
   "metadata": {},
   "source": [
    "<div style='background:#ddddcc;border:1px;border-radius:10px;padding:10px;border-style: solid;border-color:dark-gray;'>\n",
    "<h4><i>Exercise: complete the Safe Researcher training.</i></h4>\n",
    "    \n",
    "Go to https://byglearning.com/mrcrsc-lms/course/index.php?categoryid=1, create an account, log-in to the site and complete the training and quiz (_MRC’s Research, GDPR and confidentiality – what you really need to know_).\n",
    "</div>"
   ]
  },
  {
   "cell_type": "markdown",
   "metadata": {},
   "source": [
    "<div style='background:#ddcccc;border:1px;border-radius:10px;padding:10px;border-style: solid;border-color:dark-gray;'>\n",
    "<h4><i>Note: this training is REALLY IMPORTANT although you do not need it for this teaching week, you will need it later in the course.</i></h4>\n",
    "\n",
    "It might not seem so important that you need to __know__ about these legal issues, but, as I mentioned, at the end of the day __you__ are responsible for your activity. The processes put in place in SAIL and elsewhere are there to help make this work safer, but you are still legally obliged to make  sure you are doing your part.\n",
    "    \n",
    "<b>And do not be tempted to break the rules - if you do, you may be excluded from SAIL and other safe data repositories permanently.</b>\n",
    "    \n",
    "Do not write down information from the gateway; do not show the data to people not directly involved in your project and with SAIL access, anything that you want a copy from the gateway, including results and code, you MUST request using SAIL's file-out system \n",
    "</div>"
   ]
  },
  {
   "cell_type": "markdown",
   "metadata": {},
   "source": [
    "### _Trustworthiness_\n",
    "\n",
    "As well as the directly relevant legal issues, there are longer term issues that impact the way data science processes are implemented. These have been addressed by Professor Spiegelhalter and applied to the reporting of work throughout the Covid pandemic.\n",
    "\n",
    "The upshot is, that it is not just about being legal, it is about being trustworthy and that is a long-term process of demonstrating that you, your data and your analyses are safe and robust and trustworthy.\n",
    "\n",
    "You can read some of Prof. Spiegelhalter's papers online, for example, [The effects of communicating uncertainty on public trust in facts and numbers](https://www.pnas.org/content/117/14/7672)."
   ]
  },
  {
   "cell_type": "markdown",
   "metadata": {},
   "source": [
    "### __The SAIL Databank__\n",
    "\n",
    "The SAIL Databank is a safe-haven repository for many datasets covering Wales and beyond and health and administrative data. Access is provided to researchers on a project by project basis using virtual desktops (the Gateway, using VMWare software) and a secure key device.\n",
    "\n",
    "There are also some papers which describe SAIL and how the linkage process works, for example, [The SAIL Databank: building a national architecture for e-health research and evaluation](https://pubmed.ncbi.nlm.nih.gov/19732426/) and [The SAIL databank: linking multiple health and social care datasets](https://pubmed.ncbi.nlm.nih.gov/19149883/).\n",
    "\n",
    "For an overview of the process see [Secure eResearch Platform](https://serp.ac.uk/wp-content/uploads/2021/01/SeRP_Brochure_AW-spreads-No-Bleed.pdf) and, for a more technical overview, [Taming the Octopus](https://community.jisc.ac.uk/system/files/515/NHS-HE%20Simon%20Thompson.pdf)."
   ]
  },
  {
   "cell_type": "markdown",
   "metadata": {},
   "source": [
    "<table width='100%'><tr>\n",
    "    <td style='background-color:red; text-align:center; color: white;'><!--Foundation<!--hr size='5' style='border-color:red; background-color:red;'--></td>\n",
    "    <td style='background-color:yellow; text-align:center;'><!--Level 1<!--hr size='5' style='border-color:yellow; background-color:yellow;'--></td>\n",
    "    <td style='background-color:orange; text-align:center;'><!--Level 2<!--hr size='5' style='border-color:orange; background-color:orange;'--></td>\n",
    "    <td style='background-color:green; text-align:center; color: white;'><!--Level 3<!--hr size='5' style='border-color:orange; background-color:orange;'--></td>\n",
    "    <td style='background-color:blue; text-align:center; color: white;'><!--Level 4<!--hr size='5' style='border-color:orange; background-color:orange;'--></td>\n",
    "    <td style='background-color:purple; text-align:center; color: white;'><!--Level 5<!--hr size='5' style='border-color:orange; background-color:orange;'--></td>\n",
    "    <td style='background-color:brown; text-align:center; color: white;'><!--Level 6<!--hr size='5' style='border-color:orange; background-color:orange;'--></td>\n",
    "    <td style='background-color:black; text-align:center; color: white;'><!--Level 7<!--hr size='5' style='border-color:orange; background-color:orange;'--></td>\n",
    "</tr></table>"
   ]
  }
 ],
 "metadata": {
  "kernelspec": {
   "display_name": "R",
   "language": "R",
   "name": "ir"
  },
  "language_info": {
   "codemirror_mode": "r",
   "file_extension": ".r",
   "mimetype": "text/x-r-source",
   "name": "R",
   "pygments_lexer": "r",
   "version": "4.0.5"
  }
 },
 "nbformat": 4,
 "nbformat_minor": 4
}
